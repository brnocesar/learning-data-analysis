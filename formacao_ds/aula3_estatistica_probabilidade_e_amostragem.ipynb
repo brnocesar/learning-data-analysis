{
  "nbformat": 4,
  "nbformat_minor": 0,
  "metadata": {
    "colab": {
      "name": "aula3-estatistica-probabilidade_e_amostragem.ipynb",
      "provenance": [],
      "collapsed_sections": [
        "87R8qYh5WDqk",
        "zSW6-OGmRjEQ",
        "geDopN2yRszf",
        "M5Djq4R3Uo_r",
        "HJqF_Q0FUtAo",
        "gyzrjcACU-_B",
        "P2-2UI97VE4u",
        "bp1UAioUVNSE",
        "0e97wiZQTgn7",
        "URB5-GWOIb-F",
        "Qe08TVgAJ6B2",
        "Y2Tw5TcJLZjK",
        "2m7i5eqzfM1J",
        "2RdtChCCA1mV",
        "Xzk9cQgUBIFY",
        "8o930UQdC4Do",
        "O9oqOvZdDA0e",
        "oPLGfBBaDINV",
        "ryuhtFH0Lfah",
        "0O8Zul0k9z6w",
        "VEMRkp2DLne2",
        "5x8GnILtLnSo",
        "W8_m6akaLm4t",
        "vPvv2_tgLm0c",
        "K_QXukGGLmqC",
        "3H01f_OoEcXe",
        "xb2iIFdSCPD8",
        "E6XqHTYBjD-l",
        "QnEXNbZmCZZj",
        "jYweUbJyCdD7",
        "HMo7Wz0BCk0f",
        "IruJ6-i6GTrY",
        "TGTdy9YkEkai",
        "Y5aMAQTWIK9k",
        "YFO4Gh-SWuu8",
        "S5WYPBUpIQPY",
        "dOycN_OTXCah",
        "BIDo3uH_mpCk",
        "zGsDQJk8oWW9",
        "yRgEQiz-1cFn",
        "4XmtdRBL4p-v",
        "R6veRWWK5CC8",
        "qNO5Pk7-6GU7",
        "tkYFJVeH7Xpm",
        "05hP2rUX7l4q",
        "oaQn609b7rjM",
        "db4MOr2y7y1i",
        "xjwItpcN74nS"
      ]
    },
    "kernelspec": {
      "name": "python3",
      "display_name": "Python 3"
    },
    "language_info": {
      "name": "python"
    }
  },
  "cells": [
    {
      "cell_type": "markdown",
      "source": [
        "# Aula 3 - Estatística parte 2: probabilidade e amostragem"
      ],
      "metadata": {
        "id": "GADml4F6RPWL"
      }
    },
    {
      "cell_type": "code",
      "execution_count": 1,
      "metadata": {
        "id": "2R0H_uIfQiO-"
      },
      "outputs": [],
      "source": [
        "import pandas as pd\n",
        "import numpy as np\n",
        "import seaborn as sns\n",
        "import matplotlib.pyplot as plt\n",
        "%matplotlib inline\n",
        "from scipy import stats, special, math\n",
        "\n",
        "random_state_geral = 101"
      ]
    },
    {
      "cell_type": "markdown",
      "source": [
        "## 1 _Dataset_ utilizado\n",
        "\n",
        "Vamos usar o mesmo _dataset_ da parte 1 de estatística, criado a partir dos microdados do PNAD 2015."
      ],
      "metadata": {
        "id": "87R8qYh5WDqk"
      }
    },
    {
      "cell_type": "code",
      "source": [
        "df = pd.read_csv(\"dados/aula2_pnad_2015.csv\")\n",
        "df.columns = [i.replace(' ', '_').lower() for i in df.columns]\n",
        "df"
      ],
      "metadata": {
        "colab": {
          "base_uri": "https://localhost:8080/",
          "height": 0
        },
        "id": "Uaw2O_EpWsZw",
        "outputId": "7b28f05d-d0c9-413c-de06-107f51c8f538"
      },
      "execution_count": 2,
      "outputs": [
        {
          "output_type": "execute_result",
          "data": {
            "text/plain": [
              "       uf  sexo  idade  cor  anos_de_estudo  renda    altura\n",
              "0      11     0     23    8              12    800  1.603808\n",
              "1      11     1     23    2              12   1150  1.739790\n",
              "2      11     1     35    8              15    880  1.760444\n",
              "3      11     0     46    2               6   3500  1.783158\n",
              "4      11     1     47    8               9    150  1.690631\n",
              "...    ..   ...    ...  ...             ...    ...       ...\n",
              "76835  53     1     46    2              11    812  1.687030\n",
              "76836  53     0     30    4               7   1500  1.792934\n",
              "76837  53     0     32    8              12   1300  1.830587\n",
              "76838  53     0     57    8               4   1500  1.726344\n",
              "76839  53     0     38    8               4    900  1.658305\n",
              "\n",
              "[76840 rows x 7 columns]"
            ],
            "text/html": [
              "\n",
              "  <div id=\"df-06195bea-a995-4dfb-a5c6-e5d9c6c9c96a\">\n",
              "    <div class=\"colab-df-container\">\n",
              "      <div>\n",
              "<style scoped>\n",
              "    .dataframe tbody tr th:only-of-type {\n",
              "        vertical-align: middle;\n",
              "    }\n",
              "\n",
              "    .dataframe tbody tr th {\n",
              "        vertical-align: top;\n",
              "    }\n",
              "\n",
              "    .dataframe thead th {\n",
              "        text-align: right;\n",
              "    }\n",
              "</style>\n",
              "<table border=\"1\" class=\"dataframe\">\n",
              "  <thead>\n",
              "    <tr style=\"text-align: right;\">\n",
              "      <th></th>\n",
              "      <th>uf</th>\n",
              "      <th>sexo</th>\n",
              "      <th>idade</th>\n",
              "      <th>cor</th>\n",
              "      <th>anos_de_estudo</th>\n",
              "      <th>renda</th>\n",
              "      <th>altura</th>\n",
              "    </tr>\n",
              "  </thead>\n",
              "  <tbody>\n",
              "    <tr>\n",
              "      <th>0</th>\n",
              "      <td>11</td>\n",
              "      <td>0</td>\n",
              "      <td>23</td>\n",
              "      <td>8</td>\n",
              "      <td>12</td>\n",
              "      <td>800</td>\n",
              "      <td>1.603808</td>\n",
              "    </tr>\n",
              "    <tr>\n",
              "      <th>1</th>\n",
              "      <td>11</td>\n",
              "      <td>1</td>\n",
              "      <td>23</td>\n",
              "      <td>2</td>\n",
              "      <td>12</td>\n",
              "      <td>1150</td>\n",
              "      <td>1.739790</td>\n",
              "    </tr>\n",
              "    <tr>\n",
              "      <th>2</th>\n",
              "      <td>11</td>\n",
              "      <td>1</td>\n",
              "      <td>35</td>\n",
              "      <td>8</td>\n",
              "      <td>15</td>\n",
              "      <td>880</td>\n",
              "      <td>1.760444</td>\n",
              "    </tr>\n",
              "    <tr>\n",
              "      <th>3</th>\n",
              "      <td>11</td>\n",
              "      <td>0</td>\n",
              "      <td>46</td>\n",
              "      <td>2</td>\n",
              "      <td>6</td>\n",
              "      <td>3500</td>\n",
              "      <td>1.783158</td>\n",
              "    </tr>\n",
              "    <tr>\n",
              "      <th>4</th>\n",
              "      <td>11</td>\n",
              "      <td>1</td>\n",
              "      <td>47</td>\n",
              "      <td>8</td>\n",
              "      <td>9</td>\n",
              "      <td>150</td>\n",
              "      <td>1.690631</td>\n",
              "    </tr>\n",
              "    <tr>\n",
              "      <th>...</th>\n",
              "      <td>...</td>\n",
              "      <td>...</td>\n",
              "      <td>...</td>\n",
              "      <td>...</td>\n",
              "      <td>...</td>\n",
              "      <td>...</td>\n",
              "      <td>...</td>\n",
              "    </tr>\n",
              "    <tr>\n",
              "      <th>76835</th>\n",
              "      <td>53</td>\n",
              "      <td>1</td>\n",
              "      <td>46</td>\n",
              "      <td>2</td>\n",
              "      <td>11</td>\n",
              "      <td>812</td>\n",
              "      <td>1.687030</td>\n",
              "    </tr>\n",
              "    <tr>\n",
              "      <th>76836</th>\n",
              "      <td>53</td>\n",
              "      <td>0</td>\n",
              "      <td>30</td>\n",
              "      <td>4</td>\n",
              "      <td>7</td>\n",
              "      <td>1500</td>\n",
              "      <td>1.792934</td>\n",
              "    </tr>\n",
              "    <tr>\n",
              "      <th>76837</th>\n",
              "      <td>53</td>\n",
              "      <td>0</td>\n",
              "      <td>32</td>\n",
              "      <td>8</td>\n",
              "      <td>12</td>\n",
              "      <td>1300</td>\n",
              "      <td>1.830587</td>\n",
              "    </tr>\n",
              "    <tr>\n",
              "      <th>76838</th>\n",
              "      <td>53</td>\n",
              "      <td>0</td>\n",
              "      <td>57</td>\n",
              "      <td>8</td>\n",
              "      <td>4</td>\n",
              "      <td>1500</td>\n",
              "      <td>1.726344</td>\n",
              "    </tr>\n",
              "    <tr>\n",
              "      <th>76839</th>\n",
              "      <td>53</td>\n",
              "      <td>0</td>\n",
              "      <td>38</td>\n",
              "      <td>8</td>\n",
              "      <td>4</td>\n",
              "      <td>900</td>\n",
              "      <td>1.658305</td>\n",
              "    </tr>\n",
              "  </tbody>\n",
              "</table>\n",
              "<p>76840 rows × 7 columns</p>\n",
              "</div>\n",
              "      <button class=\"colab-df-convert\" onclick=\"convertToInteractive('df-06195bea-a995-4dfb-a5c6-e5d9c6c9c96a')\"\n",
              "              title=\"Convert this dataframe to an interactive table.\"\n",
              "              style=\"display:none;\">\n",
              "        \n",
              "  <svg xmlns=\"http://www.w3.org/2000/svg\" height=\"24px\"viewBox=\"0 0 24 24\"\n",
              "       width=\"24px\">\n",
              "    <path d=\"M0 0h24v24H0V0z\" fill=\"none\"/>\n",
              "    <path d=\"M18.56 5.44l.94 2.06.94-2.06 2.06-.94-2.06-.94-.94-2.06-.94 2.06-2.06.94zm-11 1L8.5 8.5l.94-2.06 2.06-.94-2.06-.94L8.5 2.5l-.94 2.06-2.06.94zm10 10l.94 2.06.94-2.06 2.06-.94-2.06-.94-.94-2.06-.94 2.06-2.06.94z\"/><path d=\"M17.41 7.96l-1.37-1.37c-.4-.4-.92-.59-1.43-.59-.52 0-1.04.2-1.43.59L10.3 9.45l-7.72 7.72c-.78.78-.78 2.05 0 2.83L4 21.41c.39.39.9.59 1.41.59.51 0 1.02-.2 1.41-.59l7.78-7.78 2.81-2.81c.8-.78.8-2.07 0-2.86zM5.41 20L4 18.59l7.72-7.72 1.47 1.35L5.41 20z\"/>\n",
              "  </svg>\n",
              "      </button>\n",
              "      \n",
              "  <style>\n",
              "    .colab-df-container {\n",
              "      display:flex;\n",
              "      flex-wrap:wrap;\n",
              "      gap: 12px;\n",
              "    }\n",
              "\n",
              "    .colab-df-convert {\n",
              "      background-color: #E8F0FE;\n",
              "      border: none;\n",
              "      border-radius: 50%;\n",
              "      cursor: pointer;\n",
              "      display: none;\n",
              "      fill: #1967D2;\n",
              "      height: 32px;\n",
              "      padding: 0 0 0 0;\n",
              "      width: 32px;\n",
              "    }\n",
              "\n",
              "    .colab-df-convert:hover {\n",
              "      background-color: #E2EBFA;\n",
              "      box-shadow: 0px 1px 2px rgba(60, 64, 67, 0.3), 0px 1px 3px 1px rgba(60, 64, 67, 0.15);\n",
              "      fill: #174EA6;\n",
              "    }\n",
              "\n",
              "    [theme=dark] .colab-df-convert {\n",
              "      background-color: #3B4455;\n",
              "      fill: #D2E3FC;\n",
              "    }\n",
              "\n",
              "    [theme=dark] .colab-df-convert:hover {\n",
              "      background-color: #434B5C;\n",
              "      box-shadow: 0px 1px 3px 1px rgba(0, 0, 0, 0.15);\n",
              "      filter: drop-shadow(0px 1px 2px rgba(0, 0, 0, 0.3));\n",
              "      fill: #FFFFFF;\n",
              "    }\n",
              "  </style>\n",
              "\n",
              "      <script>\n",
              "        const buttonEl =\n",
              "          document.querySelector('#df-06195bea-a995-4dfb-a5c6-e5d9c6c9c96a button.colab-df-convert');\n",
              "        buttonEl.style.display =\n",
              "          google.colab.kernel.accessAllowed ? 'block' : 'none';\n",
              "\n",
              "        async function convertToInteractive(key) {\n",
              "          const element = document.querySelector('#df-06195bea-a995-4dfb-a5c6-e5d9c6c9c96a');\n",
              "          const dataTable =\n",
              "            await google.colab.kernel.invokeFunction('convertToInteractive',\n",
              "                                                     [key], {});\n",
              "          if (!dataTable) return;\n",
              "\n",
              "          const docLinkHtml = 'Like what you see? Visit the ' +\n",
              "            '<a target=\"_blank\" href=https://colab.research.google.com/notebooks/data_table.ipynb>data table notebook</a>'\n",
              "            + ' to learn more about interactive tables.';\n",
              "          element.innerHTML = '';\n",
              "          dataTable['output_type'] = 'display_data';\n",
              "          await google.colab.output.renderOutput(dataTable, element);\n",
              "          const docLink = document.createElement('div');\n",
              "          docLink.innerHTML = docLinkHtml;\n",
              "          element.appendChild(docLink);\n",
              "        }\n",
              "      </script>\n",
              "    </div>\n",
              "  </div>\n",
              "  "
            ]
          },
          "metadata": {},
          "execution_count": 2
        }
      ]
    },
    {
      "cell_type": "markdown",
      "source": [
        "## 2 Distribuição de probabilidades"
      ],
      "metadata": {
        "id": "zSW6-OGmRjEQ"
      }
    },
    {
      "cell_type": "markdown",
      "source": [
        "### 2.1 Distribuição Binomial\n",
        "\n",
        "Um evento **binomial** é caracterizado pela possibilidade de ocorrência de apenas **duas categorias**. Estas categorias somadas representam todo o espaço amostral (número de ocorrências/combinações possíveis de um experiemnto), sendo também mutuamente excludentes, ou seja, a ocorrência de uma implica na não ocorrência da outra."
      ],
      "metadata": {
        "id": "geDopN2yRszf"
      }
    },
    {
      "cell_type": "markdown",
      "source": [
        "Para entender melhor o que é espaço amostral vamos pensar no lançamento de uma moeda como exemplo. Quando a lançamos para o alto, podemos ter como resultado Coroa ou Cara, ou seja, temos duas possibilidades de resultado e dizemos que o espaço amostral desse experimento tem tamanho 2, sendo considerado um evento binomial.\n",
        "\n",
        "Outro exemplo simples é o lançamento de um dado normal, com seis faces. Se os resultados possíveis forem quaisquer um dos lados cairem virados para cima, então o espaço amostral do experimento é de tamanho 6, não sendo classificado como binomial. Agora, se os resultados possíveis forem faces com número par ou ímpar, então passamos a ter um evento binomial.\n",
        "\n",
        "Em análises estatísticas o uso mais comum da distribuição binomial é na solução de problemas que envolvem situações de **sucesso** e **fracasso**. Podemos calcular a probabilidade de obter sucesso em $k$ de $n$ ensaios com a fórmula:\n",
        "\n",
        "$$ P(k)=\\binom{n}{k} p^k q^{n-k} $$\n",
        "\n",
        "Onde:\n",
        "\n",
        "- $\\binom{n}{k}$ é o número de combinações possíveis de $n$ objetos, tomados $k$ a cada vez. Lê-se _\"combinação de n k a k\"_\n",
        "- $p$ a probabilidade de sucesso;\n",
        "- $q = (1 - p)$ a probabilidade de fracasso;\n",
        "- $n$ o número de eventos estudados; e\n",
        "- $k$ é o número de eventos desejados que tenham sucesso\n",
        "\n",
        "Voltando ao exemplo da moeda, a probabilidade de sucesso para lançamentos que resultem em Cara é de 50% de chances, já que existem apenas dois resultados possíveis\n",
        "\n",
        "#### 2.1.1 Experimento Binomial\n",
        "\n",
        "As características que definem um experimento binomial são:\n",
        "\n",
        "1. Realização de $n$ ensaios idênticos.\n",
        "2. Os ensaios são independentes.\n",
        "3. Somente dois resultados são possíveis, exemplo: Verdadeiro ou falso; Cara ou coroa; Sucesso ou fracasso.\n",
        "4. A probabilidade de sucesso é representada por $p$ e a de fracasso por $1-p=q$. Estas probabilidades não se modificam de ensaio para ensaio.\n",
        "\n",
        "#### 2.1.2 Média da distribuição binomial\n",
        "\n",
        "O _valor esperado_ ou a _média da distribuição binomial_ é igual ao número de experimentos realizados multiplicado pela chance de ocorrência do evento.\n",
        "\n",
        "$$\\mu = n \\; p$$\n",
        "\n",
        "#### 2.1.3 Desvio padrão da distribuição binomial\n",
        "\n",
        "O desvio padrão é o produto entre o número de experimentos, a probabilidade de sucesso e a probabilidade de fracasso.\n",
        "\n",
        "$$\\sigma = \\sqrt{n \\; p \\; q}$$\n",
        "\n",
        "#### 2.1.4 Combinações\n",
        "\n",
        "Número de combinações de $n$ objetos, tomados $k$ a cada vez, é:\n",
        "\n",
        "$$C_{k}^{n} = \\binom{n}{k} = \\frac{n!}{k!(n - k)!}$$\n",
        "\n",
        "Onde\n",
        "\n",
        "$$n! = n\\times(n-1)\\times(n-2)\\times...\\times(2)\\times(1)$$\n",
        "$$k! = k\\times(k-1)\\times(k-2)\\times...\\times(2)\\times(1)$$\n",
        "\n",
        "Por definição\n",
        "\n",
        "$$0! = 1$$"
      ],
      "metadata": {
        "id": "M5Djq4R3Uo_r"
      }
    },
    {
      "cell_type": "markdown",
      "source": [
        "#### 2.1.5 Exemplos"
      ],
      "metadata": {
        "id": "HJqF_Q0FUtAo"
      }
    },
    {
      "cell_type": "markdown",
      "source": [
        "##### 2.1.5.1 Mega Sena\n",
        "\n",
        "Em um volante de loteria da Mega Sena temos um total de **60 números** para escolher onde a aposta mínima é de **seis números**. Você que é curiosa(o) resolve calcular a probabilidade de se acertar na Mega Sena com apenas **um jogo**. Para isso precisamos saber quantas **combinações de seis números podem ser formadas com os 60 números disponíveis**.\n",
        "\n",
        "$$C_{6}^{60} = \\binom{60}{6} = \\frac{60!}{6!(60 - 6)!}$$"
      ],
      "metadata": {
        "id": "gyzrjcACU-_B"
      }
    },
    {
      "cell_type": "code",
      "source": [
        "# usando função fatorial dos módulos math (nativo do python, do scipy ou numpy)\n",
        "# import math\n",
        "# from scipy import math\n",
        "# from numpy import math\n",
        "math.factorial(60) / ( math.factorial(6) * math.factorial(60-6) )"
      ],
      "metadata": {
        "colab": {
          "base_uri": "https://localhost:8080/"
        },
        "id": "4_bRW1Qr8YS_",
        "outputId": "8a07803f-2f2a-4529-a70f-ff36cf9743d6"
      },
      "execution_count": 3,
      "outputs": [
        {
          "output_type": "execute_result",
          "data": {
            "text/plain": [
              "50063860.0"
            ]
          },
          "metadata": {},
          "execution_count": 3
        }
      ]
    },
    {
      "cell_type": "code",
      "source": [
        "# numero de combinações possíveis\n",
        "combinacoes_megasena = special.comb(60, 6)\n",
        "combinacoes_megasena"
      ],
      "metadata": {
        "colab": {
          "base_uri": "https://localhost:8080/"
        },
        "id": "nwrZChjN6xNk",
        "outputId": "32b93573-72c4-4d47-89ff-fba9e45d0b44"
      },
      "execution_count": 4,
      "outputs": [
        {
          "output_type": "execute_result",
          "data": {
            "text/plain": [
              "50063860.0"
            ]
          },
          "metadata": {},
          "execution_count": 4
        }
      ]
    },
    {
      "cell_type": "code",
      "source": [
        "# probabilidade de acertar na mega-sena com um bilhete\n",
        "probabilidade_megasena = 1 / combinacoes_megasena\n",
        "probabilidade_megasena"
      ],
      "metadata": {
        "colab": {
          "base_uri": "https://localhost:8080/"
        },
        "id": "AbC-yMqD7jee",
        "outputId": "16050942-e7ed-494d-b78b-bcc31b7c5067"
      },
      "execution_count": 5,
      "outputs": [
        {
          "output_type": "execute_result",
          "data": {
            "text/plain": [
              "1.997448858318156e-08"
            ]
          },
          "metadata": {},
          "execution_count": 5
        }
      ]
    },
    {
      "cell_type": "code",
      "source": [
        "f\"{probabilidade_megasena:.23f}\""
      ],
      "metadata": {
        "colab": {
          "base_uri": "https://localhost:8080/",
          "height": 0
        },
        "id": "5r4CeHQu90p9",
        "outputId": "ff550575-30b9-4092-9bb3-c26d5761268b"
      },
      "execution_count": 6,
      "outputs": [
        {
          "output_type": "execute_result",
          "data": {
            "text/plain": [
              "'0.00000001997448858318156'"
            ],
            "application/vnd.google.colaboratory.intrinsic+json": {
              "type": "string"
            }
          },
          "metadata": {},
          "execution_count": 6
        }
      ]
    },
    {
      "cell_type": "markdown",
      "source": [
        "##### 2.1.5.2 Concurso para cientista de dados\n",
        "\n",
        "Em um concurso para preencher uma vaga de cientista de dados temos um total de **10 questões** de múltipla escolha com **3 alternativas possíveis** em cada questão. **Cada questão tem o mesmo valor.** Suponha que um candidato resolva se aventurar sem ter estudado absolutamente nada. Ele resolve fazer a prova de olhos vendados e chutar todas as resposta. Assumindo que a prova **vale 10 pontos e a nota de corte seja 5**: obtenha a (a) probabilidade deste candidato **acertar 5 questões** e também a (b) probabilidade deste candidato **passar para a próxima etapa do processo seletivo**."
      ],
      "metadata": {
        "id": "P2-2UI97VE4u"
      }
    },
    {
      "cell_type": "markdown",
      "source": [
        "O primeiro passo é verificar se essa situação se caracteriza como um evento binomial\n",
        "\n",
        "1. _Realização de $n$ ensaios idênticos_: no caso o evento estudado é o resultado da questão e temos dez questões na prova. ou seja, o experimento é composto por dez ensaios, então $n=10$ "
      ],
      "metadata": {
        "id": "_PsUgqIFq23g"
      }
    },
    {
      "cell_type": "code",
      "source": [
        "# numero de ensaios n\n",
        "n = 10\n",
        "n"
      ],
      "metadata": {
        "colab": {
          "base_uri": "https://localhost:8080/"
        },
        "id": "s6jLqEK9ppAF",
        "outputId": "da45d0bd-043a-4ef7-93cb-cb2fb3950cc5"
      },
      "execution_count": 7,
      "outputs": [
        {
          "output_type": "execute_result",
          "data": {
            "text/plain": [
              "10"
            ]
          },
          "metadata": {},
          "execution_count": 7
        }
      ]
    },
    {
      "cell_type": "markdown",
      "source": [
        "2. _Os ensaios são independentes_: Sim. Cada questão possui três alternativas, e a escolha por uma opção não influência em nada a opção escolhida em outra questão."
      ],
      "metadata": {
        "id": "0F2o4rKkrne1"
      }
    },
    {
      "cell_type": "markdown",
      "source": [
        "3. _Somente dois resultados são possíveis_: Sim. Os resultados possíveis são ACERTAR ou ERRAR a questão."
      ],
      "metadata": {
        "id": "XB3w4DJ2rpVv"
      }
    },
    {
      "cell_type": "markdown",
      "source": [
        "4. _A probabilidade de sucesso é representada por $p$ e a de fracasso por $1-p=q$. Estas probabilidades não se modificam de ensaio para ensaio_: Este requisito também é satisfeito, já que todas as questões possuem três alternativas e apenas uma delas é correta."
      ],
      "metadata": {
        "id": "Q_0xI6DuszeF"
      }
    },
    {
      "cell_type": "code",
      "source": [
        "# probabilidade de sucesso\n",
        "alternativas_por_questao = 3\n",
        "p = 1 / alternativas_por_questao\n",
        "p"
      ],
      "metadata": {
        "colab": {
          "base_uri": "https://localhost:8080/"
        },
        "id": "Rb3vr3ampouL",
        "outputId": "c635f31e-580a-4789-a950-10341bb1737a"
      },
      "execution_count": 8,
      "outputs": [
        {
          "output_type": "execute_result",
          "data": {
            "text/plain": [
              "0.3333333333333333"
            ]
          },
          "metadata": {},
          "execution_count": 8
        }
      ]
    },
    {
      "cell_type": "code",
      "source": [
        "# probabilidade de fracasso\n",
        "q = 1 - p\n",
        "q"
      ],
      "metadata": {
        "colab": {
          "base_uri": "https://localhost:8080/"
        },
        "id": "Pm3DQMUBpord",
        "outputId": "b6863a1d-143b-41ff-93de-1fc653e9f434"
      },
      "execution_count": 9,
      "outputs": [
        {
          "output_type": "execute_result",
          "data": {
            "text/plain": [
              "0.6666666666666667"
            ]
          },
          "metadata": {},
          "execution_count": 9
        }
      ]
    },
    {
      "cell_type": "markdown",
      "source": [
        "Agora vamos calcular as probabilidades pedidas, começando pelo item _(a) probabilidade $P(5)$ deste candidato **acertar 5 questões**_. Aqui vemos que o número de eventos em que esperamos obter sucesso é $k=5$, e como ja temos as outras grandezas, nos resta apenas aplicar a fórmula da probabilidade. Primeiro fazemos \"na mão\" e depois usamos a função `binom.pmf()` (_Probability mass function_) do módulo `stats` do pacote `scipy`:"
      ],
      "metadata": {
        "id": "org6mMWhuFCX"
      }
    },
    {
      "cell_type": "code",
      "source": [
        "#  total de eventos para obter sucesso\n",
        "k = 5\n",
        "k"
      ],
      "metadata": {
        "colab": {
          "base_uri": "https://localhost:8080/"
        },
        "id": "pUleTvsxpopL",
        "outputId": "9499baca-b25d-4ccd-944b-433bea8e093d"
      },
      "execution_count": 10,
      "outputs": [
        {
          "output_type": "execute_result",
          "data": {
            "text/plain": [
              "5"
            ]
          },
          "metadata": {},
          "execution_count": 10
        }
      ]
    },
    {
      "cell_type": "code",
      "source": [
        "# calculando \"na mao\"\n",
        "probabilidade_5 = special.comb(n, k) * (p ** k) * (q ** (n-k))\n",
        "probabilidade_5"
      ],
      "metadata": {
        "colab": {
          "base_uri": "https://localhost:8080/"
        },
        "id": "7jNwUHSTpomC",
        "outputId": "31cb6cc5-4a2c-45eb-88aa-d4fce14922e2"
      },
      "execution_count": 11,
      "outputs": [
        {
          "output_type": "execute_result",
          "data": {
            "text/plain": [
              "0.13656454808718185"
            ]
          },
          "metadata": {},
          "execution_count": 11
        }
      ]
    },
    {
      "cell_type": "code",
      "source": [
        "# calculando direto\n",
        "probabilidade_5 = stats.binom.pmf(n=n, k=k, p=p)\n",
        "probabilidade_5"
      ],
      "metadata": {
        "colab": {
          "base_uri": "https://localhost:8080/"
        },
        "id": "sWnHBI2dpoiv",
        "outputId": "591ad900-0779-454d-d9e5-9ab7a660f269"
      },
      "execution_count": 12,
      "outputs": [
        {
          "output_type": "execute_result",
          "data": {
            "text/plain": [
              "0.13656454808718183"
            ]
          },
          "metadata": {},
          "execution_count": 12
        }
      ]
    },
    {
      "cell_type": "markdown",
      "source": [
        "_(b) probabilidade deste candidato passar para a próxima etapa do processo seletivo_. Sabendo que a nota de corte é igual a 5, devemos considerar os casos em que o candidato acerte 5, 6, 7, 8, 9 e 10 questões, em todos esses cenários ele será aprovado. Portanto, devemos calcular a probabilidade para cada um desses cenários para obter a probabilidade de aprovação:\n",
        "\n",
        "$$P(acertar \\geq 5) = P(5) + P(6) + P(7) + P(8) + P(9) + P(10)$$"
      ],
      "metadata": {
        "id": "8OE8jpkOxJP7"
      }
    },
    {
      "cell_type": "code",
      "source": [
        "k_0 = k\n",
        "probabilidade_passar = 0\n",
        "for i in range(k_0, n+1):\n",
        "    probabilidade_i = stats.binom.pmf(n=n, k=i, p=p)\n",
        "    probabilidade_passar += probabilidade_i\n",
        "    print(f\"P({i}) = {probabilidade_i}\")\n",
        "\n",
        "print(f\"\\nP(acertar >= {k_0}) = {probabilidade_passar}\")"
      ],
      "metadata": {
        "colab": {
          "base_uri": "https://localhost:8080/"
        },
        "id": "B60XLeCpzR8V",
        "outputId": "8d79e8e0-68b6-485a-f3c1-f182a7c34d54"
      },
      "execution_count": 13,
      "outputs": [
        {
          "output_type": "stream",
          "name": "stdout",
          "text": [
            "P(5) = 0.13656454808718183\n",
            "P(6) = 0.0569018950363258\n",
            "P(7) = 0.016257684296093082\n",
            "P(8) = 0.0030483158055174477\n",
            "P(9) = 0.000338701756168606\n",
            "P(10) = 1.6935087808430265e-05\n",
            "\n",
            "P(acertar >= 5) = 0.2131280800690952\n"
          ]
        }
      ]
    },
    {
      "cell_type": "markdown",
      "source": [
        "Se verificarmos a documentação do objeto [`binom`](https://docs.scipy.org/doc/scipy/reference/generated/scipy.stats.binom.html) vamos encontrar algumas formas mais simples de fazer isso. A primeira que vamos citar é que podemos passar uma lista no parâmetro `k` da função `binom.pmf()`. O retorno será um _array_ com a probabilidade para cada k e então podemos apenas somar os elementos do _array_:"
      ],
      "metadata": {
        "id": "qf19OUv40ePI"
      }
    },
    {
      "cell_type": "code",
      "source": [
        "stats.binom.pmf(n=n, k=[5, 6, 7, 8, 9, 10], p=p)"
      ],
      "metadata": {
        "colab": {
          "base_uri": "https://localhost:8080/"
        },
        "id": "02ZBvpCd1C6k",
        "outputId": "dd6ff789-8cf4-4854-99a2-097d988ba35b"
      },
      "execution_count": 14,
      "outputs": [
        {
          "output_type": "execute_result",
          "data": {
            "text/plain": [
              "array([1.36564548e-01, 5.69018950e-02, 1.62576843e-02, 3.04831581e-03,\n",
              "       3.38701756e-04, 1.69350878e-05])"
            ]
          },
          "metadata": {},
          "execution_count": 14
        }
      ]
    },
    {
      "cell_type": "code",
      "source": [
        "# ou aproveitando as variáveis criados para o loop\n",
        "stats.binom.pmf(n=n, k=[range(k_0, n+1)], p=p).sum()"
      ],
      "metadata": {
        "colab": {
          "base_uri": "https://localhost:8080/"
        },
        "id": "3hhgZj9z07m_",
        "outputId": "b9f1892c-6435-437e-a7c1-76420b36fdab"
      },
      "execution_count": 15,
      "outputs": [
        {
          "output_type": "execute_result",
          "data": {
            "text/plain": [
              "0.2131280800690952"
            ]
          },
          "metadata": {},
          "execution_count": 15
        }
      ]
    },
    {
      "cell_type": "markdown",
      "source": [
        "Também podemos calcular a probabilidade comulativa com a função `binom.cdf()` (_Cumulative distribution function_):"
      ],
      "metadata": {
        "id": "ZboQ29Sy26dh"
      }
    },
    {
      "cell_type": "code",
      "source": [
        "# probabilidade comulativa de k=0 até k=4\n",
        "stats.binom.cdf(n=n, k=4, p=p)"
      ],
      "metadata": {
        "colab": {
          "base_uri": "https://localhost:8080/"
        },
        "id": "s_TszqiA1lnV",
        "outputId": "e8941206-8a2a-40e6-e505-fd6181131ceb"
      },
      "execution_count": 16,
      "outputs": [
        {
          "output_type": "execute_result",
          "data": {
            "text/plain": [
              "0.7868719199309049"
            ]
          },
          "metadata": {},
          "execution_count": 16
        }
      ]
    },
    {
      "cell_type": "code",
      "source": [
        "# probabilidade comulativa de k=0 até k=10\n",
        "stats.binom.cdf(n=n, k=10, p=p)"
      ],
      "metadata": {
        "colab": {
          "base_uri": "https://localhost:8080/"
        },
        "id": "_lBn6rc_3pf5",
        "outputId": "a46bd5cb-35bb-428d-94fe-896c3d6091f3"
      },
      "execution_count": 17,
      "outputs": [
        {
          "output_type": "execute_result",
          "data": {
            "text/plain": [
              "1.0"
            ]
          },
          "metadata": {},
          "execution_count": 17
        }
      ]
    },
    {
      "cell_type": "markdown",
      "source": [
        "Perceba que os eventos $k=[0,4]$ são exatamente os que não quero, portanto, podemos subtrair a probabilidade desses eventos de $1$ para obter a probabilidade dos eventos que queremos:"
      ],
      "metadata": {
        "id": "F2dFuOJB35H7"
      }
    },
    {
      "cell_type": "code",
      "source": [
        "# probabilidade comulativa de k=5 até k=10\n",
        "1 - stats.binom.cdf(n=n, k=4, p=p)"
      ],
      "metadata": {
        "colab": {
          "base_uri": "https://localhost:8080/"
        },
        "id": "1SMbGUTp4XM0",
        "outputId": "aafec017-bcdd-4ceb-a71f-e015ebf46967"
      },
      "execution_count": 18,
      "outputs": [
        {
          "output_type": "execute_result",
          "data": {
            "text/plain": [
              "0.21312808006909512"
            ]
          },
          "metadata": {},
          "execution_count": 18
        }
      ]
    },
    {
      "cell_type": "markdown",
      "source": [
        "E por último temos a função `sf()` (_Survival function_), que faz exatamente a conta de `1 - cdf`:"
      ],
      "metadata": {
        "id": "9GWSrUhR4sKY"
      }
    },
    {
      "cell_type": "code",
      "source": [
        "stats.binom.sf(n=n, k=4, p=p)"
      ],
      "metadata": {
        "colab": {
          "base_uri": "https://localhost:8080/"
        },
        "id": "zoQebOFR4f0B",
        "outputId": "0ec9835d-1bbf-4b7b-f479-1679360fd289"
      },
      "execution_count": 19,
      "outputs": [
        {
          "output_type": "execute_result",
          "data": {
            "text/plain": [
              "0.21312808006909517"
            ]
          },
          "metadata": {},
          "execution_count": 19
        }
      ]
    },
    {
      "cell_type": "markdown",
      "source": [
        "##### 2.1.5.3 Gincana\n",
        "\n",
        "Uma cidade do interior realiza todos os anos uma gincana para arrecadar fundos para o hospital da cidade. Na última gincana se sabe que a **proporção de participantes do sexo feminino foi de 60%**. **O total de equipes, com 12 integrantes, inscritas na gincana deste ano é de 30**. Com as informações acima responda: Quantas equipes deverão ser formadas por **8 mulheres**?"
      ],
      "metadata": {
        "id": "bp1UAioUVNSE"
      }
    },
    {
      "cell_type": "markdown",
      "source": [
        "Primeiro devemos entender que a pergunta sendo feita na verdade é: _\"**em média**, quantas equipes deverão ser formadas por oito mulheres e quatro homens\"_. O que precisamos descobrir é a probabilidade de **uma equipe** ser formada por oito mulheres, e a partir disso poderemos calcular a média.\n",
        "\n",
        "Primeiro vamos definir que o experimento se trata da **seleção de pessoas para uma equipe**, cada pessoa podendo ser do sexo **feminimo** ou **masculino** (espaço amostral) e cada equipe com **doze** integrantes (número de ensaios).\n",
        "\n",
        "Podemos assumir que a proporção de participantes do sexo feminino da última gincana vai se manter. Então sabemos que a probabilidade de se escolher uma participante mulher sobre um homem é de 60%. Como foi informado que a proporção de participantes do sexo feminino da última gincana foi de 60%, "
      ],
      "metadata": {
        "id": "1WbnqEVNA4aK"
      }
    },
    {
      "cell_type": "code",
      "source": [
        "# número de ensais\n",
        "n = 12\n",
        "n"
      ],
      "metadata": {
        "colab": {
          "base_uri": "https://localhost:8080/"
        },
        "id": "5ZleGx4Z5lDP",
        "outputId": "8f5ca68c-782f-41a0-d1f9-6f0b8bcbfa66"
      },
      "execution_count": 20,
      "outputs": [
        {
          "output_type": "execute_result",
          "data": {
            "text/plain": [
              "12"
            ]
          },
          "metadata": {},
          "execution_count": 20
        }
      ]
    },
    {
      "cell_type": "code",
      "source": [
        "# probabilidade de sucesso (escolher uma mulher)\n",
        "p = 0.6\n",
        "p"
      ],
      "metadata": {
        "colab": {
          "base_uri": "https://localhost:8080/"
        },
        "id": "NfZmabfo_-TY",
        "outputId": "2e63f291-37b0-4f05-b66f-5e1501583767"
      },
      "execution_count": 21,
      "outputs": [
        {
          "output_type": "execute_result",
          "data": {
            "text/plain": [
              "0.6"
            ]
          },
          "metadata": {},
          "execution_count": 21
        }
      ]
    },
    {
      "cell_type": "code",
      "source": [
        "# numero de eventos desejados (integrante é mulher)\n",
        "k = 8\n",
        "k"
      ],
      "metadata": {
        "colab": {
          "base_uri": "https://localhost:8080/"
        },
        "id": "YH0mIx-_EkF7",
        "outputId": "e62fba9d-fe1b-4802-c454-feed6a348f38"
      },
      "execution_count": 22,
      "outputs": [
        {
          "output_type": "execute_result",
          "data": {
            "text/plain": [
              "8"
            ]
          },
          "metadata": {},
          "execution_count": 22
        }
      ]
    },
    {
      "cell_type": "code",
      "source": [
        "probabilidade_8mulheres = stats.binom.pmf(n=n, k=k, p=p)\n",
        "probabilidade_8mulheres"
      ],
      "metadata": {
        "colab": {
          "base_uri": "https://localhost:8080/"
        },
        "id": "anAdyysfEyoB",
        "outputId": "bcf25f55-5b24-48ab-d33d-22f279f981d7"
      },
      "execution_count": 23,
      "outputs": [
        {
          "output_type": "execute_result",
          "data": {
            "text/plain": [
              "0.2128409395199996"
            ]
          },
          "metadata": {},
          "execution_count": 23
        }
      ]
    },
    {
      "cell_type": "markdown",
      "source": [
        "Agora sabemos que a chance de uma equipe ser formada por oito mulheres e 4 homens é de 21%. Para saber em média quantas equipes (das trinta incritas) vão ter essa configuração, podemos calcular a \"média da distribuição binomial\" $\\mu$ usando a fórmula $\\mu = n \\; p$, onde $n$ é número de experimentos realizados (número de equipes) e $p$ a chance de ocorrência do evento."
      ],
      "metadata": {
        "id": "QUkJ7-XRFIVm"
      }
    },
    {
      "cell_type": "code",
      "source": [
        "equipes_8mulheres = 30 * probabilidade_8mulheres\n",
        "equipes_8mulheres"
      ],
      "metadata": {
        "colab": {
          "base_uri": "https://localhost:8080/"
        },
        "id": "yAEq1qhqGbfd",
        "outputId": "f8c0d7ef-382a-4112-98b7-7b2ab8828f65"
      },
      "execution_count": 24,
      "outputs": [
        {
          "output_type": "execute_result",
          "data": {
            "text/plain": [
              "6.385228185599988"
            ]
          },
          "metadata": {},
          "execution_count": 24
        }
      ]
    },
    {
      "cell_type": "markdown",
      "source": [
        "Ou seja, em média 6,4 equipes vão ser compostas por oito mulheres e quatro homens."
      ],
      "metadata": {
        "id": "_79Mfc-hGog5"
      }
    },
    {
      "cell_type": "code",
      "source": [
        "50 * stats.binom.pmf(n=3, k=2, p=0.22)"
      ],
      "metadata": {
        "colab": {
          "base_uri": "https://localhost:8080/"
        },
        "id": "t-DpIdpoG99G",
        "outputId": "e00dfdcf-0df5-44b3-8642-54813db5c7e8"
      },
      "execution_count": 25,
      "outputs": [
        {
          "output_type": "execute_result",
          "data": {
            "text/plain": [
              "5.662799999999999"
            ]
          },
          "metadata": {},
          "execution_count": 25
        }
      ]
    },
    {
      "cell_type": "markdown",
      "source": [
        "### 2.2 Distribuição de Poisson\n",
        "\n",
        "É empregada para descrever o número de ocorrências em um intervalo específico, que pode ser de tempo ou espaço. Os eventos são caracterizados pela possibilidade de contagem dos sucessos e a impossibilidade de contagem dos fracassos."
      ],
      "metadata": {
        "id": "0e97wiZQTgn7"
      }
    },
    {
      "cell_type": "markdown",
      "source": [
        "Como exemplos de processos onde podemos aplicar a distribuição de Poisson temos a determinação do número de clientes que entram em uma loja em determinada hora, o número de carros que chegam no drive-thru de uma lanchonete na hora do almoço, a determinação do número de acidentes registrados ao longo de um trecho de estrada etc. Note que em nenhum desses exemplos posso contar os fracassos, o número de clientes que não entraram na loja ou o número de acidentes que não ocorreram no trecho.\n",
        "\n",
        "A probabilidade de que ocorram $k$ sucessos em um determinado intervalo pode ser calculada através da fórmula: \n",
        "\n",
        "$$P(k) = \\frac{e^{-\\mu}(\\mu)^k}{k!}$$\n",
        "\n",
        "Onde:\n",
        "\n",
        "- $e$ é o número de Euler, uma constante cujo valor aproximado é $2,718281828459045$;\n",
        "- $\\mu$ representa o número médio de ocorrências em um determinado intervalo (de tempo ou espaço); e\n",
        "- $k$ é número de sucessos no intervalo desejado.\n",
        "\n",
        "#### 2.2.1 Experimento de Poisson\n",
        "\n",
        "1. A probabilidade de uma ocorrência é a mesma em todo o intervalo observado\n",
        "2. O número de ocorrências em determinado intervalo é independente do número de ocorrências em outros intervalos\n",
        "3. A probabilidade de uma ocorrência é a mesma em intervalos de igual tamanho.\n",
        "\n",
        "#### 2.2.2 Média da distribuição de Poisson\n",
        "\n",
        "$$\\mu$$\n",
        "\n",
        "#### 2.2.3 Desvio padrão da distribuição de Poisson\n",
        "\n",
        "$$\\sigma = \\sqrt{\\mu}$$"
      ],
      "metadata": {
        "id": "URB5-GWOIb-F"
      }
    },
    {
      "cell_type": "markdown",
      "source": [
        "#### 2.2.4 Exemplo - _Delivery_\n",
        "\n",
        "Um restaurante recebe em média **20 pedidos por hora**. Qual a chance de que, em determinada hora escolhida ao acaso, o restaurante receba **15 pedidos**?\n",
        "\n",
        "A partir do texto acima vemos que o evento de sucesso é o pedido realizado, o intervalo estudado é o período de 1 hora e são realizados em média 20 pedidos por hora."
      ],
      "metadata": {
        "id": "Qe08TVgAJ6B2"
      }
    },
    {
      "cell_type": "code",
      "source": [
        "# número médio de ocorrências de sucesso (pedidos) no intervalo avaliado (ao longo de 1 hora)\n",
        "mu = 20\n",
        "mu"
      ],
      "metadata": {
        "colab": {
          "base_uri": "https://localhost:8080/"
        },
        "id": "6h2jOTUabDsZ",
        "outputId": "9fe9753f-378d-4ca5-a44e-89ce207ff77a"
      },
      "execution_count": 26,
      "outputs": [
        {
          "output_type": "execute_result",
          "data": {
            "text/plain": [
              "20"
            ]
          },
          "metadata": {},
          "execution_count": 26
        }
      ]
    },
    {
      "cell_type": "code",
      "source": [
        "# número de ocorrências de sucesso (pedidos) que queremos avaliar\n",
        "k = 15\n",
        "k"
      ],
      "metadata": {
        "colab": {
          "base_uri": "https://localhost:8080/"
        },
        "id": "JK884evbbDow",
        "outputId": "23c9509c-9f2e-46bd-c3ed-0d6e57bfc67c"
      },
      "execution_count": 27,
      "outputs": [
        {
          "output_type": "execute_result",
          "data": {
            "text/plain": [
              "15"
            ]
          },
          "metadata": {},
          "execution_count": 27
        }
      ]
    },
    {
      "cell_type": "code",
      "source": [
        "# numero de Euler\n",
        "np.e"
      ],
      "metadata": {
        "colab": {
          "base_uri": "https://localhost:8080/"
        },
        "id": "np45rJlLeHZR",
        "outputId": "60b3f5e0-96ed-404e-9e4b-9177168b2b95"
      },
      "execution_count": 28,
      "outputs": [
        {
          "output_type": "execute_result",
          "data": {
            "text/plain": [
              "2.718281828459045"
            ]
          },
          "metadata": {},
          "execution_count": 28
        }
      ]
    },
    {
      "cell_type": "markdown",
      "source": [
        "Agora que conhecemos o valor dos parâmetros necessários para calcular a probabilidade, podemos fazer a conta. Primeiro faremos na mão e depois usando a função `pmf()` (_Probability mass function_) do objeto [`poisson`](https://docs.scipy.org/doc/scipy/reference/generated/scipy.stats.poisson.html) do módulo `stats` do pacote `scipy`:"
      ],
      "metadata": {
        "id": "uP4zd3oAdUw5"
      }
    },
    {
      "cell_type": "code",
      "source": [
        "# probabilidade de obter k sucessos no intervalo com média de eventos mu\n",
        "p_15pedidos = ((np.e**(-mu)) * (mu**k)) / np.math.factorial(k)\n",
        "p_15pedidos"
      ],
      "metadata": {
        "id": "Nz4OoSl4KJXj",
        "colab": {
          "base_uri": "https://localhost:8080/"
        },
        "outputId": "de57d541-a893-470f-f71a-dce0f54ca5fc"
      },
      "execution_count": 29,
      "outputs": [
        {
          "output_type": "execute_result",
          "data": {
            "text/plain": [
              "0.0516488535317584"
            ]
          },
          "metadata": {},
          "execution_count": 29
        }
      ]
    },
    {
      "cell_type": "code",
      "source": [
        "# usando uma funçao do objeto poisson, que abstrai todo cálculo\n",
        "p_15pedidos = stats.poisson.pmf(mu=mu, k=k)\n",
        "p_15pedidos"
      ],
      "metadata": {
        "colab": {
          "base_uri": "https://localhost:8080/"
        },
        "id": "031_bwO6dNYM",
        "outputId": "7737fba6-a6e5-4839-c728-7b1ec2332468"
      },
      "execution_count": 30,
      "outputs": [
        {
          "output_type": "execute_result",
          "data": {
            "text/plain": [
              "0.05164885353175814"
            ]
          },
          "metadata": {},
          "execution_count": 30
        }
      ]
    },
    {
      "cell_type": "code",
      "source": [
        "stats.poisson.pmf(mu=20, k=25)"
      ],
      "metadata": {
        "colab": {
          "base_uri": "https://localhost:8080/"
        },
        "id": "0SOyijkVgDso",
        "outputId": "469eb6fd-28c9-4d28-b6df-2abbc5212354"
      },
      "execution_count": 31,
      "outputs": [
        {
          "output_type": "execute_result",
          "data": {
            "text/plain": [
              "0.04458764910826764"
            ]
          },
          "metadata": {},
          "execution_count": 31
        }
      ]
    },
    {
      "cell_type": "markdown",
      "source": [
        "### 2.3 Distribuição Normal\n",
        "\n",
        "A distribuição normal é uma das mais utilizadas em estatística. É uma distribuição contínua, onde a distribuição de frequências de uma variável quantitativa apresenta a forma de sino e é simétrica em relação a sua média."
      ],
      "metadata": {
        "id": "Y2Tw5TcJLZjK"
      }
    },
    {
      "cell_type": "markdown",
      "source": [
        "<img src='https://raw.githubusercontent.com/brnocesar/learning-data-analysis/main/formacao_ds/imagens/aula3_2-3_dist_normal_1_form.png' width='35%'>\n",
        "\n",
        "#### 2.3.1 Características da distribuição normal\n",
        "\n",
        "1. É simétrica em torno da média, ou seja, partindo da média a curva tem o mesmo tamanho para as duas direções;\n",
        "2. A área sob a curva corresponde à proporção 1 ou 100%;\n",
        "3. As medidas de tendência central (média, mediana e moda) apresentam o mesmo valor (redundante com item 1?);\n",
        "4. Os extremos da curva tendem ao infinito em ambas as direções e, teoricamente, jamais tocam o eixo $x$;\n",
        "5. O desvio padrão define o achatamento e largura da distribuição. Curvas mais largas e mais achatadas apresentam valores maiores de desvio padrão (tem uma relação formal pra isso!? colocar gráfico);\n",
        "6. A distribuição é definida por sua média e desvio padrão;\n",
        "7. A probabilidade sempre será igual à área sob a curva, delimitada pelos limites inferior e superior."
      ],
      "metadata": {
        "id": "2m7i5eqzfM1J"
      }
    },
    {
      "cell_type": "markdown",
      "source": [
        "#### 2.3.2 Probabilidade\n",
        "\n",
        "A função da _densidade de probabilidade_ da distribuição normal é\n",
        "\n",
        "$$ f(x) = \\frac{1}{\\sqrt{2\\pi\\sigma}}e^{-\\frac{1}{2}\\left(\\frac{x-\\mu}{\\sigma}\\right)^2} $$\n",
        "\n",
        "Onde:\n",
        "\n",
        "- $x$ é variável normal;\n",
        "- $\\sigma$ o desvio padrão; e\n",
        "- $\\mu$ é a média.\n",
        "\n",
        "A probabilidade é obtida a partir da área sob a curva, delimitada pelos limites inferior e superior especificados. Um exemplo pode ser visto na figura abaixo:\n",
        "\n",
        "\n",
        "<img src='https://raw.githubusercontent.com/brnocesar/learning-data-analysis/main/formacao_ds/imagens/aula3_2-3_dist_normal_2_area_definida.png' width='35%'>\n",
        "\n",
        "Para obter a área acima basta calcular a integral da função para o intervalo determinado, que fica:\n",
        "\n",
        "$$ P(L_i < x < L_s) ] \\; = \\; \\int_{L_i}^{L_s} \\frac{1}{\\sqrt{2\\pi\\sigma}} e^{-\\frac{1}{2} \\left(\\frac{x-\\mu}{\\sigma} \\right)^2} dx $$\n",
        "\n",
        "Onde:\n",
        "\n",
        "- $x$ é a variável normal\n",
        "- $\\sigma$ o desvio padrão\n",
        "- $\\mu$ a média\n",
        "- $L_i$ o limite inferior\n",
        "- e $L_s$ o limite superior"
      ],
      "metadata": {
        "id": "2RdtChCCA1mV"
      }
    },
    {
      "cell_type": "markdown",
      "source": [
        "#### 2.3.3 Tabelas padronizadas\n",
        "\n",
        "As tabelas padronizadas foram criadas para facilitar a obtenção dos valores das áreas sob a curva normal e eliminar a necessidade de solucionar integrais definidas. Como a distribuição de uma variável aleatória é definida por sua média e desvio padrão, cada distribuição vai ter um formato diferente, umas mais achatadas e outras mais compridas. Então usamos o recurso das tabelas padronizadas, que já possuem os valores das probabilidades.\n",
        "\n",
        "Para consultarmos os valores em uma tabela padronizada basta transformarmos nossa variável em uma variável normal padronizada $Z$. Esta variável $Z$ representa o afastamento em desvios padrões de um valor da variável original em relação à média.\n",
        "\n",
        "$$Z(x) = \\frac{x-\\mu}{\\sigma}$$\n",
        "\n",
        "Onde $x$ é a variável normal com média $\\mu$ e desvio padrão $\\sigma$."
      ],
      "metadata": {
        "id": "YEdrkclOA9Bf"
      }
    },
    {
      "cell_type": "markdown",
      "source": [
        "##### 2.3.3.1 Construindo a tabela padronizada\n",
        "\n",
        "Vamos contruir uma tabela padronizada que fornecerá a área sob a curva entre _$-\\infty$ e $Z$ desvios padrão acima da média_. Fazendo $\\mu = 0$ temos\n",
        "\n",
        "$$ Z(x) = \\frac{x}{\\sigma} \\;\\;\\; \\Rightarrow \\;\\;\\; x = Z \\sigma $$\n",
        "\n",
        "<img src='https://raw.githubusercontent.com/brnocesar/learning-data-analysis/main/formacao_ds/imagens/aula3_2-3_dist_normal_3_area_padronizada.png' width='30%'>\n",
        "\n",
        "Com essa tabela podemos calcular \"diretamente\" apenas para para valores de $Z$ com $ x > \\mu$. Mas como a distribuição é simétrica, se o valor de $X$ que estamos interessados ficar a esquerda do ponto médio, podemos sempre passar o valor correspondente simétrico ao qual estamos interessados (a direita) seguir normalmente."
      ],
      "metadata": {
        "id": "Xzk9cQgUBIFY"
      }
    },
    {
      "cell_type": "code",
      "source": [
        "tabela_normal_padronizada = pd.DataFrame(\n",
        "    data=[], \n",
        "    index=[f\"{i/100:0.2f}\" for i in range(0, 400, 10)],\n",
        "    columns = [f\"{i/100:0.2f}\" for i in range(0, 10)]\n",
        ").rename_axis('Z', axis='columns')\n",
        "\n",
        "for index in tabela_normal_padronizada.index:\n",
        "    for column in tabela_normal_padronizada.columns:\n",
        "        Z = np.round(float(index) + float(column), 2)\n",
        "        tabela_normal_padronizada.loc[index, column] = f\"{stats.norm.cdf(Z):0.4f}\"\n",
        "\n",
        "tabela_normal_padronizada"
      ],
      "metadata": {
        "colab": {
          "base_uri": "https://localhost:8080/",
          "height": 0
        },
        "id": "0E7wZ376D9ou",
        "outputId": "ac5eebbe-261d-450a-e87f-d0bef1d63a67"
      },
      "execution_count": 32,
      "outputs": [
        {
          "output_type": "execute_result",
          "data": {
            "text/plain": [
              "Z       0.00    0.01    0.02    0.03    0.04    0.05    0.06    0.07    0.08  \\\n",
              "0.00  0.5000  0.5040  0.5080  0.5120  0.5160  0.5199  0.5239  0.5279  0.5319   \n",
              "0.10  0.5398  0.5438  0.5478  0.5517  0.5557  0.5596  0.5636  0.5675  0.5714   \n",
              "0.20  0.5793  0.5832  0.5871  0.5910  0.5948  0.5987  0.6026  0.6064  0.6103   \n",
              "0.30  0.6179  0.6217  0.6255  0.6293  0.6331  0.6368  0.6406  0.6443  0.6480   \n",
              "0.40  0.6554  0.6591  0.6628  0.6664  0.6700  0.6736  0.6772  0.6808  0.6844   \n",
              "0.50  0.6915  0.6950  0.6985  0.7019  0.7054  0.7088  0.7123  0.7157  0.7190   \n",
              "0.60  0.7257  0.7291  0.7324  0.7357  0.7389  0.7422  0.7454  0.7486  0.7517   \n",
              "0.70  0.7580  0.7611  0.7642  0.7673  0.7704  0.7734  0.7764  0.7794  0.7823   \n",
              "0.80  0.7881  0.7910  0.7939  0.7967  0.7995  0.8023  0.8051  0.8078  0.8106   \n",
              "0.90  0.8159  0.8186  0.8212  0.8238  0.8264  0.8289  0.8315  0.8340  0.8365   \n",
              "1.00  0.8413  0.8438  0.8461  0.8485  0.8508  0.8531  0.8554  0.8577  0.8599   \n",
              "1.10  0.8643  0.8665  0.8686  0.8708  0.8729  0.8749  0.8770  0.8790  0.8810   \n",
              "1.20  0.8849  0.8869  0.8888  0.8907  0.8925  0.8944  0.8962  0.8980  0.8997   \n",
              "1.30  0.9032  0.9049  0.9066  0.9082  0.9099  0.9115  0.9131  0.9147  0.9162   \n",
              "1.40  0.9192  0.9207  0.9222  0.9236  0.9251  0.9265  0.9279  0.9292  0.9306   \n",
              "1.50  0.9332  0.9345  0.9357  0.9370  0.9382  0.9394  0.9406  0.9418  0.9429   \n",
              "1.60  0.9452  0.9463  0.9474  0.9484  0.9495  0.9505  0.9515  0.9525  0.9535   \n",
              "1.70  0.9554  0.9564  0.9573  0.9582  0.9591  0.9599  0.9608  0.9616  0.9625   \n",
              "1.80  0.9641  0.9649  0.9656  0.9664  0.9671  0.9678  0.9686  0.9693  0.9699   \n",
              "1.90  0.9713  0.9719  0.9726  0.9732  0.9738  0.9744  0.9750  0.9756  0.9761   \n",
              "2.00  0.9772  0.9778  0.9783  0.9788  0.9793  0.9798  0.9803  0.9808  0.9812   \n",
              "2.10  0.9821  0.9826  0.9830  0.9834  0.9838  0.9842  0.9846  0.9850  0.9854   \n",
              "2.20  0.9861  0.9864  0.9868  0.9871  0.9875  0.9878  0.9881  0.9884  0.9887   \n",
              "2.30  0.9893  0.9896  0.9898  0.9901  0.9904  0.9906  0.9909  0.9911  0.9913   \n",
              "2.40  0.9918  0.9920  0.9922  0.9925  0.9927  0.9929  0.9931  0.9932  0.9934   \n",
              "2.50  0.9938  0.9940  0.9941  0.9943  0.9945  0.9946  0.9948  0.9949  0.9951   \n",
              "2.60  0.9953  0.9955  0.9956  0.9957  0.9959  0.9960  0.9961  0.9962  0.9963   \n",
              "2.70  0.9965  0.9966  0.9967  0.9968  0.9969  0.9970  0.9971  0.9972  0.9973   \n",
              "2.80  0.9974  0.9975  0.9976  0.9977  0.9977  0.9978  0.9979  0.9979  0.9980   \n",
              "2.90  0.9981  0.9982  0.9982  0.9983  0.9984  0.9984  0.9985  0.9985  0.9986   \n",
              "3.00  0.9987  0.9987  0.9987  0.9988  0.9988  0.9989  0.9989  0.9989  0.9990   \n",
              "3.10  0.9990  0.9991  0.9991  0.9991  0.9992  0.9992  0.9992  0.9992  0.9993   \n",
              "3.20  0.9993  0.9993  0.9994  0.9994  0.9994  0.9994  0.9994  0.9995  0.9995   \n",
              "3.30  0.9995  0.9995  0.9995  0.9996  0.9996  0.9996  0.9996  0.9996  0.9996   \n",
              "3.40  0.9997  0.9997  0.9997  0.9997  0.9997  0.9997  0.9997  0.9997  0.9997   \n",
              "3.50  0.9998  0.9998  0.9998  0.9998  0.9998  0.9998  0.9998  0.9998  0.9998   \n",
              "3.60  0.9998  0.9998  0.9999  0.9999  0.9999  0.9999  0.9999  0.9999  0.9999   \n",
              "3.70  0.9999  0.9999  0.9999  0.9999  0.9999  0.9999  0.9999  0.9999  0.9999   \n",
              "3.80  0.9999  0.9999  0.9999  0.9999  0.9999  0.9999  0.9999  0.9999  0.9999   \n",
              "3.90  1.0000  1.0000  1.0000  1.0000  1.0000  1.0000  1.0000  1.0000  1.0000   \n",
              "\n",
              "Z       0.09  \n",
              "0.00  0.5359  \n",
              "0.10  0.5753  \n",
              "0.20  0.6141  \n",
              "0.30  0.6517  \n",
              "0.40  0.6879  \n",
              "0.50  0.7224  \n",
              "0.60  0.7549  \n",
              "0.70  0.7852  \n",
              "0.80  0.8133  \n",
              "0.90  0.8389  \n",
              "1.00  0.8621  \n",
              "1.10  0.8830  \n",
              "1.20  0.9015  \n",
              "1.30  0.9177  \n",
              "1.40  0.9319  \n",
              "1.50  0.9441  \n",
              "1.60  0.9545  \n",
              "1.70  0.9633  \n",
              "1.80  0.9706  \n",
              "1.90  0.9767  \n",
              "2.00  0.9817  \n",
              "2.10  0.9857  \n",
              "2.20  0.9890  \n",
              "2.30  0.9916  \n",
              "2.40  0.9936  \n",
              "2.50  0.9952  \n",
              "2.60  0.9964  \n",
              "2.70  0.9974  \n",
              "2.80  0.9981  \n",
              "2.90  0.9986  \n",
              "3.00  0.9990  \n",
              "3.10  0.9993  \n",
              "3.20  0.9995  \n",
              "3.30  0.9997  \n",
              "3.40  0.9998  \n",
              "3.50  0.9998  \n",
              "3.60  0.9999  \n",
              "3.70  0.9999  \n",
              "3.80  0.9999  \n",
              "3.90  1.0000  "
            ],
            "text/html": [
              "\n",
              "  <div id=\"df-f97a0058-09ce-41f2-9e32-0c991c5b0356\">\n",
              "    <div class=\"colab-df-container\">\n",
              "      <div>\n",
              "<style scoped>\n",
              "    .dataframe tbody tr th:only-of-type {\n",
              "        vertical-align: middle;\n",
              "    }\n",
              "\n",
              "    .dataframe tbody tr th {\n",
              "        vertical-align: top;\n",
              "    }\n",
              "\n",
              "    .dataframe thead th {\n",
              "        text-align: right;\n",
              "    }\n",
              "</style>\n",
              "<table border=\"1\" class=\"dataframe\">\n",
              "  <thead>\n",
              "    <tr style=\"text-align: right;\">\n",
              "      <th>Z</th>\n",
              "      <th>0.00</th>\n",
              "      <th>0.01</th>\n",
              "      <th>0.02</th>\n",
              "      <th>0.03</th>\n",
              "      <th>0.04</th>\n",
              "      <th>0.05</th>\n",
              "      <th>0.06</th>\n",
              "      <th>0.07</th>\n",
              "      <th>0.08</th>\n",
              "      <th>0.09</th>\n",
              "    </tr>\n",
              "  </thead>\n",
              "  <tbody>\n",
              "    <tr>\n",
              "      <th>0.00</th>\n",
              "      <td>0.5000</td>\n",
              "      <td>0.5040</td>\n",
              "      <td>0.5080</td>\n",
              "      <td>0.5120</td>\n",
              "      <td>0.5160</td>\n",
              "      <td>0.5199</td>\n",
              "      <td>0.5239</td>\n",
              "      <td>0.5279</td>\n",
              "      <td>0.5319</td>\n",
              "      <td>0.5359</td>\n",
              "    </tr>\n",
              "    <tr>\n",
              "      <th>0.10</th>\n",
              "      <td>0.5398</td>\n",
              "      <td>0.5438</td>\n",
              "      <td>0.5478</td>\n",
              "      <td>0.5517</td>\n",
              "      <td>0.5557</td>\n",
              "      <td>0.5596</td>\n",
              "      <td>0.5636</td>\n",
              "      <td>0.5675</td>\n",
              "      <td>0.5714</td>\n",
              "      <td>0.5753</td>\n",
              "    </tr>\n",
              "    <tr>\n",
              "      <th>0.20</th>\n",
              "      <td>0.5793</td>\n",
              "      <td>0.5832</td>\n",
              "      <td>0.5871</td>\n",
              "      <td>0.5910</td>\n",
              "      <td>0.5948</td>\n",
              "      <td>0.5987</td>\n",
              "      <td>0.6026</td>\n",
              "      <td>0.6064</td>\n",
              "      <td>0.6103</td>\n",
              "      <td>0.6141</td>\n",
              "    </tr>\n",
              "    <tr>\n",
              "      <th>0.30</th>\n",
              "      <td>0.6179</td>\n",
              "      <td>0.6217</td>\n",
              "      <td>0.6255</td>\n",
              "      <td>0.6293</td>\n",
              "      <td>0.6331</td>\n",
              "      <td>0.6368</td>\n",
              "      <td>0.6406</td>\n",
              "      <td>0.6443</td>\n",
              "      <td>0.6480</td>\n",
              "      <td>0.6517</td>\n",
              "    </tr>\n",
              "    <tr>\n",
              "      <th>0.40</th>\n",
              "      <td>0.6554</td>\n",
              "      <td>0.6591</td>\n",
              "      <td>0.6628</td>\n",
              "      <td>0.6664</td>\n",
              "      <td>0.6700</td>\n",
              "      <td>0.6736</td>\n",
              "      <td>0.6772</td>\n",
              "      <td>0.6808</td>\n",
              "      <td>0.6844</td>\n",
              "      <td>0.6879</td>\n",
              "    </tr>\n",
              "    <tr>\n",
              "      <th>0.50</th>\n",
              "      <td>0.6915</td>\n",
              "      <td>0.6950</td>\n",
              "      <td>0.6985</td>\n",
              "      <td>0.7019</td>\n",
              "      <td>0.7054</td>\n",
              "      <td>0.7088</td>\n",
              "      <td>0.7123</td>\n",
              "      <td>0.7157</td>\n",
              "      <td>0.7190</td>\n",
              "      <td>0.7224</td>\n",
              "    </tr>\n",
              "    <tr>\n",
              "      <th>0.60</th>\n",
              "      <td>0.7257</td>\n",
              "      <td>0.7291</td>\n",
              "      <td>0.7324</td>\n",
              "      <td>0.7357</td>\n",
              "      <td>0.7389</td>\n",
              "      <td>0.7422</td>\n",
              "      <td>0.7454</td>\n",
              "      <td>0.7486</td>\n",
              "      <td>0.7517</td>\n",
              "      <td>0.7549</td>\n",
              "    </tr>\n",
              "    <tr>\n",
              "      <th>0.70</th>\n",
              "      <td>0.7580</td>\n",
              "      <td>0.7611</td>\n",
              "      <td>0.7642</td>\n",
              "      <td>0.7673</td>\n",
              "      <td>0.7704</td>\n",
              "      <td>0.7734</td>\n",
              "      <td>0.7764</td>\n",
              "      <td>0.7794</td>\n",
              "      <td>0.7823</td>\n",
              "      <td>0.7852</td>\n",
              "    </tr>\n",
              "    <tr>\n",
              "      <th>0.80</th>\n",
              "      <td>0.7881</td>\n",
              "      <td>0.7910</td>\n",
              "      <td>0.7939</td>\n",
              "      <td>0.7967</td>\n",
              "      <td>0.7995</td>\n",
              "      <td>0.8023</td>\n",
              "      <td>0.8051</td>\n",
              "      <td>0.8078</td>\n",
              "      <td>0.8106</td>\n",
              "      <td>0.8133</td>\n",
              "    </tr>\n",
              "    <tr>\n",
              "      <th>0.90</th>\n",
              "      <td>0.8159</td>\n",
              "      <td>0.8186</td>\n",
              "      <td>0.8212</td>\n",
              "      <td>0.8238</td>\n",
              "      <td>0.8264</td>\n",
              "      <td>0.8289</td>\n",
              "      <td>0.8315</td>\n",
              "      <td>0.8340</td>\n",
              "      <td>0.8365</td>\n",
              "      <td>0.8389</td>\n",
              "    </tr>\n",
              "    <tr>\n",
              "      <th>1.00</th>\n",
              "      <td>0.8413</td>\n",
              "      <td>0.8438</td>\n",
              "      <td>0.8461</td>\n",
              "      <td>0.8485</td>\n",
              "      <td>0.8508</td>\n",
              "      <td>0.8531</td>\n",
              "      <td>0.8554</td>\n",
              "      <td>0.8577</td>\n",
              "      <td>0.8599</td>\n",
              "      <td>0.8621</td>\n",
              "    </tr>\n",
              "    <tr>\n",
              "      <th>1.10</th>\n",
              "      <td>0.8643</td>\n",
              "      <td>0.8665</td>\n",
              "      <td>0.8686</td>\n",
              "      <td>0.8708</td>\n",
              "      <td>0.8729</td>\n",
              "      <td>0.8749</td>\n",
              "      <td>0.8770</td>\n",
              "      <td>0.8790</td>\n",
              "      <td>0.8810</td>\n",
              "      <td>0.8830</td>\n",
              "    </tr>\n",
              "    <tr>\n",
              "      <th>1.20</th>\n",
              "      <td>0.8849</td>\n",
              "      <td>0.8869</td>\n",
              "      <td>0.8888</td>\n",
              "      <td>0.8907</td>\n",
              "      <td>0.8925</td>\n",
              "      <td>0.8944</td>\n",
              "      <td>0.8962</td>\n",
              "      <td>0.8980</td>\n",
              "      <td>0.8997</td>\n",
              "      <td>0.9015</td>\n",
              "    </tr>\n",
              "    <tr>\n",
              "      <th>1.30</th>\n",
              "      <td>0.9032</td>\n",
              "      <td>0.9049</td>\n",
              "      <td>0.9066</td>\n",
              "      <td>0.9082</td>\n",
              "      <td>0.9099</td>\n",
              "      <td>0.9115</td>\n",
              "      <td>0.9131</td>\n",
              "      <td>0.9147</td>\n",
              "      <td>0.9162</td>\n",
              "      <td>0.9177</td>\n",
              "    </tr>\n",
              "    <tr>\n",
              "      <th>1.40</th>\n",
              "      <td>0.9192</td>\n",
              "      <td>0.9207</td>\n",
              "      <td>0.9222</td>\n",
              "      <td>0.9236</td>\n",
              "      <td>0.9251</td>\n",
              "      <td>0.9265</td>\n",
              "      <td>0.9279</td>\n",
              "      <td>0.9292</td>\n",
              "      <td>0.9306</td>\n",
              "      <td>0.9319</td>\n",
              "    </tr>\n",
              "    <tr>\n",
              "      <th>1.50</th>\n",
              "      <td>0.9332</td>\n",
              "      <td>0.9345</td>\n",
              "      <td>0.9357</td>\n",
              "      <td>0.9370</td>\n",
              "      <td>0.9382</td>\n",
              "      <td>0.9394</td>\n",
              "      <td>0.9406</td>\n",
              "      <td>0.9418</td>\n",
              "      <td>0.9429</td>\n",
              "      <td>0.9441</td>\n",
              "    </tr>\n",
              "    <tr>\n",
              "      <th>1.60</th>\n",
              "      <td>0.9452</td>\n",
              "      <td>0.9463</td>\n",
              "      <td>0.9474</td>\n",
              "      <td>0.9484</td>\n",
              "      <td>0.9495</td>\n",
              "      <td>0.9505</td>\n",
              "      <td>0.9515</td>\n",
              "      <td>0.9525</td>\n",
              "      <td>0.9535</td>\n",
              "      <td>0.9545</td>\n",
              "    </tr>\n",
              "    <tr>\n",
              "      <th>1.70</th>\n",
              "      <td>0.9554</td>\n",
              "      <td>0.9564</td>\n",
              "      <td>0.9573</td>\n",
              "      <td>0.9582</td>\n",
              "      <td>0.9591</td>\n",
              "      <td>0.9599</td>\n",
              "      <td>0.9608</td>\n",
              "      <td>0.9616</td>\n",
              "      <td>0.9625</td>\n",
              "      <td>0.9633</td>\n",
              "    </tr>\n",
              "    <tr>\n",
              "      <th>1.80</th>\n",
              "      <td>0.9641</td>\n",
              "      <td>0.9649</td>\n",
              "      <td>0.9656</td>\n",
              "      <td>0.9664</td>\n",
              "      <td>0.9671</td>\n",
              "      <td>0.9678</td>\n",
              "      <td>0.9686</td>\n",
              "      <td>0.9693</td>\n",
              "      <td>0.9699</td>\n",
              "      <td>0.9706</td>\n",
              "    </tr>\n",
              "    <tr>\n",
              "      <th>1.90</th>\n",
              "      <td>0.9713</td>\n",
              "      <td>0.9719</td>\n",
              "      <td>0.9726</td>\n",
              "      <td>0.9732</td>\n",
              "      <td>0.9738</td>\n",
              "      <td>0.9744</td>\n",
              "      <td>0.9750</td>\n",
              "      <td>0.9756</td>\n",
              "      <td>0.9761</td>\n",
              "      <td>0.9767</td>\n",
              "    </tr>\n",
              "    <tr>\n",
              "      <th>2.00</th>\n",
              "      <td>0.9772</td>\n",
              "      <td>0.9778</td>\n",
              "      <td>0.9783</td>\n",
              "      <td>0.9788</td>\n",
              "      <td>0.9793</td>\n",
              "      <td>0.9798</td>\n",
              "      <td>0.9803</td>\n",
              "      <td>0.9808</td>\n",
              "      <td>0.9812</td>\n",
              "      <td>0.9817</td>\n",
              "    </tr>\n",
              "    <tr>\n",
              "      <th>2.10</th>\n",
              "      <td>0.9821</td>\n",
              "      <td>0.9826</td>\n",
              "      <td>0.9830</td>\n",
              "      <td>0.9834</td>\n",
              "      <td>0.9838</td>\n",
              "      <td>0.9842</td>\n",
              "      <td>0.9846</td>\n",
              "      <td>0.9850</td>\n",
              "      <td>0.9854</td>\n",
              "      <td>0.9857</td>\n",
              "    </tr>\n",
              "    <tr>\n",
              "      <th>2.20</th>\n",
              "      <td>0.9861</td>\n",
              "      <td>0.9864</td>\n",
              "      <td>0.9868</td>\n",
              "      <td>0.9871</td>\n",
              "      <td>0.9875</td>\n",
              "      <td>0.9878</td>\n",
              "      <td>0.9881</td>\n",
              "      <td>0.9884</td>\n",
              "      <td>0.9887</td>\n",
              "      <td>0.9890</td>\n",
              "    </tr>\n",
              "    <tr>\n",
              "      <th>2.30</th>\n",
              "      <td>0.9893</td>\n",
              "      <td>0.9896</td>\n",
              "      <td>0.9898</td>\n",
              "      <td>0.9901</td>\n",
              "      <td>0.9904</td>\n",
              "      <td>0.9906</td>\n",
              "      <td>0.9909</td>\n",
              "      <td>0.9911</td>\n",
              "      <td>0.9913</td>\n",
              "      <td>0.9916</td>\n",
              "    </tr>\n",
              "    <tr>\n",
              "      <th>2.40</th>\n",
              "      <td>0.9918</td>\n",
              "      <td>0.9920</td>\n",
              "      <td>0.9922</td>\n",
              "      <td>0.9925</td>\n",
              "      <td>0.9927</td>\n",
              "      <td>0.9929</td>\n",
              "      <td>0.9931</td>\n",
              "      <td>0.9932</td>\n",
              "      <td>0.9934</td>\n",
              "      <td>0.9936</td>\n",
              "    </tr>\n",
              "    <tr>\n",
              "      <th>2.50</th>\n",
              "      <td>0.9938</td>\n",
              "      <td>0.9940</td>\n",
              "      <td>0.9941</td>\n",
              "      <td>0.9943</td>\n",
              "      <td>0.9945</td>\n",
              "      <td>0.9946</td>\n",
              "      <td>0.9948</td>\n",
              "      <td>0.9949</td>\n",
              "      <td>0.9951</td>\n",
              "      <td>0.9952</td>\n",
              "    </tr>\n",
              "    <tr>\n",
              "      <th>2.60</th>\n",
              "      <td>0.9953</td>\n",
              "      <td>0.9955</td>\n",
              "      <td>0.9956</td>\n",
              "      <td>0.9957</td>\n",
              "      <td>0.9959</td>\n",
              "      <td>0.9960</td>\n",
              "      <td>0.9961</td>\n",
              "      <td>0.9962</td>\n",
              "      <td>0.9963</td>\n",
              "      <td>0.9964</td>\n",
              "    </tr>\n",
              "    <tr>\n",
              "      <th>2.70</th>\n",
              "      <td>0.9965</td>\n",
              "      <td>0.9966</td>\n",
              "      <td>0.9967</td>\n",
              "      <td>0.9968</td>\n",
              "      <td>0.9969</td>\n",
              "      <td>0.9970</td>\n",
              "      <td>0.9971</td>\n",
              "      <td>0.9972</td>\n",
              "      <td>0.9973</td>\n",
              "      <td>0.9974</td>\n",
              "    </tr>\n",
              "    <tr>\n",
              "      <th>2.80</th>\n",
              "      <td>0.9974</td>\n",
              "      <td>0.9975</td>\n",
              "      <td>0.9976</td>\n",
              "      <td>0.9977</td>\n",
              "      <td>0.9977</td>\n",
              "      <td>0.9978</td>\n",
              "      <td>0.9979</td>\n",
              "      <td>0.9979</td>\n",
              "      <td>0.9980</td>\n",
              "      <td>0.9981</td>\n",
              "    </tr>\n",
              "    <tr>\n",
              "      <th>2.90</th>\n",
              "      <td>0.9981</td>\n",
              "      <td>0.9982</td>\n",
              "      <td>0.9982</td>\n",
              "      <td>0.9983</td>\n",
              "      <td>0.9984</td>\n",
              "      <td>0.9984</td>\n",
              "      <td>0.9985</td>\n",
              "      <td>0.9985</td>\n",
              "      <td>0.9986</td>\n",
              "      <td>0.9986</td>\n",
              "    </tr>\n",
              "    <tr>\n",
              "      <th>3.00</th>\n",
              "      <td>0.9987</td>\n",
              "      <td>0.9987</td>\n",
              "      <td>0.9987</td>\n",
              "      <td>0.9988</td>\n",
              "      <td>0.9988</td>\n",
              "      <td>0.9989</td>\n",
              "      <td>0.9989</td>\n",
              "      <td>0.9989</td>\n",
              "      <td>0.9990</td>\n",
              "      <td>0.9990</td>\n",
              "    </tr>\n",
              "    <tr>\n",
              "      <th>3.10</th>\n",
              "      <td>0.9990</td>\n",
              "      <td>0.9991</td>\n",
              "      <td>0.9991</td>\n",
              "      <td>0.9991</td>\n",
              "      <td>0.9992</td>\n",
              "      <td>0.9992</td>\n",
              "      <td>0.9992</td>\n",
              "      <td>0.9992</td>\n",
              "      <td>0.9993</td>\n",
              "      <td>0.9993</td>\n",
              "    </tr>\n",
              "    <tr>\n",
              "      <th>3.20</th>\n",
              "      <td>0.9993</td>\n",
              "      <td>0.9993</td>\n",
              "      <td>0.9994</td>\n",
              "      <td>0.9994</td>\n",
              "      <td>0.9994</td>\n",
              "      <td>0.9994</td>\n",
              "      <td>0.9994</td>\n",
              "      <td>0.9995</td>\n",
              "      <td>0.9995</td>\n",
              "      <td>0.9995</td>\n",
              "    </tr>\n",
              "    <tr>\n",
              "      <th>3.30</th>\n",
              "      <td>0.9995</td>\n",
              "      <td>0.9995</td>\n",
              "      <td>0.9995</td>\n",
              "      <td>0.9996</td>\n",
              "      <td>0.9996</td>\n",
              "      <td>0.9996</td>\n",
              "      <td>0.9996</td>\n",
              "      <td>0.9996</td>\n",
              "      <td>0.9996</td>\n",
              "      <td>0.9997</td>\n",
              "    </tr>\n",
              "    <tr>\n",
              "      <th>3.40</th>\n",
              "      <td>0.9997</td>\n",
              "      <td>0.9997</td>\n",
              "      <td>0.9997</td>\n",
              "      <td>0.9997</td>\n",
              "      <td>0.9997</td>\n",
              "      <td>0.9997</td>\n",
              "      <td>0.9997</td>\n",
              "      <td>0.9997</td>\n",
              "      <td>0.9997</td>\n",
              "      <td>0.9998</td>\n",
              "    </tr>\n",
              "    <tr>\n",
              "      <th>3.50</th>\n",
              "      <td>0.9998</td>\n",
              "      <td>0.9998</td>\n",
              "      <td>0.9998</td>\n",
              "      <td>0.9998</td>\n",
              "      <td>0.9998</td>\n",
              "      <td>0.9998</td>\n",
              "      <td>0.9998</td>\n",
              "      <td>0.9998</td>\n",
              "      <td>0.9998</td>\n",
              "      <td>0.9998</td>\n",
              "    </tr>\n",
              "    <tr>\n",
              "      <th>3.60</th>\n",
              "      <td>0.9998</td>\n",
              "      <td>0.9998</td>\n",
              "      <td>0.9999</td>\n",
              "      <td>0.9999</td>\n",
              "      <td>0.9999</td>\n",
              "      <td>0.9999</td>\n",
              "      <td>0.9999</td>\n",
              "      <td>0.9999</td>\n",
              "      <td>0.9999</td>\n",
              "      <td>0.9999</td>\n",
              "    </tr>\n",
              "    <tr>\n",
              "      <th>3.70</th>\n",
              "      <td>0.9999</td>\n",
              "      <td>0.9999</td>\n",
              "      <td>0.9999</td>\n",
              "      <td>0.9999</td>\n",
              "      <td>0.9999</td>\n",
              "      <td>0.9999</td>\n",
              "      <td>0.9999</td>\n",
              "      <td>0.9999</td>\n",
              "      <td>0.9999</td>\n",
              "      <td>0.9999</td>\n",
              "    </tr>\n",
              "    <tr>\n",
              "      <th>3.80</th>\n",
              "      <td>0.9999</td>\n",
              "      <td>0.9999</td>\n",
              "      <td>0.9999</td>\n",
              "      <td>0.9999</td>\n",
              "      <td>0.9999</td>\n",
              "      <td>0.9999</td>\n",
              "      <td>0.9999</td>\n",
              "      <td>0.9999</td>\n",
              "      <td>0.9999</td>\n",
              "      <td>0.9999</td>\n",
              "    </tr>\n",
              "    <tr>\n",
              "      <th>3.90</th>\n",
              "      <td>1.0000</td>\n",
              "      <td>1.0000</td>\n",
              "      <td>1.0000</td>\n",
              "      <td>1.0000</td>\n",
              "      <td>1.0000</td>\n",
              "      <td>1.0000</td>\n",
              "      <td>1.0000</td>\n",
              "      <td>1.0000</td>\n",
              "      <td>1.0000</td>\n",
              "      <td>1.0000</td>\n",
              "    </tr>\n",
              "  </tbody>\n",
              "</table>\n",
              "</div>\n",
              "      <button class=\"colab-df-convert\" onclick=\"convertToInteractive('df-f97a0058-09ce-41f2-9e32-0c991c5b0356')\"\n",
              "              title=\"Convert this dataframe to an interactive table.\"\n",
              "              style=\"display:none;\">\n",
              "        \n",
              "  <svg xmlns=\"http://www.w3.org/2000/svg\" height=\"24px\"viewBox=\"0 0 24 24\"\n",
              "       width=\"24px\">\n",
              "    <path d=\"M0 0h24v24H0V0z\" fill=\"none\"/>\n",
              "    <path d=\"M18.56 5.44l.94 2.06.94-2.06 2.06-.94-2.06-.94-.94-2.06-.94 2.06-2.06.94zm-11 1L8.5 8.5l.94-2.06 2.06-.94-2.06-.94L8.5 2.5l-.94 2.06-2.06.94zm10 10l.94 2.06.94-2.06 2.06-.94-2.06-.94-.94-2.06-.94 2.06-2.06.94z\"/><path d=\"M17.41 7.96l-1.37-1.37c-.4-.4-.92-.59-1.43-.59-.52 0-1.04.2-1.43.59L10.3 9.45l-7.72 7.72c-.78.78-.78 2.05 0 2.83L4 21.41c.39.39.9.59 1.41.59.51 0 1.02-.2 1.41-.59l7.78-7.78 2.81-2.81c.8-.78.8-2.07 0-2.86zM5.41 20L4 18.59l7.72-7.72 1.47 1.35L5.41 20z\"/>\n",
              "  </svg>\n",
              "      </button>\n",
              "      \n",
              "  <style>\n",
              "    .colab-df-container {\n",
              "      display:flex;\n",
              "      flex-wrap:wrap;\n",
              "      gap: 12px;\n",
              "    }\n",
              "\n",
              "    .colab-df-convert {\n",
              "      background-color: #E8F0FE;\n",
              "      border: none;\n",
              "      border-radius: 50%;\n",
              "      cursor: pointer;\n",
              "      display: none;\n",
              "      fill: #1967D2;\n",
              "      height: 32px;\n",
              "      padding: 0 0 0 0;\n",
              "      width: 32px;\n",
              "    }\n",
              "\n",
              "    .colab-df-convert:hover {\n",
              "      background-color: #E2EBFA;\n",
              "      box-shadow: 0px 1px 2px rgba(60, 64, 67, 0.3), 0px 1px 3px 1px rgba(60, 64, 67, 0.15);\n",
              "      fill: #174EA6;\n",
              "    }\n",
              "\n",
              "    [theme=dark] .colab-df-convert {\n",
              "      background-color: #3B4455;\n",
              "      fill: #D2E3FC;\n",
              "    }\n",
              "\n",
              "    [theme=dark] .colab-df-convert:hover {\n",
              "      background-color: #434B5C;\n",
              "      box-shadow: 0px 1px 3px 1px rgba(0, 0, 0, 0.15);\n",
              "      filter: drop-shadow(0px 1px 2px rgba(0, 0, 0, 0.3));\n",
              "      fill: #FFFFFF;\n",
              "    }\n",
              "  </style>\n",
              "\n",
              "      <script>\n",
              "        const buttonEl =\n",
              "          document.querySelector('#df-f97a0058-09ce-41f2-9e32-0c991c5b0356 button.colab-df-convert');\n",
              "        buttonEl.style.display =\n",
              "          google.colab.kernel.accessAllowed ? 'block' : 'none';\n",
              "\n",
              "        async function convertToInteractive(key) {\n",
              "          const element = document.querySelector('#df-f97a0058-09ce-41f2-9e32-0c991c5b0356');\n",
              "          const dataTable =\n",
              "            await google.colab.kernel.invokeFunction('convertToInteractive',\n",
              "                                                     [key], {});\n",
              "          if (!dataTable) return;\n",
              "\n",
              "          const docLinkHtml = 'Like what you see? Visit the ' +\n",
              "            '<a target=\"_blank\" href=https://colab.research.google.com/notebooks/data_table.ipynb>data table notebook</a>'\n",
              "            + ' to learn more about interactive tables.';\n",
              "          element.innerHTML = '';\n",
              "          dataTable['output_type'] = 'display_data';\n",
              "          await google.colab.output.renderOutput(dataTable, element);\n",
              "          const docLink = document.createElement('div');\n",
              "          docLink.innerHTML = docLinkHtml;\n",
              "          element.appendChild(docLink);\n",
              "        }\n",
              "      </script>\n",
              "    </div>\n",
              "  </div>\n",
              "  "
            ]
          },
          "metadata": {},
          "execution_count": 32
        }
      ]
    },
    {
      "cell_type": "markdown",
      "source": [
        "#### 2.3.4 Exemplo - Qual sua altura?\n",
        "\n",
        "Em um estudo sobre as alturas dos moradores de uma cidade verificou-se que o conjunto de dados segue uma **distribuição aproximadamente normal**, com **média 1,70** e **desvio padrão de 0,1**. Com estas informações obtenha o seguinte conjunto de probabilidades:\n",
        "\n",
        "1. probabilidade de uma pessoa, selecionada ao acaso, ter menos de 1,80 metros.\n",
        "2. probabilidade de uma pessoa, selecionada ao acaso, ter entre 1,60 metros e 1,80 metros.    \n",
        "3. probabilidade de uma pessoa, selecionada ao acaso, ter mais de 1,90 metros."
      ],
      "metadata": {
        "id": "045nzEpTCJs2"
      }
    },
    {
      "cell_type": "markdown",
      "source": [
        "##### 2.3.4.1 Menos de 1,8 m\n",
        "\n",
        "<img style='float: left' src='https://raw.githubusercontent.com/brnocesar/learning-data-analysis/main/formacao_ds/imagens/aula3_2-3_dist_normal_ex_a.png' width='30%'>\n",
        "\n",
        "Sabendo que a média é 1,70 m posso afirmar que a probabilidade até esse ponto no gráfico é de 0,5. Logo, seria necessário apenas descobrir a área abaixo da curva com os limites de 1,7 até 1,8 metros.\n",
        "\n",
        "Como a tabela padronizada me fornece a probabilidade de $-\\infty$ e $Z$, basta calcular o valor de $Z$ e procurar na tabela para obter a área sob a curva de $-\\infty$ a $1,80 \\; m$.\n",
        "\n",
        "Primeiro vamos usar a tabela padronizada, e depois usaremos a função `cdf()` (_Cumulative distribution function_) do objeto [`norm()`](https://docs.scipy.org/doc/scipy/reference/generated/scipy.stats.norm.html) do módulo `stats` do pacote `scipy`. Note que essa função já foi usada para gerar os valores da tabela padronizada."
      ],
      "metadata": {
        "id": "8o930UQdC4Do"
      }
    },
    {
      "cell_type": "code",
      "source": [
        "media_altura = 1.7\n",
        "media_altura"
      ],
      "metadata": {
        "id": "-dk5Ik8qDmRR",
        "colab": {
          "base_uri": "https://localhost:8080/"
        },
        "outputId": "1e6efc15-b7c4-4350-f1d8-44bb5a855c56"
      },
      "execution_count": 33,
      "outputs": [
        {
          "output_type": "execute_result",
          "data": {
            "text/plain": [
              "1.7"
            ]
          },
          "metadata": {},
          "execution_count": 33
        }
      ]
    },
    {
      "cell_type": "code",
      "source": [
        "desvio_padrao_altura = 0.1\n",
        "desvio_padrao_altura"
      ],
      "metadata": {
        "colab": {
          "base_uri": "https://localhost:8080/"
        },
        "id": "-6sI2TLJJEBt",
        "outputId": "394b9cd2-f5c0-43e7-dac2-350b5ad0b373"
      },
      "execution_count": 34,
      "outputs": [
        {
          "output_type": "execute_result",
          "data": {
            "text/plain": [
              "0.1"
            ]
          },
          "metadata": {},
          "execution_count": 34
        }
      ]
    },
    {
      "cell_type": "code",
      "source": [
        "# variavel padronizada Z para a variável normal x = 1,8 m\n",
        "z_18 = (1.8 - media_altura) / desvio_padrao_altura\n",
        "z_18"
      ],
      "metadata": {
        "colab": {
          "base_uri": "https://localhost:8080/"
        },
        "id": "yub0i8FDJCq6",
        "outputId": "a19e54f5-4799-4d39-c172-d4486b3948db"
      },
      "execution_count": 35,
      "outputs": [
        {
          "output_type": "execute_result",
          "data": {
            "text/plain": [
              "1.0000000000000009"
            ]
          },
          "metadata": {},
          "execution_count": 35
        }
      ]
    },
    {
      "cell_type": "code",
      "source": [
        "# determinando indice e coluna onde procurar na tabela\n",
        "linha_z_18 = f\"{z_18:.2f}\"\n",
        "linha_z_18"
      ],
      "metadata": {
        "colab": {
          "base_uri": "https://localhost:8080/",
          "height": 0
        },
        "id": "z7l70fQ-L_Jt",
        "outputId": "26d7783a-e03b-4201-a896-61d170a358a6"
      },
      "execution_count": 36,
      "outputs": [
        {
          "output_type": "execute_result",
          "data": {
            "text/plain": [
              "'1.00'"
            ],
            "application/vnd.google.colaboratory.intrinsic+json": {
              "type": "string"
            }
          },
          "metadata": {},
          "execution_count": 36
        }
      ]
    },
    {
      "cell_type": "code",
      "source": [
        "coluna_z_18 = f\"{z_18 - int(z_18):.2f}\"\n",
        "coluna_z_18"
      ],
      "metadata": {
        "colab": {
          "base_uri": "https://localhost:8080/",
          "height": 0
        },
        "id": "s_QpOLArMV6Y",
        "outputId": "1a303f18-3f5f-4051-b038-6ebf0096d9c6"
      },
      "execution_count": 37,
      "outputs": [
        {
          "output_type": "execute_result",
          "data": {
            "text/plain": [
              "'0.00'"
            ],
            "application/vnd.google.colaboratory.intrinsic+json": {
              "type": "string"
            }
          },
          "metadata": {},
          "execution_count": 37
        }
      ]
    },
    {
      "cell_type": "code",
      "source": [
        "# probabilidade usando a tabela\n",
        "tabela_normal_padronizada.loc[linha_z_18, coluna_z_18]"
      ],
      "metadata": {
        "colab": {
          "base_uri": "https://localhost:8080/",
          "height": 0
        },
        "id": "FBb3XNq8MlSG",
        "outputId": "abfd50f3-900f-4345-a741-50b3ea3b7640"
      },
      "execution_count": 38,
      "outputs": [
        {
          "output_type": "execute_result",
          "data": {
            "text/plain": [
              "'0.8413'"
            ],
            "application/vnd.google.colaboratory.intrinsic+json": {
              "type": "string"
            }
          },
          "metadata": {},
          "execution_count": 38
        }
      ]
    },
    {
      "cell_type": "code",
      "source": [
        "# calcula probabilidade usando scipy\n",
        "p_18 = stats.norm.cdf(z_18)\n",
        "p_18"
      ],
      "metadata": {
        "id": "088BiUJBDrzo",
        "colab": {
          "base_uri": "https://localhost:8080/"
        },
        "outputId": "539a5ab1-14e3-47b6-9089-1f3800862ae7"
      },
      "execution_count": 39,
      "outputs": [
        {
          "output_type": "execute_result",
          "data": {
            "text/plain": [
              "0.8413447460685431"
            ]
          },
          "metadata": {},
          "execution_count": 39
        }
      ]
    },
    {
      "cell_type": "markdown",
      "source": [
        "##### 2.3.4.2 Entre 1,6 m e 1,8 m\n",
        "\n",
        "<img style='float: left' src='https://raw.githubusercontent.com/brnocesar/learning-data-analysis/main/formacao_ds/imagens/aula3_2-3_dist_normal_ex_b.png' width='30%'>\n",
        "\n",
        "Continuando com o mesmo raciocínio do exemplo anterior ao usar a tabela, precisamos calcular a área abaixo da curva de $-\\infty$ até $1,60 \\; m$. Dessa forma bastaria subtrair esse valor do resultado encontrado no item 1 e teremos a área abaixo da curva que vair de $1,60 \\; m$ até $1,80 \\; m$.\n",
        "\n",
        "Mas note que o delta em módulo dos dois limites em relação à média é igual. Além disso, como se trata de uma distribuição simétrica, significa que a curva é exatamente igual para ambas direções a partir do ponto médio. Logo, podemos afirmar que a área abaixo da curva que vai de $1,60 \\; m$ até $1,70 \\; m$ é igual a área delimitada pelos limites que vão de $1,70 \\; m$ até $1,80 \\; m$.\n",
        "\n",
        "Já determinamos a área abaixo da curva que vai de $-\\infty$ até $1,80 \\; m$ no exemplo anterior e sabemos que que a área que vai de $-\\infty$ até $\\mu = 1,70 \\; m$ é igual a $0,5$. Portanto, podemos calcular a área que vai de $1,70 \\; m$ até $1,80 \\; m$ subtraindo esses valores e depois multiplicar por dois para obter a área que representa a probabilidade desejada."
      ],
      "metadata": {
        "id": "O9oqOvZdDA0e"
      }
    },
    {
      "cell_type": "code",
      "source": [
        "# area da metade do intervalo que queremos\n",
        "p_17_18 = p_18 - 0.5\n",
        "p_17_18"
      ],
      "metadata": {
        "colab": {
          "base_uri": "https://localhost:8080/"
        },
        "id": "Bntn9cMRWLzj",
        "outputId": "6809c7ad-e501-4dc5-a438-ba31e2a0ddc1"
      },
      "execution_count": 40,
      "outputs": [
        {
          "output_type": "execute_result",
          "data": {
            "text/plain": [
              "0.34134474606854315"
            ]
          },
          "metadata": {},
          "execution_count": 40
        }
      ]
    },
    {
      "cell_type": "code",
      "source": [
        "# probabilidade que realmente queremos\n",
        "p_16_18 = p_17_18 * 2\n",
        "p_16_18"
      ],
      "metadata": {
        "colab": {
          "base_uri": "https://localhost:8080/"
        },
        "id": "dM3Neh_lWwTq",
        "outputId": "d3980f39-de30-456b-87af-3b19142c15c9"
      },
      "execution_count": 41,
      "outputs": [
        {
          "output_type": "execute_result",
          "data": {
            "text/plain": [
              "0.6826894921370863"
            ]
          },
          "metadata": {},
          "execution_count": 41
        }
      ]
    },
    {
      "cell_type": "markdown",
      "source": [
        "Agora podemos calcular usando a função `cdf()`. Perceba que se os dois limites (inferior em 1,6 m e superior 1,8 m) realmente distam o mesmo da média, devemos encontrar valores simétricos para suas variáveis padronizadas (já que eles devem ficar à mesma distância em desvios padrões da média)."
      ],
      "metadata": {
        "id": "psc5toPDYpwx"
      }
    },
    {
      "cell_type": "code",
      "source": [
        "z_18"
      ],
      "metadata": {
        "colab": {
          "base_uri": "https://localhost:8080/"
        },
        "id": "OdL_zTOkZR9F",
        "outputId": "bdf904a5-3b57-4d91-d8c7-3d8dde3ae4ea"
      },
      "execution_count": 42,
      "outputs": [
        {
          "output_type": "execute_result",
          "data": {
            "text/plain": [
              "1.0000000000000009"
            ]
          },
          "metadata": {},
          "execution_count": 42
        }
      ]
    },
    {
      "cell_type": "code",
      "source": [
        "# variavel padronizada Z para a variável normal x = 1,6 m\n",
        "z_16 = (1.6 - media_altura) / desvio_padrao_altura\n",
        "z_16"
      ],
      "metadata": {
        "colab": {
          "base_uri": "https://localhost:8080/"
        },
        "id": "ZnJ1HKDCYd0x",
        "outputId": "05970359-f625-482c-bf8f-fd986a386b5d"
      },
      "execution_count": 43,
      "outputs": [
        {
          "output_type": "execute_result",
          "data": {
            "text/plain": [
              "-0.9999999999999987"
            ]
          },
          "metadata": {},
          "execution_count": 43
        }
      ]
    },
    {
      "cell_type": "markdown",
      "source": [
        "e se arredondamos esses números, vemos que possuem o mesmo valor em módulo, o que está de acordo com o que foi discutido. Então aqui basta calcular a probabilidade até o limite superior (já foi feito anteriormente) e até o inferior e subtrair essas porbabilidade:"
      ],
      "metadata": {
        "id": "WgBIwi-iZVTp"
      }
    },
    {
      "cell_type": "code",
      "source": [
        "# probabilidade de ter até 1,8 m\n",
        "p_18"
      ],
      "metadata": {
        "colab": {
          "base_uri": "https://localhost:8080/"
        },
        "id": "Sssr_CSOZovW",
        "outputId": "1091ee52-8e9f-4451-8b88-01340c1b3ea0"
      },
      "execution_count": 44,
      "outputs": [
        {
          "output_type": "execute_result",
          "data": {
            "text/plain": [
              "0.8413447460685431"
            ]
          },
          "metadata": {},
          "execution_count": 44
        }
      ]
    },
    {
      "cell_type": "code",
      "source": [
        "# probabilidade de ter até 1,6 m\n",
        "p_16 = stats.norm.cdf(z_16)\n",
        "p_16"
      ],
      "metadata": {
        "id": "fpYJh-y-ELzs",
        "colab": {
          "base_uri": "https://localhost:8080/"
        },
        "outputId": "e02e93d9-26f8-4995-c8f1-5bae55d574ed"
      },
      "execution_count": 45,
      "outputs": [
        {
          "output_type": "execute_result",
          "data": {
            "text/plain": [
              "0.1586552539314574"
            ]
          },
          "metadata": {},
          "execution_count": 45
        }
      ]
    },
    {
      "cell_type": "code",
      "source": [
        "# probabilidade de ter entre 1,6 m até 1,8 m\n",
        "p_18 - p_16"
      ],
      "metadata": {
        "colab": {
          "base_uri": "https://localhost:8080/"
        },
        "id": "ATh3z0S_ZqYV",
        "outputId": "d717bf62-849b-4eb5-81a0-b3f4e19e2adb"
      },
      "execution_count": 46,
      "outputs": [
        {
          "output_type": "execute_result",
          "data": {
            "text/plain": [
              "0.6826894921370857"
            ]
          },
          "metadata": {},
          "execution_count": 46
        }
      ]
    },
    {
      "cell_type": "markdown",
      "source": [
        "##### 2.3.4.3 Mais de 1,9 m\n",
        "\n",
        "<img style='float: left' src='https://raw.githubusercontent.com/brnocesar/learning-data-analysis/main/formacao_ds/imagens/aula3_2-3_dist_normal_ex_c.png' width='30%'>\n",
        "\n",
        "Como estou interessado na área sob a curva que vai de $x=1,9 \\; m$ até $+\\infty$, basta encontrar encontrar a probabilidade para o $Z$ referente a este $x$ e subtrair de $1$:"
      ],
      "metadata": {
        "id": "oPLGfBBaDINV"
      }
    },
    {
      "cell_type": "code",
      "source": [
        "# variavel padronizada Z para a variável normal x = 1,9 m\n",
        "z_19 = (1.9 - media_altura) / desvio_padrao_altura\n",
        "z_19"
      ],
      "metadata": {
        "id": "-LC2NF-HENEP",
        "colab": {
          "base_uri": "https://localhost:8080/"
        },
        "outputId": "3e0bb894-9275-4ce7-ab3c-ecd366b1e9bb"
      },
      "execution_count": 47,
      "outputs": [
        {
          "output_type": "execute_result",
          "data": {
            "text/plain": [
              "1.9999999999999996"
            ]
          },
          "metadata": {},
          "execution_count": 47
        }
      ]
    },
    {
      "cell_type": "code",
      "source": [
        "# calcula probabilidade usando a tabela\n",
        "z_19_rounded = round(z_19, 2)\n",
        "linha_z_19   = f\"{z_19_rounded:.2f}\"\n",
        "coluna_z_19  = f\"{z_19_rounded - int(z_19_rounded):.2f}\"\n",
        "p_19         = float(tabela_normal_padronizada.loc[linha_z_19, coluna_z_19])\n",
        "p_19"
      ],
      "metadata": {
        "id": "K8qj--D_ENAj",
        "colab": {
          "base_uri": "https://localhost:8080/"
        },
        "outputId": "cb28a9e3-3e71-48ba-bd17-5e57ac010cdc"
      },
      "execution_count": 48,
      "outputs": [
        {
          "output_type": "execute_result",
          "data": {
            "text/plain": [
              "0.9772"
            ]
          },
          "metadata": {},
          "execution_count": 48
        }
      ]
    },
    {
      "cell_type": "code",
      "source": [
        "p_19_inf = 1 - p_19\n",
        "p_19_inf"
      ],
      "metadata": {
        "colab": {
          "base_uri": "https://localhost:8080/"
        },
        "id": "BVV9mp3JeDew",
        "outputId": "0c9db46d-cf4f-4d19-90c6-202171081426"
      },
      "execution_count": 49,
      "outputs": [
        {
          "output_type": "execute_result",
          "data": {
            "text/plain": [
              "0.022800000000000042"
            ]
          },
          "metadata": {},
          "execution_count": 49
        }
      ]
    },
    {
      "cell_type": "code",
      "source": [
        "# calcula usando a funçao de distribuição comulativa do scipy\n",
        "1 - stats.norm.cdf(z_19)"
      ],
      "metadata": {
        "id": "xW01zv1iEM9I",
        "colab": {
          "base_uri": "https://localhost:8080/"
        },
        "outputId": "721e9f8f-c53e-4b52-d424-bf61f0ceb620"
      },
      "execution_count": 50,
      "outputs": [
        {
          "output_type": "execute_result",
          "data": {
            "text/plain": [
              "0.02275013194817921"
            ]
          },
          "metadata": {},
          "execution_count": 50
        }
      ]
    },
    {
      "cell_type": "markdown",
      "source": [
        "Podemos ver que os números não são exatamente iguais, isso se deve ao arredondamento que foi feito ao gerar os valores da tabela padronizada. Podemos também usar a função `sf()` (_Survival function_) que é definida como `1-cdf()``:"
      ],
      "metadata": {
        "id": "D-u3nL-e25mG"
      }
    },
    {
      "cell_type": "code",
      "source": [
        "stats.norm.sf(z_19)"
      ],
      "metadata": {
        "colab": {
          "base_uri": "https://localhost:8080/"
        },
        "id": "d2euJ_Va2UxE",
        "outputId": "1777abe0-a61c-43b0-9c52-3f0676c41e40"
      },
      "execution_count": 51,
      "outputs": [
        {
          "output_type": "execute_result",
          "data": {
            "text/plain": [
              "0.022750131948179216"
            ]
          },
          "metadata": {},
          "execution_count": 51
        }
      ]
    },
    {
      "cell_type": "markdown",
      "source": [
        "## 3 Amostragem"
      ],
      "metadata": {
        "id": "ryuhtFH0Lfah"
      }
    },
    {
      "cell_type": "markdown",
      "source": [
        "### 3.1 População e amostra\n",
        "\n",
        "A **população** é o conjunto de todos os elementos de interesse em um estudo, enquanto que a **amostra** é um subconjunto representativo da **população**."
      ],
      "metadata": {
        "id": "0O8Zul0k9z6w"
      }
    },
    {
      "cell_type": "markdown",
      "source": [
        "#### 3.1.1 Populações\n",
        "\n",
        "Uma população é o conjunto de todos os elementos de interesse em um estudo. Diversos elementos podem compor uma população, como por exemplo: pessoas, idades, alturas, carros etc.\n",
        "\n",
        "Com relação ao tamanho, as populações podem ser **limitadas** (populações finitas) ou **ilimitadas** (populações infinitas).\n",
        "\n",
        "- **Populações finitas**: Permitem a contagem de seus elementos. Como exemplos temos o número de funcionário de uma empresa, a quantidade de alunos em uma escola etc.\n",
        "- **Populações infinitas**: Não é possível contar seus elementos. Como exemplos temos a quantidade de porções que se pode extrair da água do mar para uma análise, temperatura medida em cada ponto de um território etc.\n",
        "\n",
        "**Obs.**: Quando os elementos de uma população puderem ser contados, porém apresentando uma quantidade muito grande, assume-se a população como infinita.\n",
        "\n",
        "#### 3.1.2 Amostra\n",
        "\n",
        "É um subconjunto representativo da população. Os atributos numéricos de uma população como sua _média_, _variância_ e _desvio padrão_, são conhecidos como **parâmetros**. O principal foco da inferência estatística é justamente gerar estimativas e testar hipóteses sobre os parâmetros populacionais utilizando as informações de **amostras**."
      ],
      "metadata": {
        "id": "VEMRkp2DLne2"
      }
    },
    {
      "cell_type": "markdown",
      "source": [
        "### 3.2 Quando utilizar uma amostra?"
      ],
      "metadata": {
        "id": "5x8GnILtLnSo"
      }
    },
    {
      "cell_type": "markdown",
      "source": [
        "- Populações infinitas: o estudo não chegaria nunca ao fim. Não é possível investigar todos os elementos da população.\n",
        "- Testes destrutivos: estudos onde os elementos avaliados são totalmente consumidos ou destruídos. Exemplo: testes de vida útil, testes de segurança contra colisões em automóveis.\n",
        "- Resultados rápidos: pesquisas que precisam de mais agilidade na divulgação. Exemplo: pesquisas de opinião, pesquisas que envolvam problemas de saúde pública.\n",
        "- Custos elevados: quando a população é finita mas muito numerosa, o custo de um censo pode tornar o processo inviável."
      ],
      "metadata": {
        "id": "keWbMwfM-SS_"
      }
    },
    {
      "cell_type": "markdown",
      "source": [
        "### 3.3 Amostragem aleatória simples\n",
        "\n",
        "É uma das principais maneiras de se extrair uma amostra de uma população. A exigência fundamental deste tipo de abordagem é que cada elemeto da população tenha as mesmas chances de ser selecionado para fazer parte da amostra.\n",
        "\n",
        "Vamos fazer alguns testes com o _dataset_ do PNAD para ilustrar o conceito de amostragem simples:"
      ],
      "metadata": {
        "id": "W8_m6akaLm4t"
      }
    },
    {
      "cell_type": "code",
      "source": [
        "# numero de observacoes no dataset\n",
        "df.shape[0]"
      ],
      "metadata": {
        "colab": {
          "base_uri": "https://localhost:8080/"
        },
        "id": "n_AKzIxi7ycY",
        "outputId": "3c4e8d25-e15b-4373-9c89-1e5c417251c5"
      },
      "execution_count": 52,
      "outputs": [
        {
          "output_type": "execute_result",
          "data": {
            "text/plain": [
              "76840"
            ]
          },
          "metadata": {},
          "execution_count": 52
        }
      ]
    },
    {
      "cell_type": "code",
      "source": [
        "# renda média da população\n",
        "df.renda.mean()"
      ],
      "metadata": {
        "colab": {
          "base_uri": "https://localhost:8080/"
        },
        "id": "1nfH1VsM761x",
        "outputId": "5c69fb97-8d44-4f6f-976c-9bb7deb0671c"
      },
      "execution_count": 53,
      "outputs": [
        {
          "output_type": "execute_result",
          "data": {
            "text/plain": [
              "2000.3831988547631"
            ]
          },
          "metadata": {},
          "execution_count": 53
        }
      ]
    },
    {
      "cell_type": "code",
      "source": [
        "# proporcional entre os sexos na população, 0 é masculino\n",
        "df.sexo.value_counts(normalize=True)"
      ],
      "metadata": {
        "colab": {
          "base_uri": "https://localhost:8080/"
        },
        "id": "feUGiRM4-j_y",
        "outputId": "47f9ab30-f6d2-4015-8a69-84076f057b83"
      },
      "execution_count": 54,
      "outputs": [
        {
          "output_type": "execute_result",
          "data": {
            "text/plain": [
              "0    0.692998\n",
              "1    0.307002\n",
              "Name: sexo, dtype: float64"
            ]
          },
          "metadata": {},
          "execution_count": 54
        }
      ]
    },
    {
      "cell_type": "code",
      "source": [
        "# cria dataframe de amostra, com apenas 100 observações\n",
        "amostra_df_100 = df.sample(n=100, random_state=random_state_geral)\n",
        "amostra_df_100.shape[0]"
      ],
      "metadata": {
        "colab": {
          "base_uri": "https://localhost:8080/"
        },
        "id": "XgMog_QG8Doh",
        "outputId": "da71df5b-69b9-4cb7-c579-5d73ad46e8b9"
      },
      "execution_count": 55,
      "outputs": [
        {
          "output_type": "execute_result",
          "data": {
            "text/plain": [
              "100"
            ]
          },
          "metadata": {},
          "execution_count": 55
        }
      ]
    },
    {
      "cell_type": "code",
      "source": [
        "# renda média da amostra com 100 observações\n",
        "amostra_df_100.renda.mean()"
      ],
      "metadata": {
        "colab": {
          "base_uri": "https://localhost:8080/"
        },
        "id": "zn6gLX6i8gbn",
        "outputId": "ca277e61-bc64-4936-ad2d-c03ed89898b5"
      },
      "execution_count": 56,
      "outputs": [
        {
          "output_type": "execute_result",
          "data": {
            "text/plain": [
              "2150.85"
            ]
          },
          "metadata": {},
          "execution_count": 56
        }
      ]
    },
    {
      "cell_type": "code",
      "source": [
        "# proporção entre os sexos na amostra com 100 observações\n",
        "amostra_df_100.sexo.value_counts(normalize=True)"
      ],
      "metadata": {
        "colab": {
          "base_uri": "https://localhost:8080/"
        },
        "id": "eXNSjr978-Tk",
        "outputId": "9932d2a1-e80f-4fc0-a75f-22c8b9266521"
      },
      "execution_count": 57,
      "outputs": [
        {
          "output_type": "execute_result",
          "data": {
            "text/plain": [
              "0    0.69\n",
              "1    0.31\n",
              "Name: sexo, dtype: float64"
            ]
          },
          "metadata": {},
          "execution_count": 57
        }
      ]
    },
    {
      "cell_type": "markdown",
      "source": [
        "Uma amostra com apenas 100 das 76840 observações do _dataset_ original está apresentando um valor próximo para a média da variável `renda` e também mantendo a proporção original entre homens e mulheres, mas ainda não temos como avaliar se essa amostra é representativa da população.\n",
        "\n",
        "Vamos refazer a amostra, mas agora com 1000 observações:"
      ],
      "metadata": {
        "id": "L-N3bW-O9SV3"
      }
    },
    {
      "cell_type": "code",
      "source": [
        "# cria dataframe de amostra, com apenas 100 observações\n",
        "amostra_df_1000 = df.sample(n=1000, random_state=random_state_geral)\n",
        "amostra_df_1000.shape[0]"
      ],
      "metadata": {
        "colab": {
          "base_uri": "https://localhost:8080/"
        },
        "id": "n_gprw7T930g",
        "outputId": "a2c0e46f-d07e-4525-ffe6-b59e4cfc78f7"
      },
      "execution_count": 58,
      "outputs": [
        {
          "output_type": "execute_result",
          "data": {
            "text/plain": [
              "1000"
            ]
          },
          "metadata": {},
          "execution_count": 58
        }
      ]
    },
    {
      "cell_type": "code",
      "source": [
        "# renda média da amostra com 1000 observações\n",
        "amostra_df_1000.renda.mean()"
      ],
      "metadata": {
        "colab": {
          "base_uri": "https://localhost:8080/"
        },
        "id": "SWdbE0wd-I1m",
        "outputId": "1abaa27f-faf8-47ea-edd5-0b7244cf7ce2"
      },
      "execution_count": 59,
      "outputs": [
        {
          "output_type": "execute_result",
          "data": {
            "text/plain": [
              "1998.783"
            ]
          },
          "metadata": {},
          "execution_count": 59
        }
      ]
    },
    {
      "cell_type": "code",
      "source": [
        "# proporção entre os sexos na amostra com 1000 observações\n",
        "amostra_df_1000.sexo.value_counts(normalize=True)"
      ],
      "metadata": {
        "colab": {
          "base_uri": "https://localhost:8080/"
        },
        "id": "fIKJUjam-Ivo",
        "outputId": "76651b0e-fe46-48c2-8e38-bf024080adf5"
      },
      "execution_count": 60,
      "outputs": [
        {
          "output_type": "execute_result",
          "data": {
            "text/plain": [
              "0    0.706\n",
              "1    0.294\n",
              "Name: sexo, dtype: float64"
            ]
          },
          "metadata": {},
          "execution_count": 60
        }
      ]
    },
    {
      "cell_type": "markdown",
      "source": [
        "Com a amostra de tamanho 1000 obtemos valores diferentes da amostra anterior e mais próximos da população."
      ],
      "metadata": {
        "id": "8ngKjwRe--hE"
      }
    },
    {
      "cell_type": "markdown",
      "source": [
        "### 3.4 Amostragem estratificada\n",
        "\n",
        "É uma melhoria do processo de amostragem aleatória simples. Neste método é proposta a divisão da população em subgrupos de elementos com características similares, ou seja, grupos mais homogêneos. Com estes subgrupos separados, aplica-se a técnica de amostragem aleatória simples dentro de cada subgrupo individualmente."
      ],
      "metadata": {
        "id": "vPvv2_tgLm0c"
      }
    },
    {
      "cell_type": "markdown",
      "source": [
        "### 3.5 Amostragem por conglomerados\n",
        "\n",
        "Também visa melhorar o critério de amostragem aleatória simples. Na amostragem por conglomerados são também criados subgrupos, porém não serão homogêneas como na amostragem estratificada. Na amostragem por conglomerados os subgrupos serão heterogêneos, onde, em seguida, serão aplicadas a amostragem aleatória simples ou estratificada.\n",
        "\n",
        "Um exemplo bastante comum de aplicação deste tipo de técnica é na divisão da população em grupos territoriais, onde os elementos investigados terão características bastante variadas."
      ],
      "metadata": {
        "id": "K_QXukGGLmqC"
      }
    },
    {
      "cell_type": "markdown",
      "source": [
        "## 4 Estimação\n",
        "\n",
        "É a forma de se fazer suposições generalizadas sobre os parâmetros de uma população tendo como base as informações de uma amostra.\n",
        "\n",
        "- **Parâmetros** são os atributos numéricos de uma população, tal como a média, desvio padrão etc.\n",
        "\n",
        "- **Estimativa** é o valor obtido para determinado parâmetro a partir dos dados de uma amostra da população."
      ],
      "metadata": {
        "id": "3H01f_OoEcXe"
      }
    },
    {
      "cell_type": "markdown",
      "source": [
        "### 4.1 Teorema do limite central\n",
        "\n",
        "O **Teorema do limite central** afirma que _\"com o aumento do tamanho da amostra, a distribuição das médias amostrais se aproxima de uma distribuição normal com média igual à média da população e desvio padrão igual ao desvio padrão da variável original dividido pela raiz quadrada do tamanho da amostra. Este fato é assegurado para $n$ maior ou igual a 30.\"_\n",
        "\n",
        "# $$\\sigma_\\bar{x} = \\frac{\\sigma}{\\sqrt{n}}$$\n",
        "\n",
        "O desvio padrão das médias amostrais é conhecido como **erro padrão da média**"
      ],
      "metadata": {
        "id": "xb2iIFdSCPD8"
      }
    },
    {
      "cell_type": "markdown",
      "source": [
        "#### 4.1.1 Entendo o Teorema do limite central"
      ],
      "metadata": {
        "id": "E6XqHTYBjD-l"
      }
    },
    {
      "cell_type": "code",
      "source": [
        "# tamanho da amostra\n",
        "n = 2000\n",
        "\n",
        "# número de vezes que vou selecionar a amostra\n",
        "total_amostras = 1500\n",
        "\n",
        "# dataframe para armazenar as amostras de idade selecionadas\n",
        "amostras = pd.DataFrame()\n",
        "\n",
        "# loop para selecionar as amostras\n",
        "for i in range(total_amostras):\n",
        "    amostra = df.idade.sample(n).reset_index(drop=True)\n",
        "    amostras[f\"amostra_{i}\"] = amostra"
      ],
      "metadata": {
        "colab": {
          "base_uri": "https://localhost:8080/"
        },
        "id": "aQ6FGzSSjc9-",
        "outputId": "f2233370-f61b-440e-f135-62b714bd67ec"
      },
      "execution_count": 61,
      "outputs": [
        {
          "output_type": "stream",
          "name": "stderr",
          "text": [
            "/usr/local/lib/python3.7/dist-packages/ipykernel_launcher.py:13: PerformanceWarning: DataFrame is highly fragmented.  This is usually the result of calling `frame.insert` many times, which has poor performance.  Consider joining all columns at once using pd.concat(axis=1) instead.  To get a de-fragmented frame, use `newframe = frame.copy()`\n",
            "  del sys.path[0]\n"
          ]
        }
      ]
    },
    {
      "cell_type": "code",
      "source": [
        "amostras.shape"
      ],
      "metadata": {
        "colab": {
          "base_uri": "https://localhost:8080/"
        },
        "id": "oYuwIe9pltYS",
        "outputId": "83e86f79-e5c8-419b-8e67-4a739991e717"
      },
      "execution_count": 62,
      "outputs": [
        {
          "output_type": "execute_result",
          "data": {
            "text/plain": [
              "(2000, 1500)"
            ]
          },
          "metadata": {},
          "execution_count": 62
        }
      ]
    },
    {
      "cell_type": "markdown",
      "source": [
        "> O Teorema do Limite Central afirma que, _\"**com o aumento do tamanho da amostra, a distribuição das médias amostrais se aproxima de uma distribuição normal** com média igual à média da população e desvio padrão igual ao desvio padrão da variável original dividido pela raiz quadrada do tamanho da amostra. Este fato é assegurado para n maior ou igual a 30_\"."
      ],
      "metadata": {
        "id": "K24ytg9YFYGK"
      }
    },
    {
      "cell_type": "code",
      "source": [
        "# calcula a média de cada uma das amostars\n",
        "amostras.mean().head()"
      ],
      "metadata": {
        "colab": {
          "base_uri": "https://localhost:8080/"
        },
        "id": "ZL_lgyxRmYYO",
        "outputId": "d81e5e8c-0a23-4560-d79a-1ec4adc13174"
      },
      "execution_count": 63,
      "outputs": [
        {
          "output_type": "execute_result",
          "data": {
            "text/plain": [
              "amostra_0    44.113\n",
              "amostra_1    44.212\n",
              "amostra_2    43.981\n",
              "amostra_3    43.906\n",
              "amostra_4    44.141\n",
              "dtype: float64"
            ]
          },
          "metadata": {},
          "execution_count": 63
        }
      ]
    },
    {
      "cell_type": "code",
      "source": [
        "# verifica se a distribuição das médias amostrais da idade se aproxima da distribuição normal\n",
        "ax = sns.histplot(data=amostras.mean(), bins=40, kde=True)\n",
        "\n",
        "ax.figure.set_size_inches(9, 5)\n",
        "plt.title('Distribuição das médias amostrais da Idade', fontsize=18)\n",
        "plt.xlabel('Média da Idade (anos)', fontsize=14)\n",
        "plt.ylabel('Quantidade', fontsize=14)\n",
        "bx = ax"
      ],
      "metadata": {
        "colab": {
          "base_uri": "https://localhost:8080/",
          "height": 0
        },
        "id": "xC6W3-rtnpdX",
        "outputId": "8fa751ae-1e60-436f-f684-bda2ac674763"
      },
      "execution_count": 64,
      "outputs": [
        {
          "output_type": "display_data",
          "data": {
            "text/plain": [
              "<Figure size 648x360 with 1 Axes>"
            ],
            "image/png": "[encoded data removed]"
          },
          "metadata": {
            "needs_background": "light"
          }
        }
      ]
    },
    {
      "cell_type": "markdown",
      "source": [
        "> O Teorema do Limite Central afirma que, _\"com o aumento do tamanho da amostra, a distribuição das médias amostrais se aproxima de uma distribuição normal **com média igual à média da população** e desvio padrão igual ao desvio padrão da variável original dividido pela raiz quadrada do tamanho da amostra. Este fato é assegurado para n maior ou igual a 30\"_."
      ],
      "metadata": {
        "id": "E7yOjBjDFjnt"
      }
    },
    {
      "cell_type": "code",
      "source": [
        "# média da idade na população\n",
        "df.idade.mean()"
      ],
      "metadata": {
        "colab": {
          "base_uri": "https://localhost:8080/"
        },
        "id": "UquLHkAeoYEz",
        "outputId": "619b09a2-4c64-4aed-bfaf-2975ddcd8075"
      },
      "execution_count": 65,
      "outputs": [
        {
          "output_type": "execute_result",
          "data": {
            "text/plain": [
              "44.07142113482561"
            ]
          },
          "metadata": {},
          "execution_count": 65
        }
      ]
    },
    {
      "cell_type": "code",
      "source": [
        "# média das médias amostrais da idade\n",
        "amostras.mean().mean()"
      ],
      "metadata": {
        "colab": {
          "base_uri": "https://localhost:8080/"
        },
        "id": "fA9wIcaYoeLi",
        "outputId": "b0283427-3545-4745-ce9a-6b9c42eea6ee"
      },
      "execution_count": 66,
      "outputs": [
        {
          "output_type": "execute_result",
          "data": {
            "text/plain": [
              "44.06984499999997"
            ]
          },
          "metadata": {},
          "execution_count": 66
        }
      ]
    },
    {
      "cell_type": "markdown",
      "source": [
        "> O Teorema do Limite Central afirma que, _\"com o aumento do tamanho da amostra, a distribuição das médias amostrais se aproxima de uma distribuição normal com média igual à média da população e **desvio padrão igual ao desvio padrão da variável original dividido pela raiz quadrada do tamanho da amostra**. Este fato é assegurado para n maior ou igual a 30_\".\n",
        "\n",
        "$$\\sigma_\\bar{x} = \\frac{\\sigma}{\\sqrt{n}}$$"
      ],
      "metadata": {
        "id": "yTsfntpHFseP"
      }
    },
    {
      "cell_type": "code",
      "source": [
        "# desvio padrão da distribuição de médias amostrais da idade\n",
        "amostras.mean().std()"
      ],
      "metadata": {
        "colab": {
          "base_uri": "https://localhost:8080/"
        },
        "id": "sV7BETbmo62O",
        "outputId": "a48abb58-438f-4dbc-a8fc-d303c80892db"
      },
      "execution_count": 67,
      "outputs": [
        {
          "output_type": "execute_result",
          "data": {
            "text/plain": [
              "0.2683358061799661"
            ]
          },
          "metadata": {},
          "execution_count": 67
        }
      ]
    },
    {
      "cell_type": "code",
      "source": [
        "# desvio padrão da variável original (idade da população)\n",
        "df.idade.std()"
      ],
      "metadata": {
        "colab": {
          "base_uri": "https://localhost:8080/"
        },
        "id": "2rPsmBt4pRWy",
        "outputId": "7f04519f-2f9a-41c8-be64-3ffbe04bd017"
      },
      "execution_count": 68,
      "outputs": [
        {
          "output_type": "execute_result",
          "data": {
            "text/plain": [
              "12.480583465360187"
            ]
          },
          "metadata": {},
          "execution_count": 68
        }
      ]
    },
    {
      "cell_type": "code",
      "source": [
        "# verifica a relação entre desvio padrão da variável original e desvio padrão da distribuição de médias\n",
        "df.idade.std() / np.sqrt(n)"
      ],
      "metadata": {
        "colab": {
          "base_uri": "https://localhost:8080/"
        },
        "id": "Co5xmNFzpnxd",
        "outputId": "e52be6d3-224f-44d8-a1ed-05ab9fbbe227"
      },
      "execution_count": 69,
      "outputs": [
        {
          "output_type": "execute_result",
          "data": {
            "text/plain": [
              "0.2790743302740527"
            ]
          },
          "metadata": {},
          "execution_count": 69
        }
      ]
    },
    {
      "cell_type": "markdown",
      "source": [
        "### 4.2 Níveis de confiança e significância\n",
        "\n",
        "O **nível de confiança** ($1 - \\alpha$) representa a probabilidade de acerto da estimativa. De forma complementar o **nível de significância** ($\\alpha$) expressa a probabilidade de erro da estimativa."
      ],
      "metadata": {
        "id": "QnEXNbZmCZZj"
      }
    },
    {
      "cell_type": "markdown",
      "source": [
        "O **nível de confiança** representa o grau de confiabilidade do resultado da estimativa estar dentro de determinado intervalo. Quando fixamos em uma pesquisa um **nível de confiança** de 95%, por exemplo, estamos assumindo que existe uma probabilidade de 95% dos resultados da pesquisa representarem bem a realidade, ou seja, estarem corretos.\n",
        "\n",
        "O **nível de confiança** de uma estimativa pode ser obtido a partir da área sob a curva normal como ilustrado na figura abaixo.\n",
        "\n",
        "<img src='https://raw.githubusercontent.com/brnocesar/learning-data-analysis/main/formacao_ds/imagens/aula3_4-2_niveis_confianca_e_significancia.png' width='30%'>"
      ],
      "metadata": {
        "id": "vHPzRQTi4LfS"
      }
    },
    {
      "cell_type": "markdown",
      "source": [
        "### 4.3 Erro inferencial\n",
        "\n",
        "O **erro inferencial** é definido pelo **desvio padrão das médias amostrais** $\\sigma_\\bar{x}$ e pelo **nível de confiança** determinado para o processo.\n",
        "\n",
        "$$e = z \\frac{\\sigma}{\\sqrt{n}}$$"
      ],
      "metadata": {
        "id": "jYweUbJyCdD7"
      }
    },
    {
      "cell_type": "markdown",
      "source": [
        "### 4.4 Intervalos de confiança"
      ],
      "metadata": {
        "id": "HMo7Wz0BCk0f"
      }
    },
    {
      "cell_type": "markdown",
      "source": [
        "#### 4.4.1 Intevalo de confiança para a média da população $\\mu$\n",
        "\n",
        "- Com desvio padrão populacional conhecido: $\\mu = \\bar{x} \\pm z\\frac{\\sigma}{\\sqrt{n}}$\n",
        "\n",
        "- Com desvio padrão populacional desconhecido: $\\mu = \\bar{x} \\pm z\\frac{s}{\\sqrt{n}}$\n",
        "\n",
        "onde $\\bar{x}$ é a média da amostra, $\\sigma$ é o desvio padrão populacional e $s$ é o desvio padrão da amostra.\n"
      ],
      "metadata": {
        "id": "IruJ6-i6GTrY"
      }
    },
    {
      "cell_type": "markdown",
      "source": [
        "### 4.5 Exemplo\n",
        "\n",
        "Suponha que os pesos dos sacos de arroz de uma indústria alimentícia se distribuem aproximadamente como uma normal de **desvio padrão populacional igual a 150 g**. Selecionada uma **amostra aleatório de 20 sacos** de um lote específico, obteve-se um **peso médio de 5.050 g**. Construa um intervalo de confiança para a **média populacional** assumindo um **nível de significância de 5%**."
      ],
      "metadata": {
        "id": "LKGEaiqArbCw"
      }
    },
    {
      "cell_type": "code",
      "source": [
        "# média amostral (valor dado pelo enunciado)\n",
        "media_amostral = 5050\n",
        "media_amostral"
      ],
      "metadata": {
        "id": "CSTBgZTWHD7p",
        "colab": {
          "base_uri": "https://localhost:8080/"
        },
        "outputId": "07f5f6cd-be71-4b86-ae8c-884b2d22bc9c"
      },
      "execution_count": 70,
      "outputs": [
        {
          "output_type": "execute_result",
          "data": {
            "text/plain": [
              "5050"
            ]
          },
          "metadata": {},
          "execution_count": 70
        }
      ]
    },
    {
      "cell_type": "code",
      "source": [
        "# nivel de significancia (valor dado pelo enunciado)\n",
        "significancia = 0.05\n",
        "significancia"
      ],
      "metadata": {
        "id": "KIwwJxc-HE70",
        "colab": {
          "base_uri": "https://localhost:8080/"
        },
        "outputId": "9edd09ef-5722-4cc4-fbd5-a804d50c25cd"
      },
      "execution_count": 71,
      "outputs": [
        {
          "output_type": "execute_result",
          "data": {
            "text/plain": [
              "0.05"
            ]
          },
          "metadata": {},
          "execution_count": 71
        }
      ]
    },
    {
      "cell_type": "code",
      "source": [
        "# nivel de confiança\n",
        "confianca = 1 - significancia\n",
        "confianca"
      ],
      "metadata": {
        "id": "gam9vZ7EHEqi",
        "colab": {
          "base_uri": "https://localhost:8080/"
        },
        "outputId": "89d911d0-7fa1-4b11-9668-5d17eb6288d7"
      },
      "execution_count": 72,
      "outputs": [
        {
          "output_type": "execute_result",
          "data": {
            "text/plain": [
              "0.95"
            ]
          },
          "metadata": {},
          "execution_count": 72
        }
      ]
    },
    {
      "cell_type": "markdown",
      "source": [
        "**Obtendo o $z$**\n",
        "\n",
        "<img src='https://raw.githubusercontent.com/brnocesar/learning-data-analysis/main/formacao_ds/imagens/aula3_4-5_intervalo_confianca.png' width='30%'>\n",
        "\n",
        "Na imagem já temos os valores dos limites e agora vamos ver como encontrá-los, primeiro usando a tabela padronizada e depois usando a função `ppf()` o `scipy`. Sabendo que a distribuição é simétrica e meu intervalo de confiança é de 95% (ou seja, 95% dos valores estão dentro da área destacada e limitada pelos limites indicados), basta encontrar a a metada da área destacada e somar $0,5$ a esse valor para poder encontrar o valor do limite superior na tabela padronizada.\n",
        "\n",
        "Novamente, como se trata de uma distribuição simétrica, o limite inferior terá o mesmo valor que o limite superior, porém sinal oposto."
      ],
      "metadata": {
        "id": "f9QH-6bWHS2M"
      }
    },
    {
      "cell_type": "code",
      "source": [
        "probabilidade_lim_sup = 0.5 + (confianca / 2)\n",
        "probabilidade_lim_sup"
      ],
      "metadata": {
        "id": "E8KiOlwMHEj6",
        "colab": {
          "base_uri": "https://localhost:8080/"
        },
        "outputId": "1c5ac012-e4f7-44db-fcea-f8759202ae66"
      },
      "execution_count": 73,
      "outputs": [
        {
          "output_type": "execute_result",
          "data": {
            "text/plain": [
              "0.975"
            ]
          },
          "metadata": {},
          "execution_count": 73
        }
      ]
    },
    {
      "cell_type": "code",
      "source": [
        "# escreve no mesmo formato da tabela padronizada\n",
        "probabilidade_lim_sup_str = str(f\"{probabilidade_lim_sup:.4f}\")\n",
        "probabilidade_lim_sup_str"
      ],
      "metadata": {
        "colab": {
          "base_uri": "https://localhost:8080/",
          "height": 35
        },
        "id": "BBW98URrdM03",
        "outputId": "d5262a1c-6271-4f6b-882d-e5c173e53c91"
      },
      "execution_count": 74,
      "outputs": [
        {
          "output_type": "execute_result",
          "data": {
            "text/plain": [
              "'0.9750'"
            ],
            "application/vnd.google.colaboratory.intrinsic+json": {
              "type": "string"
            }
          },
          "metadata": {},
          "execution_count": 74
        }
      ]
    },
    {
      "cell_type": "code",
      "source": [
        "# seleciono apenas a linha que me interessa para obter z na tabela padronizada\n",
        "tabela_normal_padronizada.loc[\n",
        "    (pd.to_numeric(tabela_normal_padronizada['0.00']) < probabilidade_lim_sup) \n",
        "    & (pd.to_numeric(tabela_normal_padronizada['0.09']) > probabilidade_lim_sup)\n",
        "]"
      ],
      "metadata": {
        "id": "bvToD-90HEni",
        "colab": {
          "base_uri": "https://localhost:8080/",
          "height": 81
        },
        "outputId": "063fce65-5b6e-46a1-bd2e-dfbc29987a1d"
      },
      "execution_count": 75,
      "outputs": [
        {
          "output_type": "execute_result",
          "data": {
            "text/plain": [
              "Z       0.00    0.01    0.02    0.03    0.04    0.05    0.06    0.07    0.08  \\\n",
              "1.90  0.9713  0.9719  0.9726  0.9732  0.9738  0.9744  0.9750  0.9756  0.9761   \n",
              "\n",
              "Z       0.09  \n",
              "1.90  0.9767  "
            ],
            "text/html": [
              "\n",
              "  <div id=\"df-a55361be-ff6f-46e9-861a-64e97a809ec2\">\n",
              "    <div class=\"colab-df-container\">\n",
              "      <div>\n",
              "<style scoped>\n",
              "    .dataframe tbody tr th:only-of-type {\n",
              "        vertical-align: middle;\n",
              "    }\n",
              "\n",
              "    .dataframe tbody tr th {\n",
              "        vertical-align: top;\n",
              "    }\n",
              "\n",
              "    .dataframe thead th {\n",
              "        text-align: right;\n",
              "    }\n",
              "</style>\n",
              "<table border=\"1\" class=\"dataframe\">\n",
              "  <thead>\n",
              "    <tr style=\"text-align: right;\">\n",
              "      <th>Z</th>\n",
              "      <th>0.00</th>\n",
              "      <th>0.01</th>\n",
              "      <th>0.02</th>\n",
              "      <th>0.03</th>\n",
              "      <th>0.04</th>\n",
              "      <th>0.05</th>\n",
              "      <th>0.06</th>\n",
              "      <th>0.07</th>\n",
              "      <th>0.08</th>\n",
              "      <th>0.09</th>\n",
              "    </tr>\n",
              "  </thead>\n",
              "  <tbody>\n",
              "    <tr>\n",
              "      <th>1.90</th>\n",
              "      <td>0.9713</td>\n",
              "      <td>0.9719</td>\n",
              "      <td>0.9726</td>\n",
              "      <td>0.9732</td>\n",
              "      <td>0.9738</td>\n",
              "      <td>0.9744</td>\n",
              "      <td>0.9750</td>\n",
              "      <td>0.9756</td>\n",
              "      <td>0.9761</td>\n",
              "      <td>0.9767</td>\n",
              "    </tr>\n",
              "  </tbody>\n",
              "</table>\n",
              "</div>\n",
              "      <button class=\"colab-df-convert\" onclick=\"convertToInteractive('df-a55361be-ff6f-46e9-861a-64e97a809ec2')\"\n",
              "              title=\"Convert this dataframe to an interactive table.\"\n",
              "              style=\"display:none;\">\n",
              "        \n",
              "  <svg xmlns=\"http://www.w3.org/2000/svg\" height=\"24px\"viewBox=\"0 0 24 24\"\n",
              "       width=\"24px\">\n",
              "    <path d=\"M0 0h24v24H0V0z\" fill=\"none\"/>\n",
              "    <path d=\"M18.56 5.44l.94 2.06.94-2.06 2.06-.94-2.06-.94-.94-2.06-.94 2.06-2.06.94zm-11 1L8.5 8.5l.94-2.06 2.06-.94-2.06-.94L8.5 2.5l-.94 2.06-2.06.94zm10 10l.94 2.06.94-2.06 2.06-.94-2.06-.94-.94-2.06-.94 2.06-2.06.94z\"/><path d=\"M17.41 7.96l-1.37-1.37c-.4-.4-.92-.59-1.43-.59-.52 0-1.04.2-1.43.59L10.3 9.45l-7.72 7.72c-.78.78-.78 2.05 0 2.83L4 21.41c.39.39.9.59 1.41.59.51 0 1.02-.2 1.41-.59l7.78-7.78 2.81-2.81c.8-.78.8-2.07 0-2.86zM5.41 20L4 18.59l7.72-7.72 1.47 1.35L5.41 20z\"/>\n",
              "  </svg>\n",
              "      </button>\n",
              "      \n",
              "  <style>\n",
              "    .colab-df-container {\n",
              "      display:flex;\n",
              "      flex-wrap:wrap;\n",
              "      gap: 12px;\n",
              "    }\n",
              "\n",
              "    .colab-df-convert {\n",
              "      background-color: #E8F0FE;\n",
              "      border: none;\n",
              "      border-radius: 50%;\n",
              "      cursor: pointer;\n",
              "      display: none;\n",
              "      fill: #1967D2;\n",
              "      height: 32px;\n",
              "      padding: 0 0 0 0;\n",
              "      width: 32px;\n",
              "    }\n",
              "\n",
              "    .colab-df-convert:hover {\n",
              "      background-color: #E2EBFA;\n",
              "      box-shadow: 0px 1px 2px rgba(60, 64, 67, 0.3), 0px 1px 3px 1px rgba(60, 64, 67, 0.15);\n",
              "      fill: #174EA6;\n",
              "    }\n",
              "\n",
              "    [theme=dark] .colab-df-convert {\n",
              "      background-color: #3B4455;\n",
              "      fill: #D2E3FC;\n",
              "    }\n",
              "\n",
              "    [theme=dark] .colab-df-convert:hover {\n",
              "      background-color: #434B5C;\n",
              "      box-shadow: 0px 1px 3px 1px rgba(0, 0, 0, 0.15);\n",
              "      filter: drop-shadow(0px 1px 2px rgba(0, 0, 0, 0.3));\n",
              "      fill: #FFFFFF;\n",
              "    }\n",
              "  </style>\n",
              "\n",
              "      <script>\n",
              "        const buttonEl =\n",
              "          document.querySelector('#df-a55361be-ff6f-46e9-861a-64e97a809ec2 button.colab-df-convert');\n",
              "        buttonEl.style.display =\n",
              "          google.colab.kernel.accessAllowed ? 'block' : 'none';\n",
              "\n",
              "        async function convertToInteractive(key) {\n",
              "          const element = document.querySelector('#df-a55361be-ff6f-46e9-861a-64e97a809ec2');\n",
              "          const dataTable =\n",
              "            await google.colab.kernel.invokeFunction('convertToInteractive',\n",
              "                                                     [key], {});\n",
              "          if (!dataTable) return;\n",
              "\n",
              "          const docLinkHtml = 'Like what you see? Visit the ' +\n",
              "            '<a target=\"_blank\" href=https://colab.research.google.com/notebooks/data_table.ipynb>data table notebook</a>'\n",
              "            + ' to learn more about interactive tables.';\n",
              "          element.innerHTML = '';\n",
              "          dataTable['output_type'] = 'display_data';\n",
              "          await google.colab.output.renderOutput(dataTable, element);\n",
              "          const docLink = document.createElement('div');\n",
              "          docLink.innerHTML = docLinkHtml;\n",
              "          element.appendChild(docLink);\n",
              "        }\n",
              "      </script>\n",
              "    </div>\n",
              "  </div>\n",
              "  "
            ]
          },
          "metadata": {},
          "execution_count": 75
        }
      ]
    },
    {
      "cell_type": "code",
      "source": [
        "# mantenho apenas a probabilidade que estou procurando\n",
        "valor_z_df = tabela_normal_padronizada[tabela_normal_padronizada == probabilidade_lim_sup_str].dropna(how='all', axis=0).dropna(axis=1)\n",
        "valor_z_df"
      ],
      "metadata": {
        "colab": {
          "base_uri": "https://localhost:8080/",
          "height": 81
        },
        "id": "1vn3LCjia_aj",
        "outputId": "1e8c06f4-2e4f-4311-acdf-d247173ea754"
      },
      "execution_count": 76,
      "outputs": [
        {
          "output_type": "execute_result",
          "data": {
            "text/plain": [
              "Z       0.06\n",
              "1.90  0.9750"
            ],
            "text/html": [
              "\n",
              "  <div id=\"df-33d3f488-2208-4fb8-9c4b-9e69a83b1b0e\">\n",
              "    <div class=\"colab-df-container\">\n",
              "      <div>\n",
              "<style scoped>\n",
              "    .dataframe tbody tr th:only-of-type {\n",
              "        vertical-align: middle;\n",
              "    }\n",
              "\n",
              "    .dataframe tbody tr th {\n",
              "        vertical-align: top;\n",
              "    }\n",
              "\n",
              "    .dataframe thead th {\n",
              "        text-align: right;\n",
              "    }\n",
              "</style>\n",
              "<table border=\"1\" class=\"dataframe\">\n",
              "  <thead>\n",
              "    <tr style=\"text-align: right;\">\n",
              "      <th>Z</th>\n",
              "      <th>0.06</th>\n",
              "    </tr>\n",
              "  </thead>\n",
              "  <tbody>\n",
              "    <tr>\n",
              "      <th>1.90</th>\n",
              "      <td>0.9750</td>\n",
              "    </tr>\n",
              "  </tbody>\n",
              "</table>\n",
              "</div>\n",
              "      <button class=\"colab-df-convert\" onclick=\"convertToInteractive('df-33d3f488-2208-4fb8-9c4b-9e69a83b1b0e')\"\n",
              "              title=\"Convert this dataframe to an interactive table.\"\n",
              "              style=\"display:none;\">\n",
              "        \n",
              "  <svg xmlns=\"http://www.w3.org/2000/svg\" height=\"24px\"viewBox=\"0 0 24 24\"\n",
              "       width=\"24px\">\n",
              "    <path d=\"M0 0h24v24H0V0z\" fill=\"none\"/>\n",
              "    <path d=\"M18.56 5.44l.94 2.06.94-2.06 2.06-.94-2.06-.94-.94-2.06-.94 2.06-2.06.94zm-11 1L8.5 8.5l.94-2.06 2.06-.94-2.06-.94L8.5 2.5l-.94 2.06-2.06.94zm10 10l.94 2.06.94-2.06 2.06-.94-2.06-.94-.94-2.06-.94 2.06-2.06.94z\"/><path d=\"M17.41 7.96l-1.37-1.37c-.4-.4-.92-.59-1.43-.59-.52 0-1.04.2-1.43.59L10.3 9.45l-7.72 7.72c-.78.78-.78 2.05 0 2.83L4 21.41c.39.39.9.59 1.41.59.51 0 1.02-.2 1.41-.59l7.78-7.78 2.81-2.81c.8-.78.8-2.07 0-2.86zM5.41 20L4 18.59l7.72-7.72 1.47 1.35L5.41 20z\"/>\n",
              "  </svg>\n",
              "      </button>\n",
              "      \n",
              "  <style>\n",
              "    .colab-df-container {\n",
              "      display:flex;\n",
              "      flex-wrap:wrap;\n",
              "      gap: 12px;\n",
              "    }\n",
              "\n",
              "    .colab-df-convert {\n",
              "      background-color: #E8F0FE;\n",
              "      border: none;\n",
              "      border-radius: 50%;\n",
              "      cursor: pointer;\n",
              "      display: none;\n",
              "      fill: #1967D2;\n",
              "      height: 32px;\n",
              "      padding: 0 0 0 0;\n",
              "      width: 32px;\n",
              "    }\n",
              "\n",
              "    .colab-df-convert:hover {\n",
              "      background-color: #E2EBFA;\n",
              "      box-shadow: 0px 1px 2px rgba(60, 64, 67, 0.3), 0px 1px 3px 1px rgba(60, 64, 67, 0.15);\n",
              "      fill: #174EA6;\n",
              "    }\n",
              "\n",
              "    [theme=dark] .colab-df-convert {\n",
              "      background-color: #3B4455;\n",
              "      fill: #D2E3FC;\n",
              "    }\n",
              "\n",
              "    [theme=dark] .colab-df-convert:hover {\n",
              "      background-color: #434B5C;\n",
              "      box-shadow: 0px 1px 3px 1px rgba(0, 0, 0, 0.15);\n",
              "      filter: drop-shadow(0px 1px 2px rgba(0, 0, 0, 0.3));\n",
              "      fill: #FFFFFF;\n",
              "    }\n",
              "  </style>\n",
              "\n",
              "      <script>\n",
              "        const buttonEl =\n",
              "          document.querySelector('#df-33d3f488-2208-4fb8-9c4b-9e69a83b1b0e button.colab-df-convert');\n",
              "        buttonEl.style.display =\n",
              "          google.colab.kernel.accessAllowed ? 'block' : 'none';\n",
              "\n",
              "        async function convertToInteractive(key) {\n",
              "          const element = document.querySelector('#df-33d3f488-2208-4fb8-9c4b-9e69a83b1b0e');\n",
              "          const dataTable =\n",
              "            await google.colab.kernel.invokeFunction('convertToInteractive',\n",
              "                                                     [key], {});\n",
              "          if (!dataTable) return;\n",
              "\n",
              "          const docLinkHtml = 'Like what you see? Visit the ' +\n",
              "            '<a target=\"_blank\" href=https://colab.research.google.com/notebooks/data_table.ipynb>data table notebook</a>'\n",
              "            + ' to learn more about interactive tables.';\n",
              "          element.innerHTML = '';\n",
              "          dataTable['output_type'] = 'display_data';\n",
              "          await google.colab.output.renderOutput(dataTable, element);\n",
              "          const docLink = document.createElement('div');\n",
              "          docLink.innerHTML = docLinkHtml;\n",
              "          element.appendChild(docLink);\n",
              "        }\n",
              "      </script>\n",
              "    </div>\n",
              "  </div>\n",
              "  "
            ]
          },
          "metadata": {},
          "execution_count": 76
        }
      ]
    },
    {
      "cell_type": "code",
      "source": [
        "z = float(valor_z_df.index[0]) + float(valor_z_df.columns[0])\n",
        "z"
      ],
      "metadata": {
        "colab": {
          "base_uri": "https://localhost:8080/"
        },
        "id": "3j_1Esqxc4n0",
        "outputId": "60e78164-5c69-48a3-93df-fef81e2d7cea"
      },
      "execution_count": 77,
      "outputs": [
        {
          "output_type": "execute_result",
          "data": {
            "text/plain": [
              "1.96"
            ]
          },
          "metadata": {},
          "execution_count": 77
        }
      ]
    },
    {
      "cell_type": "code",
      "source": [
        "z = stats.norm.ppf(probabilidade_lim_sup)\n",
        "z"
      ],
      "metadata": {
        "colab": {
          "base_uri": "https://localhost:8080/"
        },
        "id": "QNyDVWtmgwX-",
        "outputId": "7b0d9b2b-61d5-46f1-a0db-61e07018a3ef"
      },
      "execution_count": 78,
      "outputs": [
        {
          "output_type": "execute_result",
          "data": {
            "text/plain": [
              "1.959963984540054"
            ]
          },
          "metadata": {},
          "execution_count": 78
        }
      ]
    },
    {
      "cell_type": "code",
      "source": [
        "# arredondando o z\n",
        "z = round(z, 2)\n",
        "z"
      ],
      "metadata": {
        "colab": {
          "base_uri": "https://localhost:8080/"
        },
        "id": "uZtXVUdzhmEj",
        "outputId": "eee7eebd-c065-4286-f5d1-6d999f4ebe44"
      },
      "execution_count": 79,
      "outputs": [
        {
          "output_type": "execute_result",
          "data": {
            "text/plain": [
              "1.96"
            ]
          },
          "metadata": {},
          "execution_count": 79
        }
      ]
    },
    {
      "cell_type": "markdown",
      "source": [
        "Abaixo temos uma tabela com os valores de $z$ para os níveis de confiança mais utilizados:\n",
        "\n",
        "|Nível de<br>confiança|Valor da área sob<br>a curva normal| $z$ |\n",
        "|:-:|:-:|:-:|\n",
        "|90%|0,95|1,645|\n",
        "|95%|0,975|1,96 |\n",
        "|99%|0,995|2,575|"
      ],
      "metadata": {
        "id": "ab6w_ZLfHYYA"
      }
    },
    {
      "cell_type": "code",
      "source": [
        "# obtendo erro padrao da média (o desvio padrão populacional é um valor dado pelo enunciado)\n",
        "desvio_padrao = 150\n",
        "desvio_padrao"
      ],
      "metadata": {
        "id": "OifY_5K2HyT4",
        "colab": {
          "base_uri": "https://localhost:8080/"
        },
        "outputId": "ef62d7f0-2425-445c-ca30-730923785142"
      },
      "execution_count": 80,
      "outputs": [
        {
          "output_type": "execute_result",
          "data": {
            "text/plain": [
              "150"
            ]
          },
          "metadata": {},
          "execution_count": 80
        }
      ]
    },
    {
      "cell_type": "code",
      "source": [
        "# tamanho da amostra (informação dada pelo enunciado)\n",
        "n = 20\n",
        "n"
      ],
      "metadata": {
        "colab": {
          "base_uri": "https://localhost:8080/"
        },
        "id": "kUQb5sVjiZam",
        "outputId": "4247a9f8-3cfd-4a22-b083-1b7947c25262"
      },
      "execution_count": 81,
      "outputs": [
        {
          "output_type": "execute_result",
          "data": {
            "text/plain": [
              "20"
            ]
          },
          "metadata": {},
          "execution_count": 81
        }
      ]
    },
    {
      "cell_type": "code",
      "source": [
        "# obtendo o erro inferencial\n",
        "erro = z * (desvio_padrao / np.sqrt(n))\n",
        "erro"
      ],
      "metadata": {
        "id": "Y9LkF_BXH3yY",
        "colab": {
          "base_uri": "https://localhost:8080/"
        },
        "outputId": "aa08315d-ae0d-4df6-ec10-833b673f3753"
      },
      "execution_count": 82,
      "outputs": [
        {
          "output_type": "execute_result",
          "data": {
            "text/plain": [
              "65.7403985384938"
            ]
          },
          "metadata": {},
          "execution_count": 82
        }
      ]
    },
    {
      "cell_type": "code",
      "source": [
        "# calculando intervalo de confiança para a média de forma manual\n",
        "intervalo = (media_amostral - erro, media_amostral + erro)\n",
        "intervalo"
      ],
      "metadata": {
        "id": "my-euBmzH9kN",
        "colab": {
          "base_uri": "https://localhost:8080/"
        },
        "outputId": "506e67d2-56fd-4817-80e9-ddb499f4da6c"
      },
      "execution_count": 83,
      "outputs": [
        {
          "output_type": "execute_result",
          "data": {
            "text/plain": [
              "(4984.2596014615065, 5115.7403985384935)"
            ]
          },
          "metadata": {},
          "execution_count": 83
        }
      ]
    },
    {
      "cell_type": "code",
      "source": [
        "# calculando intervalo de confiança para a média\n",
        "stats.norm.interval(alpha=0.95, loc=media_amostral, scale=desvio_padrao/np.sqrt(n))"
      ],
      "metadata": {
        "id": "xKQ9qLt8H9bV",
        "colab": {
          "base_uri": "https://localhost:8080/"
        },
        "outputId": "2bcebea7-6c7d-47c7-d839-503d87642816"
      },
      "execution_count": 84,
      "outputs": [
        {
          "output_type": "execute_result",
          "data": {
            "text/plain": [
              "(4984.260809456757, 5115.739190543243)"
            ]
          },
          "metadata": {},
          "execution_count": 84
        }
      ]
    },
    {
      "cell_type": "markdown",
      "source": [
        "## 5 Cálculo do tamanho da amostra"
      ],
      "metadata": {
        "id": "TGTdy9YkEkai"
      }
    },
    {
      "cell_type": "markdown",
      "source": [
        "### 5.1 Variáveis quantitativas e população infinita\n",
        "\n",
        "Vamos calcular o tamanho da amostra para que ela seja realmente representativa da população que estamos estudando."
      ],
      "metadata": {
        "id": "Y5aMAQTWIK9k"
      }
    },
    {
      "cell_type": "markdown",
      "source": [
        "Para isso vamos utilizar o _erro inferencial_ $e$ e o $z$ de _distribuição de probabilidade normal_. A partir da fórmula do erro inferencial podemos obter o tamanho da amostra ideal\n",
        "\n",
        "$$e = z \\frac{\\sigma}{\\sqrt{n}}$$\n",
        "\n",
        "Com desvio padrão conhecido: $n = \\left(z\\frac{\\sigma}{e}\\right)^2$\n",
        "\n",
        "Com desvio padrão desconhecido: $n = \\left(z\\frac{s}{e}\\right)^2$\n",
        "\n",
        "Onde:\n",
        "\n",
        "- $z$ é a variável normal padronizada\n",
        "- $\\sigma$ é o desvio padrão populacional\n",
        "- $s$ o desvio padrão amostral\n",
        "- e $e$ é o erro inferencial\n",
        "\n",
        "**Observações**\n",
        "\n",
        "1. O desvio padrão ($\\sigma$ ou $s$) e o erro ($e$) devem estar na mesma unidade de medida.\n",
        "2. Quando o erro ($e$) for representado em termos percentuais, deve ser interpretado como um percentual relacionado à média."
      ],
      "metadata": {
        "id": "8QrU76i2WPiA"
      }
    },
    {
      "cell_type": "markdown",
      "source": [
        "#### 5.1.1 Exemplo\n",
        "\n",
        "Estamos estudando o rendimento mensal dos chefes de domicílios no Brasil. Nosso supervisor determinou que o **erro máximo em relação a média seja de R\\$ 100,00**. Sabemos que o **desvio padrão populacional** da renda deste grupo de trabalhadores é de **R\\$ 3.323,39**. Para um **nível de confiança de 95%**, qual deve ser o tamanho da amostra de nosso estudo?"
      ],
      "metadata": {
        "id": "YFO4Gh-SWuu8"
      }
    },
    {
      "cell_type": "markdown",
      "source": [
        "Trazendo novamente a tabela apresentada acima com o valor de $z$ para os níves de confiança mais utilizados temos:\n",
        "\n",
        "|Nível de<br>confiança|Valor da área sob<br>a curva normal| $z$ |\n",
        "|:-:|:-:|:-:|\n",
        "|90%|0,95|1,645|\n",
        "|95%|0,975|1,96 |\n",
        "|99%|0,995|2,575|"
      ],
      "metadata": {
        "id": "ufOINPWLZi5i"
      }
    },
    {
      "cell_type": "code",
      "source": [
        "# valor de z \n",
        "z = 1.96\n",
        "z"
      ],
      "metadata": {
        "colab": {
          "base_uri": "https://localhost:8080/"
        },
        "id": "oKZyvtaSW9PK",
        "outputId": "39258de4-8f57-4299-d995-a60ec6395f83"
      },
      "execution_count": 85,
      "outputs": [
        {
          "output_type": "execute_result",
          "data": {
            "text/plain": [
              "1.96"
            ]
          },
          "metadata": {},
          "execution_count": 85
        }
      ]
    },
    {
      "cell_type": "code",
      "source": [
        "# valor do desvio padrão (populacional) é dado pelo enunciado\n",
        "sigma = 3323.39\n",
        "sigma"
      ],
      "metadata": {
        "colab": {
          "base_uri": "https://localhost:8080/"
        },
        "id": "nM05lAm4W9Mk",
        "outputId": "2cfaae08-bbf7-42b2-8ecd-5eec3415eb98"
      },
      "execution_count": 86,
      "outputs": [
        {
          "output_type": "execute_result",
          "data": {
            "text/plain": [
              "3323.39"
            ]
          },
          "metadata": {},
          "execution_count": 86
        }
      ]
    },
    {
      "cell_type": "code",
      "source": [
        "# erro inferencial, tambem é um dado do enunciado\n",
        "e = 100\n",
        "e"
      ],
      "metadata": {
        "colab": {
          "base_uri": "https://localhost:8080/"
        },
        "id": "b8h5wnJMW9J7",
        "outputId": "b859ebcd-92a1-482f-8bdd-6c953a3cc2f7"
      },
      "execution_count": 87,
      "outputs": [
        {
          "output_type": "execute_result",
          "data": {
            "text/plain": [
              "100"
            ]
          },
          "metadata": {},
          "execution_count": 87
        }
      ]
    },
    {
      "cell_type": "code",
      "source": [
        "# aplicamos a fórmula para obter n\n",
        "n = round((z * (sigma / e))**2)\n",
        "n"
      ],
      "metadata": {
        "colab": {
          "base_uri": "https://localhost:8080/"
        },
        "id": "I_d1rnPhW85Z",
        "outputId": "113d4c6f-6201-4d93-a041-345877ad8ca0"
      },
      "execution_count": 88,
      "outputs": [
        {
          "output_type": "execute_result",
          "data": {
            "text/plain": [
              "4243"
            ]
          },
          "metadata": {},
          "execution_count": 88
        }
      ]
    },
    {
      "cell_type": "markdown",
      "source": [
        "### 5.2 Variáveis quantitativas e população finita\n",
        "\n",
        "As fórmulas usadas para populações finitas são um pouco mais complexas pois possuem um \"fator de correção\" para populações finitas, necessário para relativizar o tamanho da amostra com o tamanho da população."
      ],
      "metadata": {
        "id": "S5WYPBUpIQPY"
      }
    },
    {
      "cell_type": "markdown",
      "source": [
        "Com desvio padrão conhecido\n",
        "\n",
        "$$n = \\frac{z^2 \\sigma^2 N}{z^2 \\sigma^2 + e^2(N-1)}$$\n",
        "\n",
        "Com desvio padrão desconhecido\n",
        "\n",
        "$$n = \\frac{z^2 s^2 N}{z^2 s^2 + e^2(N-1)}$$\n",
        "\n",
        "Onde:\n",
        "\n",
        "- $N$ é o tamanho da população\n",
        "- $z$ é a variável normal padronizada\n",
        "- $\\sigma$ é o desvio padrão populacional\n",
        "- $s$ o desvio padrão amostral\n",
        "- e $e$ é erro inferencial"
      ],
      "metadata": {
        "id": "x0ErktqFciHV"
      }
    },
    {
      "cell_type": "markdown",
      "source": [
        "#### 5.2.1 Exemplo\n",
        "\n",
        "Em um lote de **10.000 latas** de refrigerante foi realizada uma amostra aleatória simples de **100 latas** e foi obtido o **desvio padrão amostral do conteúdo das latas igual a 12 ml**. O fabricante estipula um **erro máximo sobre a média populacional de apenas 5 ml**. Para garantir um **nível de confiança de 95%** qual o tamanho de amostra deve ser selecionado para este estudo?"
      ],
      "metadata": {
        "id": "dOycN_OTXCah"
      }
    },
    {
      "cell_type": "code",
      "source": [
        "N = 10000\n",
        "N"
      ],
      "metadata": {
        "colab": {
          "base_uri": "https://localhost:8080/"
        },
        "id": "XXOvA2r0bfGu",
        "outputId": "035b6859-e049-4fb7-dba8-b4c778bd57e2"
      },
      "execution_count": 89,
      "outputs": [
        {
          "output_type": "execute_result",
          "data": {
            "text/plain": [
              "10000"
            ]
          },
          "metadata": {},
          "execution_count": 89
        }
      ]
    },
    {
      "cell_type": "code",
      "source": [
        "confianca = 0.95\n",
        "confianca"
      ],
      "metadata": {
        "colab": {
          "base_uri": "https://localhost:8080/"
        },
        "id": "7cKZ6HtGkbwJ",
        "outputId": "37128edf-fec9-41ec-f746-fd18a2128bdb"
      },
      "execution_count": 90,
      "outputs": [
        {
          "output_type": "execute_result",
          "data": {
            "text/plain": [
              "0.95"
            ]
          },
          "metadata": {},
          "execution_count": 90
        }
      ]
    },
    {
      "cell_type": "code",
      "source": [
        "z = stats.norm.ppf(0.5 + (confianca/2))\n",
        "z = round(z, 2)\n",
        "z"
      ],
      "metadata": {
        "colab": {
          "base_uri": "https://localhost:8080/"
        },
        "id": "Ac6uFN-7bfDi",
        "outputId": "ccc43ba3-2ba4-4324-8496-0b2d7bcf9621"
      },
      "execution_count": 91,
      "outputs": [
        {
          "output_type": "execute_result",
          "data": {
            "text/plain": [
              "1.96"
            ]
          },
          "metadata": {},
          "execution_count": 91
        }
      ]
    },
    {
      "cell_type": "code",
      "source": [
        "s = 12\n",
        "s"
      ],
      "metadata": {
        "colab": {
          "base_uri": "https://localhost:8080/"
        },
        "id": "PHxG8B8LbfAe",
        "outputId": "a86de562-bab0-4502-eac1-5d614d2cdbff"
      },
      "execution_count": 92,
      "outputs": [
        {
          "output_type": "execute_result",
          "data": {
            "text/plain": [
              "12"
            ]
          },
          "metadata": {},
          "execution_count": 92
        }
      ]
    },
    {
      "cell_type": "code",
      "source": [
        "e = 5\n",
        "e"
      ],
      "metadata": {
        "id": "ggmAVhRl25eN",
        "colab": {
          "base_uri": "https://localhost:8080/"
        },
        "outputId": "19a86bcb-f6fb-4e0c-97bd-fcb9796f9c3e"
      },
      "execution_count": 93,
      "outputs": [
        {
          "output_type": "execute_result",
          "data": {
            "text/plain": [
              "5"
            ]
          },
          "metadata": {},
          "execution_count": 93
        }
      ]
    },
    {
      "cell_type": "code",
      "source": [
        "n = ((z**2) * (s**2) * N) / (((z**2) * (s**2)) + ((e**2) * (N-1)))\n",
        "n = round(n)\n",
        "n"
      ],
      "metadata": {
        "id": "t9HyPNB71IuX",
        "colab": {
          "base_uri": "https://localhost:8080/"
        },
        "outputId": "304ab3f2-519a-4e39-9d4b-c5baabc91342"
      },
      "execution_count": 94,
      "outputs": [
        {
          "output_type": "execute_result",
          "data": {
            "text/plain": [
              "22"
            ]
          },
          "metadata": {},
          "execution_count": 94
        }
      ]
    },
    {
      "cell_type": "markdown",
      "source": [
        "## 6 Fixando o conteúdo\n",
        "\n",
        "Estamos estudando o **rendimento mensal dos chefes de domicílios com renda até R\\$ 5.000,00 no Brasil**. Nosso supervisor determinou que o **erro máximo em relação a média seja de R\\$ 10,00**. Sabemos que o **desvio padrão populacional** deste grupo de trabalhadores é de **R\\$ 1.082,79** e que a **média populacional** é de **R\\$ 1.426,54**. Para um **nível de confiança de 95%**, qual deve ser o tamanho da amostra de nosso estudo? Qual o intervalo de confiança para a média considerando o tamanho de amostra obtido?"
      ],
      "metadata": {
        "id": "BIDo3uH_mpCk"
      }
    },
    {
      "cell_type": "markdown",
      "source": [
        "Começamos selecionado as linhas com valor de `renda` até R\\$ 5.000,00 e já calculamos o desvio padrão e a média"
      ],
      "metadata": {
        "id": "wpS_p1_0W-xP"
      }
    },
    {
      "cell_type": "code",
      "source": [
        "renda_5k = df.query(\"renda <= 5000\").renda\n",
        "renda_5k"
      ],
      "metadata": {
        "id": "teRQH8FnoihC",
        "colab": {
          "base_uri": "https://localhost:8080/"
        },
        "outputId": "a80da230-e789-47b1-ffe9-a9da602811b3"
      },
      "execution_count": 95,
      "outputs": [
        {
          "output_type": "execute_result",
          "data": {
            "text/plain": [
              "0         800\n",
              "1        1150\n",
              "2         880\n",
              "3        3500\n",
              "4         150\n",
              "         ... \n",
              "76835     812\n",
              "76836    1500\n",
              "76837    1300\n",
              "76838    1500\n",
              "76839     900\n",
              "Name: renda, Length: 72109, dtype: int64"
            ]
          },
          "metadata": {},
          "execution_count": 95
        }
      ]
    },
    {
      "cell_type": "code",
      "source": [
        "sigma = renda_5k.std()\n",
        "sigma"
      ],
      "metadata": {
        "id": "Nwiccg_goie1",
        "colab": {
          "base_uri": "https://localhost:8080/"
        },
        "outputId": "bec4b665-9b47-4d1d-83d1-516e8fe853ee"
      },
      "execution_count": 96,
      "outputs": [
        {
          "output_type": "execute_result",
          "data": {
            "text/plain": [
              "1082.794549030635"
            ]
          },
          "metadata": {},
          "execution_count": 96
        }
      ]
    },
    {
      "cell_type": "code",
      "source": [
        "media = renda_5k.mean()\n",
        "media"
      ],
      "metadata": {
        "id": "NmIXrQ3Loib1",
        "colab": {
          "base_uri": "https://localhost:8080/"
        },
        "outputId": "1b27e19d-532d-4934-9d82-ec56fbc1d48f"
      },
      "execution_count": 97,
      "outputs": [
        {
          "output_type": "execute_result",
          "data": {
            "text/plain": [
              "1426.5372144947232"
            ]
          },
          "metadata": {},
          "execution_count": 97
        }
      ]
    },
    {
      "cell_type": "markdown",
      "source": [
        "considerando nossa população como tendo tamanho infinito, determinamos o tamanho da amostra representativa para um nível de confiança de 95%"
      ],
      "metadata": {
        "id": "dhWdtpIeXJ5n"
      }
    },
    {
      "cell_type": "code",
      "source": [
        "z = stats.norm.ppf(0.5 + (0.95/2))\n",
        "e = 10\n",
        "\n",
        "n = (z * (sigma/e))**2\n",
        "n = round(n)\n",
        "n"
      ],
      "metadata": {
        "colab": {
          "base_uri": "https://localhost:8080/"
        },
        "id": "q3J01lR8W0ep",
        "outputId": "632183e8-449a-4c3d-ca90-3c68b00fceb2"
      },
      "execution_count": 98,
      "outputs": [
        {
          "output_type": "execute_result",
          "data": {
            "text/plain": [
              "45039"
            ]
          },
          "metadata": {},
          "execution_count": 98
        }
      ]
    },
    {
      "cell_type": "markdown",
      "source": [
        "verifico o intervalo de confiança para a média"
      ],
      "metadata": {
        "id": "0vLp_NMNYG8Q"
      }
    },
    {
      "cell_type": "code",
      "source": [
        "intervalo = stats.norm.interval(alpha=0.95, loc=media, scale=sigma/np.sqrt(n))\n",
        "intervalo"
      ],
      "metadata": {
        "colab": {
          "base_uri": "https://localhost:8080/"
        },
        "id": "Z4E6XTJzW0XE",
        "outputId": "ea1745a3-6327-4da4-e64a-5b57d126d730"
      },
      "execution_count": 99,
      "outputs": [
        {
          "output_type": "execute_result",
          "data": {
            "text/plain": [
              "(1416.5372195108241, 1436.5372094786223)"
            ]
          },
          "metadata": {},
          "execution_count": 99
        }
      ]
    },
    {
      "cell_type": "code",
      "source": [
        "(media - e, media + e)"
      ],
      "metadata": {
        "colab": {
          "base_uri": "https://localhost:8080/"
        },
        "id": "eZJmtouWYmU5",
        "outputId": "b0a56626-a7d4-4d47-b977-135d144e042c"
      },
      "execution_count": 100,
      "outputs": [
        {
          "output_type": "execute_result",
          "data": {
            "text/plain": [
              "(1416.5372144947232, 1436.5372144947232)"
            ]
          },
          "metadata": {},
          "execution_count": 100
        }
      ]
    },
    {
      "cell_type": "markdown",
      "source": [
        "Vamos gerar 1000 amostras e plotar a dispersão da renda média nessas amostras para verificarmos gráficamente o que estamos falando sobre intervalo de confiança:"
      ],
      "metadata": {
        "id": "Y9kNBsYWYfmi"
      }
    },
    {
      "cell_type": "code",
      "source": [
        "tamanho_simulacao = 1000\n",
        "medias = [renda_5k.sample(n=n).mean() for _ in range(1, tamanho_simulacao)]\n",
        "medias = pd.DataFrame(medias)\n",
        "medias.columns = ['renda_media']\n",
        "medias\n",
        "\n",
        "ax = medias.plot(style='.')\n",
        "ax.figure.set_size_inches(12, 6)\n",
        "ax.set_title('Distribuição de médias das amostras')\n",
        "ax.hlines(y=media,        xmin=0, xmax=tamanho_simulacao, colors='red', linestyles='dashed')\n",
        "ax.hlines(y=intervalo[0], xmin=0, xmax=tamanho_simulacao, colors='green', linestyles='dashed')\n",
        "ax.hlines(y=intervalo[1], xmin=0, xmax=tamanho_simulacao, colors='green', linestyles='dashed')\n",
        "bx = ax"
      ],
      "metadata": {
        "id": "8maH6tB4oiY0",
        "colab": {
          "base_uri": "https://localhost:8080/",
          "height": 0
        },
        "outputId": "e0f647eb-2821-449e-c116-1991c8e85905"
      },
      "execution_count": 101,
      "outputs": [
        {
          "output_type": "display_data",
          "data": {
            "text/plain": [
              "<Figure size 864x432 with 1 Axes>"
            ],
            "image/png": "[encoded data removed]"
          },
          "metadata": {
            "needs_background": "light"
          }
        }
      ]
    },
    {
      "cell_type": "markdown",
      "source": [
        "## 7 Projeto"
      ],
      "metadata": {
        "id": "zGsDQJk8oWW9"
      }
    },
    {
      "cell_type": "markdown",
      "source": [
        "### 7.1 Proporção de homens e mulheres\n",
        "\n",
        "Avaliando nosso dataset é possível verificar que a **proporção de homens** como chefes de domicílios é de quase **70%**. Precisamos **selecionar aleatoriamente grupos de 10 indivíduos** para verificar as diferenças entre os rendimentos em cada grupo. \n",
        "\n",
        "1. Verifique a real proporção de homens e mulheres em nosso dataset.\n",
        "2. Determine qual tipo de distribuição de probabilidade se encaixa neste experimento.\n",
        "3. Qual a **probabilidade de selecionamos um grupo que apresente a mesma proporção da população**, ou seja, selecionarmos um grupo que seja **composto por 7 homens e 3 mulheres**?\n"
      ],
      "metadata": {
        "id": "yRgEQiz-1cFn"
      }
    },
    {
      "cell_type": "code",
      "source": [
        "# proporção de cada sexo no dataset, sabendo que o valor 0 representa homens\n",
        "pd.DataFrame({'Proporção (%)': (df.sexo.value_counts(normalize=True)*100).round(2)}).rename(index={0: 'Masculino', 1: 'Feminino'})"
      ],
      "metadata": {
        "colab": {
          "base_uri": "https://localhost:8080/",
          "height": 0
        },
        "id": "j8O1n6_KH4A7",
        "outputId": "2fbd84f0-ce18-42a1-97f9-a253e199f879"
      },
      "execution_count": 102,
      "outputs": [
        {
          "output_type": "execute_result",
          "data": {
            "text/plain": [
              "           Proporção (%)\n",
              "Masculino           69.3\n",
              "Feminino            30.7"
            ],
            "text/html": [
              "\n",
              "  <div id=\"df-a4c2459c-c801-437c-8bcd-918bcd5dce91\">\n",
              "    <div class=\"colab-df-container\">\n",
              "      <div>\n",
              "<style scoped>\n",
              "    .dataframe tbody tr th:only-of-type {\n",
              "        vertical-align: middle;\n",
              "    }\n",
              "\n",
              "    .dataframe tbody tr th {\n",
              "        vertical-align: top;\n",
              "    }\n",
              "\n",
              "    .dataframe thead th {\n",
              "        text-align: right;\n",
              "    }\n",
              "</style>\n",
              "<table border=\"1\" class=\"dataframe\">\n",
              "  <thead>\n",
              "    <tr style=\"text-align: right;\">\n",
              "      <th></th>\n",
              "      <th>Proporção (%)</th>\n",
              "    </tr>\n",
              "  </thead>\n",
              "  <tbody>\n",
              "    <tr>\n",
              "      <th>Masculino</th>\n",
              "      <td>69.3</td>\n",
              "    </tr>\n",
              "    <tr>\n",
              "      <th>Feminino</th>\n",
              "      <td>30.7</td>\n",
              "    </tr>\n",
              "  </tbody>\n",
              "</table>\n",
              "</div>\n",
              "      <button class=\"colab-df-convert\" onclick=\"convertToInteractive('df-a4c2459c-c801-437c-8bcd-918bcd5dce91')\"\n",
              "              title=\"Convert this dataframe to an interactive table.\"\n",
              "              style=\"display:none;\">\n",
              "        \n",
              "  <svg xmlns=\"http://www.w3.org/2000/svg\" height=\"24px\"viewBox=\"0 0 24 24\"\n",
              "       width=\"24px\">\n",
              "    <path d=\"M0 0h24v24H0V0z\" fill=\"none\"/>\n",
              "    <path d=\"M18.56 5.44l.94 2.06.94-2.06 2.06-.94-2.06-.94-.94-2.06-.94 2.06-2.06.94zm-11 1L8.5 8.5l.94-2.06 2.06-.94-2.06-.94L8.5 2.5l-.94 2.06-2.06.94zm10 10l.94 2.06.94-2.06 2.06-.94-2.06-.94-.94-2.06-.94 2.06-2.06.94z\"/><path d=\"M17.41 7.96l-1.37-1.37c-.4-.4-.92-.59-1.43-.59-.52 0-1.04.2-1.43.59L10.3 9.45l-7.72 7.72c-.78.78-.78 2.05 0 2.83L4 21.41c.39.39.9.59 1.41.59.51 0 1.02-.2 1.41-.59l7.78-7.78 2.81-2.81c.8-.78.8-2.07 0-2.86zM5.41 20L4 18.59l7.72-7.72 1.47 1.35L5.41 20z\"/>\n",
              "  </svg>\n",
              "      </button>\n",
              "      \n",
              "  <style>\n",
              "    .colab-df-container {\n",
              "      display:flex;\n",
              "      flex-wrap:wrap;\n",
              "      gap: 12px;\n",
              "    }\n",
              "\n",
              "    .colab-df-convert {\n",
              "      background-color: #E8F0FE;\n",
              "      border: none;\n",
              "      border-radius: 50%;\n",
              "      cursor: pointer;\n",
              "      display: none;\n",
              "      fill: #1967D2;\n",
              "      height: 32px;\n",
              "      padding: 0 0 0 0;\n",
              "      width: 32px;\n",
              "    }\n",
              "\n",
              "    .colab-df-convert:hover {\n",
              "      background-color: #E2EBFA;\n",
              "      box-shadow: 0px 1px 2px rgba(60, 64, 67, 0.3), 0px 1px 3px 1px rgba(60, 64, 67, 0.15);\n",
              "      fill: #174EA6;\n",
              "    }\n",
              "\n",
              "    [theme=dark] .colab-df-convert {\n",
              "      background-color: #3B4455;\n",
              "      fill: #D2E3FC;\n",
              "    }\n",
              "\n",
              "    [theme=dark] .colab-df-convert:hover {\n",
              "      background-color: #434B5C;\n",
              "      box-shadow: 0px 1px 3px 1px rgba(0, 0, 0, 0.15);\n",
              "      filter: drop-shadow(0px 1px 2px rgba(0, 0, 0, 0.3));\n",
              "      fill: #FFFFFF;\n",
              "    }\n",
              "  </style>\n",
              "\n",
              "      <script>\n",
              "        const buttonEl =\n",
              "          document.querySelector('#df-a4c2459c-c801-437c-8bcd-918bcd5dce91 button.colab-df-convert');\n",
              "        buttonEl.style.display =\n",
              "          google.colab.kernel.accessAllowed ? 'block' : 'none';\n",
              "\n",
              "        async function convertToInteractive(key) {\n",
              "          const element = document.querySelector('#df-a4c2459c-c801-437c-8bcd-918bcd5dce91');\n",
              "          const dataTable =\n",
              "            await google.colab.kernel.invokeFunction('convertToInteractive',\n",
              "                                                     [key], {});\n",
              "          if (!dataTable) return;\n",
              "\n",
              "          const docLinkHtml = 'Like what you see? Visit the ' +\n",
              "            '<a target=\"_blank\" href=https://colab.research.google.com/notebooks/data_table.ipynb>data table notebook</a>'\n",
              "            + ' to learn more about interactive tables.';\n",
              "          element.innerHTML = '';\n",
              "          dataTable['output_type'] = 'display_data';\n",
              "          await google.colab.output.renderOutput(dataTable, element);\n",
              "          const docLink = document.createElement('div');\n",
              "          docLink.innerHTML = docLinkHtml;\n",
              "          element.appendChild(docLink);\n",
              "        }\n",
              "      </script>\n",
              "    </div>\n",
              "  </div>\n",
              "  "
            ]
          },
          "metadata": {},
          "execution_count": 102
        }
      ]
    },
    {
      "cell_type": "markdown",
      "source": [
        "Esse experimento pode ser representado por uma distribuição **binomial**, pois:\n",
        "\n",
        "1. _**\"Consiste na realização de $n$ ensaios idênticos\"**_: onde o ensaio é _selecionar uma pessoa da população verificando qual seu sexo_, e será repetido por 10 vezes;\n",
        "2. _**\"Os ensaios são independentes\"**_\n",
        "3. _**\"Somente dois resultados são possíveis\"**_: a pessoa selecionada pode ser _homem_ ou _mulher_\n",
        "4. _**\"A probabilidade de sucesso é representada por $p$ e a de fracasso por $1-p=q$. Estas probabilidades não se modificam de ensaio para ensaio.\"**_: onde $p=0,5$ e $q=1-p=0,5$\n",
        "\n",
        "Podemos calcular a probabilidade de obter sucesso em $k$ de $n$ ensaios com a fórmula:\n",
        "\n",
        "$$ P(k)=\\binom{n}{k} p^k q^{n-k} $$\n",
        "\n",
        "Onde:\n",
        "\n",
        "- $\\binom{n}{k}$ é o número de combinações possíveis de $n$ objetos, tomados $k$ a cada vez. Lê-se _\"combinação de n k a k\"_ e pode ser calculado com a fórmula: $\\binom{n}{k} = C_{k}^{n} = \\frac{n!}{k!(n - k)!}$\n",
        "- $p$ a probabilidade de sucesso;\n",
        "- $q = (1 - p)$ a probabilidade de fracasso;\n",
        "- $n$ o número de eventos estudados; e\n",
        "- $k$ é o número de eventos desejados que tenham sucesso"
      ],
      "metadata": {
        "id": "WI8TDOyzJL50"
      }
    },
    {
      "cell_type": "code",
      "source": [
        "# probabilidade de selecionar uma pessoa do sexo masculino (dado do enunciado)\n",
        "p = 0.7\n",
        "p"
      ],
      "metadata": {
        "colab": {
          "base_uri": "https://localhost:8080/"
        },
        "id": "645oAW1fLIs9",
        "outputId": "0a1df57f-6b0c-4518-a115-c65d8fe94aa2"
      },
      "execution_count": 103,
      "outputs": [
        {
          "output_type": "execute_result",
          "data": {
            "text/plain": [
              "0.7"
            ]
          },
          "metadata": {},
          "execution_count": 103
        }
      ]
    },
    {
      "cell_type": "code",
      "source": [
        "# probabilidade de selecionar uma mulher\n",
        "q = 1-p\n",
        "q"
      ],
      "metadata": {
        "colab": {
          "base_uri": "https://localhost:8080/"
        },
        "id": "1oAQ8y-6LIpf",
        "outputId": "9c8a0453-fe65-4a9e-af05-f7c9f7479c9b"
      },
      "execution_count": 104,
      "outputs": [
        {
          "output_type": "execute_result",
          "data": {
            "text/plain": [
              "0.30000000000000004"
            ]
          },
          "metadata": {},
          "execution_count": 104
        }
      ]
    },
    {
      "cell_type": "code",
      "source": [
        "# numero de eventos desejados de sucesso (homens selecionados)\n",
        "k = 7\n",
        "k"
      ],
      "metadata": {
        "colab": {
          "base_uri": "https://localhost:8080/"
        },
        "id": "XhDe2KLcLhqH",
        "outputId": "59d768bf-b382-4a9d-84a8-37b776cc2824"
      },
      "execution_count": 105,
      "outputs": [
        {
          "output_type": "execute_result",
          "data": {
            "text/plain": [
              "7"
            ]
          },
          "metadata": {},
          "execution_count": 105
        }
      ]
    },
    {
      "cell_type": "code",
      "source": [
        "# número de ensaios (vezes em que vamos selecionar uma pessoa)\n",
        "n = 10\n",
        "n"
      ],
      "metadata": {
        "colab": {
          "base_uri": "https://localhost:8080/"
        },
        "id": "WJSLZDMHLoUe",
        "outputId": "49daf952-8a86-442b-b980-c8b8be51017c"
      },
      "execution_count": 106,
      "outputs": [
        {
          "output_type": "execute_result",
          "data": {
            "text/plain": [
              "10"
            ]
          },
          "metadata": {},
          "execution_count": 106
        }
      ]
    },
    {
      "cell_type": "code",
      "source": [
        "# probabilidade de selecionar 7 homens em uma amostra de 10 pessoas, calculando de forma manual\n",
        "(math.factorial(n) / (math.factorial(k) * math.factorial(n-k))) * (p ** k) * (q ** (n-k))"
      ],
      "metadata": {
        "colab": {
          "base_uri": "https://localhost:8080/"
        },
        "id": "38OgmumjMRU-",
        "outputId": "23098895-e008-4d3b-b65b-9db5ae29a084"
      },
      "execution_count": 107,
      "outputs": [
        {
          "output_type": "execute_result",
          "data": {
            "text/plain": [
              "0.266827932"
            ]
          },
          "metadata": {},
          "execution_count": 107
        }
      ]
    },
    {
      "cell_type": "code",
      "source": [
        "# calculando de forma um pouco menos manual\n",
        "special.comb(n, k) * (p ** k) * (q ** (n-k))"
      ],
      "metadata": {
        "colab": {
          "base_uri": "https://localhost:8080/"
        },
        "id": "WenwudqFJWmq",
        "outputId": "20e729cf-57e6-4f54-869f-eeed0d295e35"
      },
      "execution_count": 108,
      "outputs": [
        {
          "output_type": "execute_result",
          "data": {
            "text/plain": [
              "0.266827932"
            ]
          },
          "metadata": {},
          "execution_count": 108
        }
      ]
    },
    {
      "cell_type": "code",
      "source": [
        "# calculando direto\n",
        "probabilidade = stats.binom.pmf(n=n, k=k, p=p)\n",
        "probabilidade"
      ],
      "metadata": {
        "colab": {
          "base_uri": "https://localhost:8080/"
        },
        "id": "NMQJoMjCNAsv",
        "outputId": "1c449126-e9f9-4991-cf2c-e9f7aa6e96fc"
      },
      "execution_count": 109,
      "outputs": [
        {
          "output_type": "execute_result",
          "data": {
            "text/plain": [
              "0.26682793200000016"
            ]
          },
          "metadata": {},
          "execution_count": 109
        }
      ]
    },
    {
      "cell_type": "markdown",
      "source": [
        "### 7.2 Grupos com a proporção desejada\n",
        "\n",
        "Ainda sobre a questão anterior, **quantos grupos de 10 indivíduos** nós precisaríamos selecionar, de forma aleatória, para conseguir **100 grupos compostos por 7 homens e 3 mulheres**? (Lembre-se da forma de cálculo da média de uma distribuição binomial)"
      ],
      "metadata": {
        "id": "4XmtdRBL4p-v"
      }
    },
    {
      "cell_type": "markdown",
      "source": [
        "O _valor esperado_ ou a _média da distribuição binomial_ é igual ao número de experimentos realizados multiplicado pela chance de ocorrência do evento\n",
        "\n",
        "$$\\mu = n \\; p$$\n",
        "\n",
        "No caso, temos a média de experimentos realizados em que temos o resultado desejado, que é $\\mu=100$, e a probabilidade de ocorrência desse evento $p=0.27$"
      ],
      "metadata": {
        "id": "nPMxEn-_N21Z"
      }
    },
    {
      "cell_type": "code",
      "source": [
        "# número de grupos que queremos selecionar com 7 homens e 3 mulheres\n",
        "media = 100\n",
        "media"
      ],
      "metadata": {
        "colab": {
          "base_uri": "https://localhost:8080/"
        },
        "id": "Ur5OD4xwNqCP",
        "outputId": "0efa9841-c64c-4988-d004-587b78836aee"
      },
      "execution_count": 110,
      "outputs": [
        {
          "output_type": "execute_result",
          "data": {
            "text/plain": [
              "100"
            ]
          },
          "metadata": {},
          "execution_count": 110
        }
      ]
    },
    {
      "cell_type": "code",
      "source": [
        "# probabilidade de selecionar um grupo com 7 homens e 3 mulheres (calculado no exercício anterior)\n",
        "probabilidade"
      ],
      "metadata": {
        "colab": {
          "base_uri": "https://localhost:8080/"
        },
        "id": "mRRxMKqQRFj7",
        "outputId": "5ad03a31-9f64-4812-c991-6be6574f3a6c"
      },
      "execution_count": 111,
      "outputs": [
        {
          "output_type": "execute_result",
          "data": {
            "text/plain": [
              "0.26682793200000016"
            ]
          },
          "metadata": {},
          "execution_count": 111
        }
      ]
    },
    {
      "cell_type": "code",
      "source": [
        "# número de grupos que precisamo selecionar\n",
        "n = media / probabilidade\n",
        "n = round(n)\n",
        "n"
      ],
      "metadata": {
        "colab": {
          "base_uri": "https://localhost:8080/"
        },
        "id": "c1Mt6S1kRYAD",
        "outputId": "692794c6-86ac-4d1d-a7f6-5cdd298e2ac6"
      },
      "execution_count": 112,
      "outputs": [
        {
          "output_type": "execute_result",
          "data": {
            "text/plain": [
              "375"
            ]
          },
          "metadata": {},
          "execution_count": 112
        }
      ]
    },
    {
      "cell_type": "markdown",
      "source": [
        "### 7.3 Uma nova pesquisa\n",
        "\n",
        "Um cliente nos encomendou um estudo para avaliar o **rendimento dos chefes de domicílio no Brasil**. Para isso precisamos realizar uma nova coleta de dados, isto é, uma nova pesquisa de campo."
      ],
      "metadata": {
        "id": "R6veRWWK5CC8"
      }
    },
    {
      "cell_type": "markdown",
      "source": [
        "Após reunião com o cliente foi possível elencar o seguinte conjunto de informações:\n",
        "\n",
        "- O resultado da pesquisa precisa estar pronto em **2 meses**;\n",
        "- Teremos somente **R\\$ 150.000,00** de recursos para realização da pesquisa de campo; e\n",
        "- Seria interessante uma **margem de erro não superior a 10% em relação a média estimada**.\n",
        "\n",
        "Em nossa experiência com estudos deste tipo, sabemos que o **custo médio por indivíduo entrevistado fica em torno de R\\$ 100,00**. Com base nisso, avalie e obtenha o seguinte conjunto de informações para passar ao cliente:"
      ],
      "metadata": {
        "id": "2_KXnEio5ylT"
      }
    },
    {
      "cell_type": "markdown",
      "source": [
        "#### 7.3.1 Amostra\n",
        "\n",
        "Para obter uma estimativa para os parâmetros da população (renda dos chefes de domicílio no Brasil), realize uma amostragem aleatória simples em nosso conjunto de dados. Essa amostra deve conter 200 elementos. Obtenha a média e o desvio-padrão dessa amostra."
      ],
      "metadata": {
        "id": "qNO5Pk7-6GU7"
      }
    },
    {
      "cell_type": "code",
      "source": [
        "# amostra com 200 elementos\n",
        "amostra = df.renda.sample(n=200, random_state=random_state_geral)"
      ],
      "metadata": {
        "id": "qSO7BwzaTPi5"
      },
      "execution_count": 113,
      "outputs": []
    },
    {
      "cell_type": "code",
      "source": [
        "media_amostra = amostra.mean()\n",
        "media_amostra"
      ],
      "metadata": {
        "colab": {
          "base_uri": "https://localhost:8080/"
        },
        "id": "p5qqJNkWTPgV",
        "outputId": "d62a02f8-fa4d-4c80-ab33-21254d20af25"
      },
      "execution_count": 114,
      "outputs": [
        {
          "output_type": "execute_result",
          "data": {
            "text/plain": [
              "1964.205"
            ]
          },
          "metadata": {},
          "execution_count": 114
        }
      ]
    },
    {
      "cell_type": "code",
      "source": [
        "sigma_amostra = amostra.std()\n",
        "sigma_amostra"
      ],
      "metadata": {
        "colab": {
          "base_uri": "https://localhost:8080/"
        },
        "id": "ZoAaMYrPTPdv",
        "outputId": "d0f4bda7-34cd-4923-933f-a10e26b7d6cc"
      },
      "execution_count": 115,
      "outputs": [
        {
          "output_type": "execute_result",
          "data": {
            "text/plain": [
              "3139.8855167452157"
            ]
          },
          "metadata": {},
          "execution_count": 115
        }
      ]
    },
    {
      "cell_type": "markdown",
      "source": [
        "#### 7.3.2 Tamanhos de amostra\n",
        "\n",
        "Para a **margem de erro** especificada pelo cliente obtenha os **tamanhos de amostra** necessários para garantir os **níveis de confiança de 90%, 95% e 99%**."
      ],
      "metadata": {
        "id": "tkYFJVeH7Xpm"
      }
    },
    {
      "cell_type": "markdown",
      "source": [
        "- primeiro devemos escrever a margem de erro na mesma unidade de medida da média, basta seguir o requisito passado pelo cliente _\"uma margem de erro não superior a 10% em relação a média estimada\"_.\n",
        "- depois lembramos que _\"o nível de confiança ($1 - \\alpha$) representa a probabilidade de acerto da estimativa. De forma complementar o nível de significância ($\\alpha$) expressa a probabilidade de erro da estimativa\"_\n",
        "- a relação entre essas grandezas e o tamanho da amostra é dada por $e = z \\; \\frac{\\sigma}{\\sqrt{n}} \\Rightarrow n = (z \\; \\frac{\\sigma}{e})^2 $\n",
        "- e a probabilidade referente ao nível de confiança usada para obter $z$ é $p = 0,5 + \\frac{(1 - \\alpha)}{2}$. Sendo que já temos uma tabela para os valores de $z$ dos níveis de confiança mais utilizados, que coincidentemente são os mesmos pedidos pelo enunciado \n",
        "\n",
        "|Nível de<br>confiança|Valor da área sob<br>a curva normal| $z$ |\n",
        "|:-:|:-:|:-:|\n",
        "|90%|0,95|1,645|\n",
        "|95%|0,975|1,96 |\n",
        "|99%|0,995|2,575|"
      ],
      "metadata": {
        "id": "C2_we9cKf9YJ"
      }
    },
    {
      "cell_type": "code",
      "source": [
        "# margem de erro em moeda\n",
        "e = 0.1 * media_amostra\n",
        "e"
      ],
      "metadata": {
        "colab": {
          "base_uri": "https://localhost:8080/"
        },
        "id": "doJN9sTfZBzW",
        "outputId": "199a7e84-3934-4f8f-9ac2-e5399359c326"
      },
      "execution_count": 116,
      "outputs": [
        {
          "output_type": "execute_result",
          "data": {
            "text/plain": [
              "196.4205"
            ]
          },
          "metadata": {},
          "execution_count": 116
        }
      ]
    },
    {
      "cell_type": "code",
      "source": [
        "# calcula z para nível de confiança de 90%\n",
        "z_90 = stats.norm.ppf(0.5 + (0.9)/2)\n",
        "z_90"
      ],
      "metadata": {
        "colab": {
          "base_uri": "https://localhost:8080/"
        },
        "id": "YdnJKKM3ZBw3",
        "outputId": "a2302f04-5ee8-4f91-ec08-1f9b606be31d"
      },
      "execution_count": 117,
      "outputs": [
        {
          "output_type": "execute_result",
          "data": {
            "text/plain": [
              "1.6448536269514722"
            ]
          },
          "metadata": {},
          "execution_count": 117
        }
      ]
    },
    {
      "cell_type": "code",
      "source": [
        "# tamanho necessário da amostra para garantir o nível de confiança em 90%\n",
        "n_90 = (z_90 * (sigma_amostra/e))**2\n",
        "n_90 = round(n_90)\n",
        "n_90"
      ],
      "metadata": {
        "colab": {
          "base_uri": "https://localhost:8080/"
        },
        "id": "ZmZNHRVTZBuP",
        "outputId": "992587bf-09ab-4767-9058-5f6dea6b1303"
      },
      "execution_count": 118,
      "outputs": [
        {
          "output_type": "execute_result",
          "data": {
            "text/plain": [
              "691"
            ]
          },
          "metadata": {},
          "execution_count": 118
        }
      ]
    },
    {
      "cell_type": "code",
      "source": [
        "# calcula z para nível de confiança de 95%\n",
        "z_95 = stats.norm.ppf(0.5 + (0.95)/2)\n",
        "z_95"
      ],
      "metadata": {
        "colab": {
          "base_uri": "https://localhost:8080/"
        },
        "id": "x68MZQ6QZBre",
        "outputId": "117a77c0-cc86-48e7-dcdb-3e28b174bf7c"
      },
      "execution_count": 119,
      "outputs": [
        {
          "output_type": "execute_result",
          "data": {
            "text/plain": [
              "1.959963984540054"
            ]
          },
          "metadata": {},
          "execution_count": 119
        }
      ]
    },
    {
      "cell_type": "code",
      "source": [
        "# tamanho necessário da amostra para garantir o nível de confiança em 95%\n",
        "n_95 = (z_95 * (sigma_amostra/e))**2\n",
        "n_95 = round(n_95)\n",
        "n_95"
      ],
      "metadata": {
        "colab": {
          "base_uri": "https://localhost:8080/"
        },
        "id": "a16bFBxBcvDY",
        "outputId": "f69d2b8a-6451-4552-b2f0-6e07a00c6f05"
      },
      "execution_count": 120,
      "outputs": [
        {
          "output_type": "execute_result",
          "data": {
            "text/plain": [
              "982"
            ]
          },
          "metadata": {},
          "execution_count": 120
        }
      ]
    },
    {
      "cell_type": "code",
      "source": [
        "# calcula z para nível de confiança de 99%\n",
        "z_99 = stats.norm.ppf(0.5 + (0.99)/2)\n",
        "z_99"
      ],
      "metadata": {
        "colab": {
          "base_uri": "https://localhost:8080/"
        },
        "id": "pcBQkIVYcu__",
        "outputId": "27353343-6dba-44b9-82c7-ca0fe5ddbc6a"
      },
      "execution_count": 121,
      "outputs": [
        {
          "output_type": "execute_result",
          "data": {
            "text/plain": [
              "2.5758293035489004"
            ]
          },
          "metadata": {},
          "execution_count": 121
        }
      ]
    },
    {
      "cell_type": "code",
      "source": [
        "# tamanho necessário da amostra para garantir o nível de confiança em 99%\n",
        "n_99 = (z_99 * (sigma_amostra/e))**2\n",
        "n_99 = round(n_99)\n",
        "n_99"
      ],
      "metadata": {
        "colab": {
          "base_uri": "https://localhost:8080/"
        },
        "id": "vA3QQnedcu9F",
        "outputId": "9e1a36a1-780e-4600-bd20-58f71df1b574"
      },
      "execution_count": 122,
      "outputs": [
        {
          "output_type": "execute_result",
          "data": {
            "text/plain": [
              "1695"
            ]
          },
          "metadata": {},
          "execution_count": 122
        }
      ]
    },
    {
      "cell_type": "markdown",
      "source": [
        "#### 7.3.3 Custo das amostras\n",
        "\n",
        "Obtenha o **custo da pesquisa** para os três níveis de confiança."
      ],
      "metadata": {
        "id": "05hP2rUX7l4q"
      }
    },
    {
      "cell_type": "code",
      "source": [
        "custo_entrevista = 100\n",
        "custo_entrevista"
      ],
      "metadata": {
        "colab": {
          "base_uri": "https://localhost:8080/"
        },
        "id": "1rcHlBzieD8p",
        "outputId": "c7565c9e-2653-46a8-9567-536d1c7e2c11"
      },
      "execution_count": 123,
      "outputs": [
        {
          "output_type": "execute_result",
          "data": {
            "text/plain": [
              "100"
            ]
          },
          "metadata": {},
          "execution_count": 123
        }
      ]
    },
    {
      "cell_type": "code",
      "source": [
        "# custo da pesquisa para garantir o nível de confiança em 90%\n",
        "custo_90 = n_90 * custo_entrevista\n",
        "custo_90"
      ],
      "metadata": {
        "colab": {
          "base_uri": "https://localhost:8080/"
        },
        "id": "usm-2X56eD2f",
        "outputId": "ab795eef-4d6f-4e1b-9f9e-cbf735510979"
      },
      "execution_count": 124,
      "outputs": [
        {
          "output_type": "execute_result",
          "data": {
            "text/plain": [
              "69100"
            ]
          },
          "metadata": {},
          "execution_count": 124
        }
      ]
    },
    {
      "cell_type": "code",
      "source": [
        "# custo da pesquisa para garantir o nível de confiança em 95%\n",
        "custo_95 = n_95 * custo_entrevista\n",
        "custo_95"
      ],
      "metadata": {
        "colab": {
          "base_uri": "https://localhost:8080/"
        },
        "id": "DmdwUvU_eDwj",
        "outputId": "d8caed86-b38c-4706-848d-eb1d5be9b087"
      },
      "execution_count": 125,
      "outputs": [
        {
          "output_type": "execute_result",
          "data": {
            "text/plain": [
              "98200"
            ]
          },
          "metadata": {},
          "execution_count": 125
        }
      ]
    },
    {
      "cell_type": "code",
      "source": [
        "# custo da pesquisa para garantir o nível de confiança em 90%\n",
        "custo_90 = n_90 * custo_entrevista\n",
        "custo_90"
      ],
      "metadata": {
        "colab": {
          "base_uri": "https://localhost:8080/"
        },
        "id": "Njp1c-U4eDmt",
        "outputId": "60647365-9610-46d4-9e05-ac48755f660f"
      },
      "execution_count": 126,
      "outputs": [
        {
          "output_type": "execute_result",
          "data": {
            "text/plain": [
              "69100"
            ]
          },
          "metadata": {},
          "execution_count": 126
        }
      ]
    },
    {
      "cell_type": "markdown",
      "source": [
        "#### 7.3.4 Intervalo de confiança\n",
        "\n",
        "Para o maior nível de confiança viável (dentro do orçamento disponível), obtenha um **intervalo de confiança para a média da população**."
      ],
      "metadata": {
        "id": "oaQn609b7rjM"
      }
    },
    {
      "cell_type": "code",
      "source": [
        "# lembrando que o parâmetro alpha se refere ao nível de confiança, denotado como 1-alpha, enquanto que a letra grega alpha denota o nível de significância\n",
        "intervalo_95 = stats.norm.interval(alpha=0.95, loc=media_amostra, scale=sigma_amostra/np.sqrt(n_95))\n",
        "intervalo_95"
      ],
      "metadata": {
        "colab": {
          "base_uri": "https://localhost:8080/"
        },
        "id": "I7dm5CUPe_wu",
        "outputId": "ac25cbe6-381d-415e-f6f6-bccb13901051"
      },
      "execution_count": 127,
      "outputs": [
        {
          "output_type": "execute_result",
          "data": {
            "text/plain": [
              "(1767.820973280509, 2160.589026719491)"
            ]
          },
          "metadata": {},
          "execution_count": 127
        }
      ]
    },
    {
      "cell_type": "markdown",
      "source": [
        "#### 7.3.5 Margem de erro\n",
        "\n",
        "Assumindo o **nível de confiança escolhido no item anterior**, qual **margem de erro** pode ser considerada utilizando todo o recurso disponibilizado pelo cliente?"
      ],
      "metadata": {
        "id": "db4MOr2y7y1i"
      }
    },
    {
      "cell_type": "code",
      "source": [
        "# recursos disponíveis para a pesquisa\n",
        "recursos_pesquisa = 150000\n",
        "recursos_pesquisa"
      ],
      "metadata": {
        "colab": {
          "base_uri": "https://localhost:8080/"
        },
        "id": "FHGFEn7ugcSp",
        "outputId": "9e4288ad-bc8c-4897-8f2d-443a8d6599ac"
      },
      "execution_count": 128,
      "outputs": [
        {
          "output_type": "execute_result",
          "data": {
            "text/plain": [
              "150000"
            ]
          },
          "metadata": {},
          "execution_count": 128
        }
      ]
    },
    {
      "cell_type": "code",
      "source": [
        "# número máximo de entrevistas possíveis usando todo recurso\n",
        "n_max = recursos_pesquisa / custo_entrevista\n",
        "n_max"
      ],
      "metadata": {
        "colab": {
          "base_uri": "https://localhost:8080/"
        },
        "id": "dJFL1zbNgFK4",
        "outputId": "4847001b-3fdc-404d-86eb-600dab718b73"
      },
      "execution_count": 129,
      "outputs": [
        {
          "output_type": "execute_result",
          "data": {
            "text/plain": [
              "1500.0"
            ]
          },
          "metadata": {},
          "execution_count": 129
        }
      ]
    },
    {
      "cell_type": "code",
      "source": [
        "# novo erro em unidade de moeda\n",
        "e = z_95 * (sigma_amostra / np.sqrt(n_max))\n",
        "e"
      ],
      "metadata": {
        "colab": {
          "base_uri": "https://localhost:8080/"
        },
        "id": "bWZPTNIvgFAp",
        "outputId": "f49c7b38-f98d-4467-f4df-8b2cc1fc609e"
      },
      "execution_count": 130,
      "outputs": [
        {
          "output_type": "execute_result",
          "data": {
            "text/plain": [
              "158.89721122673737"
            ]
          },
          "metadata": {},
          "execution_count": 130
        }
      ]
    },
    {
      "cell_type": "code",
      "source": [
        "erro_percentual = (e / media_amostra)*100\n",
        "f\"{erro_percentual:.2f}%\""
      ],
      "metadata": {
        "colab": {
          "base_uri": "https://localhost:8080/",
          "height": 0
        },
        "id": "lV94V77ig8hs",
        "outputId": "e42dc1d8-dbe2-431d-f070-168f63a24c51"
      },
      "execution_count": 131,
      "outputs": [
        {
          "output_type": "execute_result",
          "data": {
            "text/plain": [
              "'8.09%'"
            ],
            "application/vnd.google.colaboratory.intrinsic+json": {
              "type": "string"
            }
          },
          "metadata": {},
          "execution_count": 131
        }
      ]
    },
    {
      "cell_type": "markdown",
      "source": [
        "#### 7.3.6 Custo para\n",
        "\n",
        "Assumindo um **nível de confiança de 95%**, **quanto a pesquisa custaria ao cliente** caso fosse considerada uma **margem de erro de apenas 5%** em relação a média estimada?"
      ],
      "metadata": {
        "id": "xjwItpcN74nS"
      }
    },
    {
      "cell_type": "code",
      "source": [
        "# erro para margem de erro de 5%, em unidade de moeda\n",
        "e = 0.05 * media_amostra\n",
        "e"
      ],
      "metadata": {
        "colab": {
          "base_uri": "https://localhost:8080/"
        },
        "id": "OtRZRXgbhYAC",
        "outputId": "32312791-ad63-473d-9e71-c5c999a55cda"
      },
      "execution_count": 132,
      "outputs": [
        {
          "output_type": "execute_result",
          "data": {
            "text/plain": [
              "98.21025"
            ]
          },
          "metadata": {},
          "execution_count": 132
        }
      ]
    },
    {
      "cell_type": "code",
      "source": [
        "# tamanho da amostra necessária para garantir o nível de confiança de 95% com margem de erro de 5%\n",
        "n = (z_95 * (sigma_amostra/e))**2\n",
        "n = round(n)\n",
        "n"
      ],
      "metadata": {
        "colab": {
          "base_uri": "https://localhost:8080/"
        },
        "id": "vHQu86w2hX7_",
        "outputId": "05ca4dfb-6355-4349-eee8-8b851a5a37da"
      },
      "execution_count": 133,
      "outputs": [
        {
          "output_type": "execute_result",
          "data": {
            "text/plain": [
              "3927"
            ]
          },
          "metadata": {},
          "execution_count": 133
        }
      ]
    },
    {
      "cell_type": "code",
      "source": [
        "# custo da pesquisa\n",
        "n * custo_entrevista"
      ],
      "metadata": {
        "colab": {
          "base_uri": "https://localhost:8080/"
        },
        "id": "rF5ylWuDhX3Z",
        "outputId": "21112145-8bc1-4afc-dd4a-fcba1b309847"
      },
      "execution_count": 134,
      "outputs": [
        {
          "output_type": "execute_result",
          "data": {
            "text/plain": [
              "392700"
            ]
          },
          "metadata": {},
          "execution_count": 134
        }
      ]
    }
  ]
}